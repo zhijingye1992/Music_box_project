{
 "cells": [
  {
   "cell_type": "markdown",
   "metadata": {},
   "source": [
    "\n",
    "# In MAC command shell, copy and run the commands below for data upzip and clean.\n",
    "\n",
    "## first make pwd to the data folder\n",
    "\n",
    "## unzip uid\n",
    "cp ../data/raw/3_1.uids.gz ../data/all_uid.txt.gz\n",
    "\n",
    "gunzip ../data/all_uid.txt.gz\n",
    "\n",
    "## unzip play log\n",
    "for f in ../data/raw/*_play.log.tar.gz\n",
    "\n",
    "do\n",
    " \n",
    " echo \"Processing $f\"\n",
    " \n",
    " tar -xvzf $f\n",
    "\n",
    "done\n",
    "\n",
    "## make a play folder\n",
    "mkdir play\n",
    "\n",
    "## move play.log files to play folder\n",
    "mv *_play.log ../data/play/\n",
    "\n",
    "cp ../data/raw/*_play.log.gz ../data/play/ \n",
    "\n",
    "gunzip ../data/play/*.gz\n",
    "\n",
    "## append file_name to each row (will be used for date)\n",
    "cd ../data/play/\n",
    "\n",
    "for f in *.log\n",
    "\n",
    "do\n",
    "\n",
    " echo \"Processing $f\"\n",
    " \n",
    " awk -v var=\"$f\" '{print $0,\"\\t\",var}' $f > ${f}.fn\n",
    "\n",
    "done\n",
    "\n",
    "## cat all log with filename to one file\n",
    "\n",
    "cat ../data/play/*.log.fn > /Users/Xiaoxi/Desktop/BitTiger/Capstone/data/all_play.log.fn\n"
   ]
  },
  {
   "cell_type": "code",
   "execution_count": null,
   "metadata": {
    "collapsed": true
   },
   "outputs": [],
   "source": []
  },
  {
   "cell_type": "code",
   "execution_count": null,
   "metadata": {
    "collapsed": true
   },
   "outputs": [],
   "source": []
  },
  {
   "cell_type": "code",
   "execution_count": null,
   "metadata": {
    "collapsed": true
   },
   "outputs": [],
   "source": []
  }
 ],
 "metadata": {
  "kernelspec": {
   "display_name": "Python 2",
   "language": "python",
   "name": "python2"
  },
  "language_info": {
   "codemirror_mode": {
    "name": "ipython",
    "version": 2
   },
   "file_extension": ".py",
   "mimetype": "text/x-python",
   "name": "python",
   "nbconvert_exporter": "python",
   "pygments_lexer": "ipython2",
   "version": "2.7.13"
  }
 },
 "nbformat": 4,
 "nbformat_minor": 2
}
