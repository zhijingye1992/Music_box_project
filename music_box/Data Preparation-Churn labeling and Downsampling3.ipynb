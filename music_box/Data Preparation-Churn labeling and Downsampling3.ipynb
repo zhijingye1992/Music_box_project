{
 "cells": [
  {
   "cell_type": "markdown",
   "metadata": {},
   "source": [
    "## Data Preparation: Churn labeling and Downsampling\n",
    "\n",
    "#### 1. Read the *play.log files line by line, and write only the user ID, device and date of log into a separate file.\n",
    "\n",
    "#### 2. Label churn users: those who played more than three times before the cutoff day but had no acitivity after the cutoff.\n",
    "\n",
    "#### 3. Down sampling is necessary. There are more than 50,000 users and 15 GB log data, which is not necessary for the churn prediction and which costs too much time to process. I used  a down sampling ratio of 1/10, to only include 1/10 users from the active and churn users for the churn prediction model."
   ]
  },
  {
   "cell_type": "markdown",
   "metadata": {},
   "source": [
    "### 1. Churn labeling\n"
   ]
  },
  {
   "cell_type": "code",
   "execution_count": 1,
   "metadata": {
    "collapsed": true
   },
   "outputs": [],
   "source": [
    "import glob\n"
   ]
  },
  {
   "cell_type": "code",
   "execution_count": 2,
   "metadata": {},
   "outputs": [
    {
     "data": {
      "text/plain": [
       "138"
      ]
     },
     "execution_count": 2,
     "metadata": {},
     "output_type": "execute_result"
    }
   ],
   "source": [
    "filepath = '/Users/ZhijingYe/Desktop/data/play/*play.log'\n",
    "files = glob.glob(filepath)\n",
    "# amount of files\n",
    "len(files)"
   ]
  },
  {
   "cell_type": "code",
   "execution_count": 3,
   "metadata": {},
   "outputs": [
    {
     "data": {
      "text/plain": [
       "'/Users/ZhijingYe/Desktop/data/play/20170410_2_play.log'"
      ]
     },
     "execution_count": 3,
     "metadata": {},
     "output_type": "execute_result"
    }
   ],
   "source": [
    "# take a look at one of the files\n",
    "files[0]"
   ]
  },
  {
   "cell_type": "code",
   "execution_count": 4,
   "metadata": {},
   "outputs": [
    {
     "data": {
      "text/plain": [
       "1149628"
      ]
     },
     "execution_count": 4,
     "metadata": {},
     "output_type": "execute_result"
    }
   ],
   "source": [
    "# get an idea how many lines are in one .log file\n",
    "with open(files[0],'r') as f:\n",
    "    lines = f.readlines()\n",
    "    log_lines = len(lines)\n",
    "log_lines"
   ]
  },
  {
   "cell_type": "code",
   "execution_count": 5,
   "metadata": {},
   "outputs": [
    {
     "data": {
      "text/plain": [
       "'168071768\\tar\\t1248464\\t0\\t\\xe6\\x88\\x90\\xe7\\x8e\\x8b\\xe8\\xb4\\xa5\\xe5\\xaf\\x87\\t\\xe9\\x99\\x88\\xe5\\xb0\\x8f\\xe6\\x98\\xa5\\t187\\t187\\t0\\n'"
      ]
     },
     "execution_count": 5,
     "metadata": {},
     "output_type": "execute_result"
    }
   ],
   "source": [
    "# Check one line\n",
    "lines[3]"
   ]
  },
  {
   "cell_type": "code",
   "execution_count": 6,
   "metadata": {},
   "outputs": [
    {
     "data": {
      "text/plain": [
       "['168071768',\n",
       " 'ar',\n",
       " '1248464',\n",
       " '0',\n",
       " '\\xe6\\x88\\x90\\xe7\\x8e\\x8b\\xe8\\xb4\\xa5\\xe5\\xaf\\x87',\n",
       " '\\xe9\\x99\\x88\\xe5\\xb0\\x8f\\xe6\\x98\\xa5',\n",
       " '187',\n",
       " '187',\n",
       " '0',\n",
       " '20170410_2_play.log']"
      ]
     },
     "execution_count": 6,
     "metadata": {},
     "output_type": "execute_result"
    }
   ],
   "source": [
    "test_list = lines[3].strip('\\n').split('\\t')\n",
    "test_list.append(files[0].split('/')[-1])\n",
    "test_list"
   ]
  },
  {
   "cell_type": "code",
   "execution_count": 7,
   "metadata": {},
   "outputs": [
    {
     "name": "stderr",
     "output_type": "stream",
     "text": [
      "/Users/ZhijingYe/anaconda/lib/python2.7/site-packages/pandas/io/parsers.py:1159: DtypeWarning: Columns (0,2,7) have mixed types. Specify dtype option on import or set low_memory=False.\n",
      "  data = self._reader.read(nrows)\n"
     ]
    },
    {
     "data": {
      "text/html": [
       "<div style=\"max-height:1000px;max-width:1500px;overflow:auto;\">\n",
       "<table border=\"1\" class=\"dataframe\">\n",
       "  <thead>\n",
       "    <tr style=\"text-align: right;\">\n",
       "      <th></th>\n",
       "      <th>uid</th>\n",
       "      <th>device</th>\n",
       "      <th>song_id</th>\n",
       "      <th>song_type</th>\n",
       "      <th>song_name</th>\n",
       "      <th>singer</th>\n",
       "      <th>play_time</th>\n",
       "      <th>song_length</th>\n",
       "      <th>paid_flag</th>\n",
       "      <th>file_name</th>\n",
       "    </tr>\n",
       "  </thead>\n",
       "  <tbody>\n",
       "    <tr>\n",
       "      <th>0</th>\n",
       "      <td> 1.683352e+08</td>\n",
       "      <td> ar</td>\n",
       "      <td> 6429024</td>\n",
       "      <td> 0</td>\n",
       "      <td>                 相对湿度</td>\n",
       "      <td>             郑希怡</td>\n",
       "      <td> 238</td>\n",
       "      <td> 238</td>\n",
       "      <td> 0</td>\n",
       "      <td>NaN</td>\n",
       "    </tr>\n",
       "    <tr>\n",
       "      <th>1</th>\n",
       "      <td> 1.683105e+08</td>\n",
       "      <td> ar</td>\n",
       "      <td> 3348254</td>\n",
       "      <td> 0</td>\n",
       "      <td>                 曾经心痛</td>\n",
       "      <td>             袁娅维</td>\n",
       "      <td>  21</td>\n",
       "      <td> 312</td>\n",
       "      <td> 0</td>\n",
       "      <td>NaN</td>\n",
       "    </tr>\n",
       "    <tr>\n",
       "      <th>2</th>\n",
       "      <td> 1.683082e+08</td>\n",
       "      <td> ar</td>\n",
       "      <td> 5436214</td>\n",
       "      <td> 0</td>\n",
       "      <td> Dream A Little Dream</td>\n",
       "      <td> Robbie Williams</td>\n",
       "      <td> 246</td>\n",
       "      <td> 247</td>\n",
       "      <td> 0</td>\n",
       "      <td>NaN</td>\n",
       "    </tr>\n",
       "    <tr>\n",
       "      <th>3</th>\n",
       "      <td> 1.680718e+08</td>\n",
       "      <td> ar</td>\n",
       "      <td> 1248464</td>\n",
       "      <td> 0</td>\n",
       "      <td>                 成王败寇</td>\n",
       "      <td>             陈小春</td>\n",
       "      <td> 187</td>\n",
       "      <td> 187</td>\n",
       "      <td> 0</td>\n",
       "      <td>NaN</td>\n",
       "    </tr>\n",
       "    <tr>\n",
       "      <th>4</th>\n",
       "      <td> 1.684808e+08</td>\n",
       "      <td> ar</td>\n",
       "      <td>  317412</td>\n",
       "      <td> 0</td>\n",
       "      <td>          Kissy Kissy</td>\n",
       "      <td>        Smile.DK</td>\n",
       "      <td> 188</td>\n",
       "      <td> 189</td>\n",
       "      <td> 0</td>\n",
       "      <td>NaN</td>\n",
       "    </tr>\n",
       "  </tbody>\n",
       "</table>\n",
       "</div>"
      ],
      "text/plain": [
       "            uid device  song_id  song_type             song_name  \\\n",
       "0  1.683352e+08     ar  6429024          0                  相对湿度   \n",
       "1  1.683105e+08     ar  3348254          0                  曾经心痛   \n",
       "2  1.683082e+08     ar  5436214          0  Dream A Little Dream   \n",
       "3  1.680718e+08     ar  1248464          0                  成王败寇   \n",
       "4  1.684808e+08     ar   317412          0           Kissy Kissy   \n",
       "\n",
       "            singer play_time song_length  paid_flag  file_name  \n",
       "0              郑希怡       238         238          0        NaN  \n",
       "1              袁娅维        21         312          0        NaN  \n",
       "2  Robbie Williams       246         247          0        NaN  \n",
       "3              陈小春       187         187          0        NaN  \n",
       "4         Smile.DK       188         189          0        NaN  "
      ]
     },
     "execution_count": 7,
     "metadata": {},
     "output_type": "execute_result"
    }
   ],
   "source": [
    "import pandas as pd\n",
    "import numpy as np\n",
    "\n",
    "schema = ['uid','device','song_id','song_type','song_name','singer','play_time','song_length','paid_flag','file_name']\n",
    "df = pd.read_csv(files[0], sep='\\t',header=None,index_col=None,names=schema )\n",
    "df.head()\n",
    "# Note the file_name will be added later"
   ]
  },
  {
   "cell_type": "code",
   "execution_count": null,
   "metadata": {
    "collapsed": true
   },
   "outputs": [],
   "source": []
  },
  {
   "cell_type": "markdown",
   "metadata": {},
   "source": [
    "### Save reduced play logs to two log files.\n",
    "Only the first two items of each line, user id and device, and the date of the log are saved, so it's called reduced play logs."
   ]
  },
  {
   "cell_type": "code",
   "execution_count": 8,
   "metadata": {
    "collapsed": true
   },
   "outputs": [],
   "source": [
    "# 04/22 is the cutoff date for labeling churns\n",
    "cutoff = '20170422'"
   ]
  },
  {
   "cell_type": "code",
   "execution_count": 9,
   "metadata": {
    "collapsed": true
   },
   "outputs": [],
   "source": [
    "# destination file names to save the reduced logs.\n",
    "first_period_log = '/Users/ZhijingYe/Desktop/data/output/play_till_cutoff.log'\n",
    "second_period_log = '/Users/ZhijingYe/Desktop/data/output/play_after_cutoff.log'"
   ]
  },
  {
   "cell_type": "code",
   "execution_count": 10,
   "metadata": {},
   "outputs": [
    {
     "name": "stdout",
     "output_type": "stream",
     "text": [
      "processing file: 20170410_2_play.log\n",
      "...costs 3.02 seconds\n",
      "processing file: 20170410_3_play.log\n",
      "...costs 2.89 seconds\n",
      "processing file: 20170427_3_play.log\n",
      "...costs 2.90 seconds\n",
      "processing file: 20170427_2_play.log\n",
      "...costs 2.27 seconds\n",
      "processing file: 20170504_3_play.log\n",
      "...costs 2.05 seconds\n",
      "processing file: 20170504_2_play.log\n",
      "...costs 1.93 seconds\n",
      "processing file: 20170508_1_play.log\n",
      "...costs 2.01 seconds\n",
      "processing file: 20170505_1_play.log\n",
      "...costs 2.07 seconds\n",
      "processing file: 20170411_1_play.log\n",
      "...costs 2.74 seconds\n",
      "processing file: 20170426_1_play.log\n",
      "...costs 2.23 seconds\n",
      "processing file: 20170509_3_play.log\n",
      "...costs 1.81 seconds\n",
      "processing file: 20170509_2_play.log\n",
      "...costs 1.93 seconds\n",
      "processing file: 20170401_2_play.log\n",
      "...costs 4.37 seconds\n",
      "processing file: 20170401_3_play.log\n",
      "...costs 5.01 seconds\n",
      "processing file: 20170423_1_play.log\n",
      "...costs 2.54 seconds\n",
      "processing file: 20170414_1_play.log\n",
      "...costs 1.88 seconds\n",
      "processing file: 20170418_2_play.log\n",
      "...costs 2.39 seconds\n",
      "processing file: 20170418_3_play.log\n",
      "...costs 2.35 seconds\n",
      "processing file: 20170408_1_play.log\n",
      "...costs 3.25 seconds\n",
      "processing file: 20170404_2_play.log\n",
      "...costs 3.94 seconds\n",
      "processing file: 20170404_3_play.log\n",
      "...costs 3.89 seconds\n",
      "processing file: 20170510_3_play.log\n",
      "...costs 1.98 seconds\n",
      "processing file: 20170308_1_play.log\n",
      "...costs 3.13 seconds\n",
      "processing file: 20170510_2_play.log\n",
      "...costs 1.88 seconds\n",
      "processing file: 20170501_3_play.log\n",
      "...costs 2.21 seconds\n",
      "processing file: 20170501_2_play.log\n",
      "...costs 2.12 seconds\n",
      "processing file: 20170422_3_play.log\n",
      "...costs 2.34 seconds\n",
      "processing file: 20170422_2_play.log\n",
      "...costs 2.33 seconds\n",
      "processing file: 20170415_2_play.log\n",
      "...costs 2.56 seconds\n",
      "processing file: 20170415_3_play.log\n",
      "...costs 2.65 seconds\n",
      "processing file: 20170419_1_play.log\n",
      "...costs 2.25 seconds\n",
      "processing file: 20170409_2_play.log\n",
      "...costs 3.18 seconds\n",
      "processing file: 20170409_3_play.log\n",
      "...costs 3.18 seconds\n",
      "processing file: 20170305_1_play.log\n",
      "...costs 3.99 seconds\n",
      "processing file: 20170511_1_play.log\n",
      "...costs 2.23 seconds\n",
      "processing file: 20170405_1_play.log\n",
      "...costs 2.99 seconds\n",
      "processing file: 20170302_1_play.log\n",
      "...costs 6.22 seconds\n",
      "processing file: 20170402_1_play.log\n",
      "...costs 4.54 seconds\n",
      "processing file: 20170425_2_play.log\n",
      "...costs 2.09 seconds\n",
      "processing file: 20170425_3_play.log\n",
      "...costs 2.31 seconds\n",
      "processing file: 20170412_3_play.log\n",
      "...costs 2.76 seconds\n",
      "processing file: 20170412_2_play.log\n",
      "...costs 2.81 seconds\n",
      "processing file: 20170506_2_play.log\n",
      "...costs 2.34 seconds\n",
      "processing file: 20170506_3_play.log\n",
      "...costs 2.26 seconds\n",
      "processing file: 20170429_1_play.log\n",
      "...costs 2.55 seconds\n",
      "processing file: 20170403_2_play.log\n",
      "...costs 4.32 seconds\n",
      "processing file: 20170507_1_play.log\n",
      "...costs 2.19 seconds\n",
      "processing file: 20170424_1_play.log\n",
      "...costs 1.34 seconds\n",
      "processing file: 20170413_1_play.log\n",
      "...costs 2.59 seconds\n",
      "processing file: 20170428_2_play.log\n",
      "...costs 2.48 seconds\n",
      "processing file: 20170428_3_play.log\n",
      "...costs 2.34 seconds\n",
      "processing file: 20170331_2_play.log\n",
      "...costs 5.28 seconds\n",
      "processing file: 20170331_3_play.log\n",
      "...costs 7.89 seconds\n",
      "processing file: 20170406_3_play.log\n",
      "...costs 3.33 seconds\n",
      "processing file: 20170406_2_play.log\n",
      "...costs 3.08 seconds\n",
      "processing file: 20170512_2_play.log\n",
      "...costs 2.07 seconds\n",
      "processing file: 20170512_3_play.log\n",
      "...costs 1.92 seconds\n",
      "processing file: 20170416_1_play.log\n",
      "...costs 2.89 seconds\n",
      "processing file: 20170421_1_play.log\n",
      "...costs 2.38 seconds\n",
      "processing file: 20170502_1_play.log\n",
      "...costs 2.10 seconds\n",
      "processing file: 20170307_1_play.log\n",
      "...costs 3.02 seconds\n",
      "processing file: 20170430_1_play.log\n",
      "...costs 2.43 seconds\n",
      "processing file: 20170407_1_play.log\n",
      "...costs 2.90 seconds\n",
      "processing file: 20170503_2_play.log\n",
      "...costs 1.95 seconds\n",
      "processing file: 20170503_3_play.log\n",
      "...costs 1.95 seconds\n",
      "processing file: 20170417_3_play.log\n",
      "...costs 2.40 seconds\n",
      "processing file: 20170417_2_play.log\n",
      "...costs 2.43 seconds\n",
      "processing file: 20170420_2_play.log\n",
      "...costs 2.32 seconds\n",
      "processing file: 20170420_3_play.log\n",
      "...costs 2.18 seconds\n",
      "processing file: 20170422_1_play.log\n",
      "...costs 2.57 seconds\n",
      "processing file: 20170415_1_play.log\n",
      "...costs 2.78 seconds\n",
      "processing file: 20170501_1_play.log\n",
      "...costs 2.41 seconds\n",
      "processing file: 20170419_3_play.log\n",
      "...costs 2.56 seconds\n",
      "processing file: 20170419_2_play.log\n",
      "...costs 2.61 seconds\n",
      "processing file: 20170409_1_play.log\n",
      "...costs 3.09 seconds\n",
      "processing file: 20170405_3_play.log\n",
      "...costs 3.17 seconds\n",
      "processing file: 20170405_2_play.log\n",
      "...costs 3.11 seconds\n",
      "processing file: 20170309_1_play.log\n",
      "...costs 2.89 seconds\n",
      "processing file: 20170511_2_play.log\n",
      "...costs 1.89 seconds\n",
      "processing file: 20170511_3_play.log\n",
      "...costs 1.89 seconds\n",
      "processing file: 20170423_2_play.log\n",
      "...costs 2.45 seconds\n",
      "processing file: 20170423_3_play.log\n",
      "...costs 2.47 seconds\n",
      "processing file: 20170414_3_play.log\n",
      "...costs 1.81 seconds\n",
      "processing file: 20170414_2_play.log\n",
      "...costs 1.89 seconds\n",
      "processing file: 20170418_1_play.log\n",
      "...costs 2.35 seconds\n",
      "processing file: 20170301_play.log\n",
      "...costs 8.80 seconds\n",
      "processing file: 20170408_3_play.log\n",
      "...costs 3.43 seconds\n",
      "processing file: 20170408_2_play.log\n",
      "...costs 3.13 seconds\n",
      "processing file: 20170304_1_play.log\n",
      "...costs 4.05 seconds\n",
      "processing file: 20170510_1_play.log\n",
      "...costs 2.04 seconds\n",
      "processing file: 20170404_1_play.log\n",
      "...costs 4.52 seconds\n",
      "processing file: 20170411_2_play.log\n",
      "...costs 2.94 seconds\n",
      "processing file: 20170426_2_play.log\n",
      "...costs 2.28 seconds\n",
      "processing file: 20170426_3_play.log\n",
      "...costs 2.49 seconds\n",
      "processing file: 20170505_2_play.log\n",
      "...costs 2.09 seconds\n",
      "processing file: 20170505_3_play.log\n",
      "...costs 1.88 seconds\n",
      "processing file: 20170509_1_play.log\n",
      "...costs 2.10 seconds\n",
      "processing file: 20170401_1_play.log\n",
      "...costs 3.91 seconds\n",
      "processing file: 20170504_1_play.log\n",
      "...costs 2.01 seconds\n",
      "processing file: 20170410_1_play.log\n",
      "...costs 2.69 seconds\n",
      "processing file: 20170427_1_play.log\n",
      "...costs 2.17 seconds\n",
      "processing file: 20170508_2_play.log\n",
      "...costs 1.90 seconds\n",
      "processing file: 20170508_3_play.log\n",
      "...costs 1.90 seconds\n",
      "processing file: 20170330_3_play.log\n",
      "...costs 12.15 seconds\n",
      "processing file: 20170430_3_play.log\n",
      "...costs 2.70 seconds\n",
      "processing file: 20170430_2_play.log\n",
      "...costs 2.59 seconds\n",
      "processing file: 20170407_2_play.log\n",
      "...costs 2.81 seconds\n",
      "processing file: 20170407_3_play.log\n",
      "...costs 2.87 seconds\n",
      "processing file: 20170417_1_play.log\n",
      "...costs 2.49 seconds\n",
      "processing file: 20170420_1_play.log\n",
      "...costs 2.35 seconds\n",
      "processing file: 20170503_1_play.log\n",
      "...costs 1.98 seconds\n",
      "processing file: 20170331_1_play.log\n",
      "...costs 4.26 seconds\n",
      "processing file: 20170306_1_play.log\n",
      "...costs 3.23 seconds\n",
      "processing file: 20170512_1_play.log\n",
      "...costs 1.97 seconds\n",
      "processing file: 20170406_1_play.log\n",
      "...costs 3.00 seconds\n",
      "processing file: 20170502_3_play.log\n",
      "...costs 1.86 seconds\n",
      "processing file: 20170502_2_play.log\n",
      "...costs 1.87 seconds\n",
      "processing file: 20170416_2_play.log\n",
      "...costs 2.72 seconds\n",
      "processing file: 20170416_3_play.log\n",
      "...costs 2.72 seconds\n",
      "processing file: 20170421_3_play.log\n",
      "...costs 2.26 seconds\n",
      "processing file: 20170421_2_play.log\n",
      "...costs 2.30 seconds\n",
      "processing file: 20170303_1_play.log\n",
      "...costs 4.44 seconds\n",
      "processing file: 20170403_1_play.log\n",
      "...costs 4.09 seconds\n",
      "processing file: 20170424_3_play.log\n",
      "...costs 2.11 seconds\n",
      "processing file: 20170424_2_play.log\n",
      "...costs 0.34 seconds\n",
      "processing file: 20170413_2_play.log\n",
      "...costs 2.58 seconds\n",
      "processing file: 20170413_3_play.log\n",
      "...costs 2.67 seconds\n",
      "processing file: 20170507_3_play.log\n",
      "...costs 2.08 seconds\n",
      "processing file: 20170507_2_play.log\n",
      "...costs 2.16 seconds\n",
      "processing file: 20170428_1_play.log\n",
      "...costs 2.14 seconds\n",
      "processing file: 20170339_1_play.log\n",
      "...costs 5.11 seconds\n",
      "processing file: 20170402_2_play.log\n",
      "...costs 4.55 seconds\n",
      "processing file: 20170402_3_play.log\n",
      "...costs 4.52 seconds\n",
      "processing file: 20170506_1_play.log\n",
      "...costs 2.29 seconds\n",
      "processing file: 20170425_1_play.log\n",
      "...costs 2.27 seconds\n",
      "processing file: 20170412_1_play.log\n",
      "...costs 2.61 seconds\n",
      "processing file: 20170429_3_play.log\n",
      "...costs 2.68 seconds\n",
      "processing file: 20170429_2_play.log\n",
      "...costs 2.60 seconds\n"
     ]
    }
   ],
   "source": [
    "import time\n",
    "\n",
    "for each_file in files:\n",
    "    current_time = time.clock()\n",
    "\n",
    "    with open(each_file, 'r') as f:\n",
    "        lines = f.readlines()\n",
    "        filename = f.name.split('/')[-1]\n",
    "        print('processing file: %s' % filename)\n",
    "        #choose the output path\n",
    "        if filename < cutoff:\n",
    "            output_path = first_period_log\n",
    "        else:\n",
    "            output_path = second_period_log\n",
    "        # write to the output file\n",
    "        with open(output_path, 'a') as output:\n",
    "            for line in lines:\n",
    "                fields_to_keep = line.strip('\\n').split('\\t')[:2]\n",
    "                fields_to_keep.append(filename)\n",
    "                output.write('\\t'.join(fields_to_keep)+'\\n')\n",
    "    print('...costs %.2f seconds' % (time.clock()-current_time))"
   ]
  },
  {
   "cell_type": "code",
   "execution_count": 11,
   "metadata": {},
   "outputs": [
    {
     "data": {
      "text/html": [
       "<div style=\"max-height:1000px;max-width:1500px;overflow:auto;\">\n",
       "<table border=\"1\" class=\"dataframe\">\n",
       "  <thead>\n",
       "    <tr style=\"text-align: right;\">\n",
       "      <th></th>\n",
       "      <th>uid</th>\n",
       "      <th>device</th>\n",
       "      <th>file_name</th>\n",
       "    </tr>\n",
       "  </thead>\n",
       "  <tbody>\n",
       "    <tr>\n",
       "      <th>0</th>\n",
       "      <td> 168335198</td>\n",
       "      <td> ar</td>\n",
       "      <td> 20170410_2_play.log</td>\n",
       "    </tr>\n",
       "    <tr>\n",
       "      <th>1</th>\n",
       "      <td> 168310452</td>\n",
       "      <td> ar</td>\n",
       "      <td> 20170410_2_play.log</td>\n",
       "    </tr>\n",
       "    <tr>\n",
       "      <th>2</th>\n",
       "      <td> 168308159</td>\n",
       "      <td> ar</td>\n",
       "      <td> 20170410_2_play.log</td>\n",
       "    </tr>\n",
       "    <tr>\n",
       "      <th>3</th>\n",
       "      <td> 168071768</td>\n",
       "      <td> ar</td>\n",
       "      <td> 20170410_2_play.log</td>\n",
       "    </tr>\n",
       "    <tr>\n",
       "      <th>4</th>\n",
       "      <td> 168480816</td>\n",
       "      <td> ar</td>\n",
       "      <td> 20170410_2_play.log</td>\n",
       "    </tr>\n",
       "  </tbody>\n",
       "</table>\n",
       "</div>"
      ],
      "text/plain": [
       "         uid device            file_name\n",
       "0  168335198     ar  20170410_2_play.log\n",
       "1  168310452     ar  20170410_2_play.log\n",
       "2  168308159     ar  20170410_2_play.log\n",
       "3  168071768     ar  20170410_2_play.log\n",
       "4  168480816     ar  20170410_2_play.log"
      ]
     },
     "execution_count": 11,
     "metadata": {},
     "output_type": "execute_result"
    }
   ],
   "source": [
    "import pandas as pd\n",
    "\n",
    "schema = ['uid','device','file_name']\n",
    "df_1 = pd.read_csv(first_period_log,delimiter='\\t',header=None,index_col=None,names=schema, dtype = {'uid':'str'})\n",
    "df_1.head()"
   ]
  },
  {
   "cell_type": "code",
   "execution_count": 12,
   "metadata": {},
   "outputs": [
    {
     "name": "stdout",
     "output_type": "stream",
     "text": [
      "<class 'pandas.core.frame.DataFrame'>\n",
      "Int64Index: 321455544 entries, 0 to 321455543\n",
      "Data columns (total 3 columns):\n",
      "uid          object\n",
      "device       object\n",
      "file_name    object\n",
      "dtypes: object(3)\n",
      "memory usage: 9.6+ GB\n"
     ]
    }
   ],
   "source": [
    "df_1.info()"
   ]
  },
  {
   "cell_type": "code",
   "execution_count": 13,
   "metadata": {
    "collapsed": true
   },
   "outputs": [],
   "source": [
    "# change file_name to date\n",
    "def get_date(file_name):\n",
    "    tmp_list = str(file_name).split('_')\n",
    "    return tmp_list[0]\n",
    "df_1['date'] = df_1['file_name'].map(get_date)"
   ]
  },
  {
   "cell_type": "code",
   "execution_count": 14,
   "metadata": {
    "collapsed": true
   },
   "outputs": [],
   "source": [
    "df_1 = df_1.drop(['file_name'], axis = 1)"
   ]
  },
  {
   "cell_type": "code",
   "execution_count": null,
   "metadata": {
    "collapsed": true
   },
   "outputs": [],
   "source": []
  },
  {
   "cell_type": "code",
   "execution_count": null,
   "metadata": {
    "collapsed": true
   },
   "outputs": [],
   "source": []
  },
  {
   "cell_type": "markdown",
   "metadata": {},
   "source": [
    "### Explore the data"
   ]
  },
  {
   "cell_type": "code",
   "execution_count": 18,
   "metadata": {},
   "outputs": [
    {
     "data": {
      "text/plain": [
       "847330"
      ]
     },
     "execution_count": 18,
     "metadata": {},
     "output_type": "execute_result"
    }
   ],
   "source": [
    "len(df_1['uid'].unique())"
   ]
  },
  {
   "cell_type": "code",
   "execution_count": 19,
   "metadata": {},
   "outputs": [
    {
     "data": {
      "text/plain": [
       "array(['ar', 'ip', 'mc', 'wp', 'ar ', 'ip ', '20170302_1_play.log',\n",
       "       '168589573', '20170301_play.log', nan, '20170303_1_play.log',\n",
       "       '20170339_1_play.log'], dtype=object)"
      ]
     },
     "execution_count": 19,
     "metadata": {},
     "output_type": "execute_result"
    }
   ],
   "source": [
    "df_1['device'].unique()"
   ]
  },
  {
   "cell_type": "code",
   "execution_count": 21,
   "metadata": {
    "collapsed": true
   },
   "outputs": [],
   "source": [
    "#  len(df_1['file_name'].unique())"
   ]
  },
  {
   "cell_type": "code",
   "execution_count": 22,
   "metadata": {},
   "outputs": [
    {
     "data": {
      "text/plain": [
       "1685126      11778180\n",
       "37025504      8535228\n",
       "751824        6796068\n",
       "1791497       5987916\n",
       "497685        4519674\n",
       "1062806       3776580\n",
       "736305        2829009\n",
       "1685126       1884981\n",
       "0             1815633\n",
       "37025504      1381125\n",
       "1749320       1207488\n",
       "1679121        784674\n",
       "46532274       756681\n",
       "28638487       634440\n",
       "637650         350460\n",
       "...\n",
       "167679654     3\n",
       "168963526     3\n",
       "168327556     3\n",
       "154699061     3\n",
       "168963528     3\n",
       "168761341     3\n",
       "154652167     3\n",
       "168686496     3\n",
       "154828622     3\n",
       "154494259     3\n",
       "154502301     3\n",
       "168280933     3\n",
       "154426629     3\n",
       "167932419     3\n",
       "168891406     3\n",
       "Length: 847329, dtype: int64"
      ]
     },
     "execution_count": 22,
     "metadata": {},
     "output_type": "execute_result"
    }
   ],
   "source": [
    "df_1.uid.value_counts()"
   ]
  },
  {
   "cell_type": "markdown",
   "metadata": {},
   "source": [
    "Looks like uid = 0 should be testing id. And those uid with log numbers larger than that of uid = 0 may be robot. Check the device type of these ids. These user id will be deleted later.\n"
   ]
  },
  {
   "cell_type": "markdown",
   "metadata": {},
   "source": [
    "### Criteria of active user: number of activities before cutoff date >= 3\n",
    "### Criteria of churn user: active users that have no activity after cutoff date\n",
    "### Criteria of loyal user: a user has>= 3 activities before cutoff date and has recent activity after cutoff date"
   ]
  },
  {
   "cell_type": "code",
   "execution_count": 23,
   "metadata": {},
   "outputs": [
    {
     "data": {
      "text/plain": [
       "(847329, 0)"
      ]
     },
     "execution_count": 23,
     "metadata": {},
     "output_type": "execute_result"
    }
   ],
   "source": [
    "# total number of active users and inactive users before the cutoff date\n",
    "active = df_1.uid.value_counts()>=3\n",
    "sum(active),sum(active==0)"
   ]
  },
  {
   "cell_type": "code",
   "execution_count": 24,
   "metadata": {
    "collapsed": true
   },
   "outputs": [],
   "source": [
    "active_users = [active.index[i] for i in xrange(len(active)) if active[i]]"
   ]
  },
  {
   "cell_type": "code",
   "execution_count": 25,
   "metadata": {},
   "outputs": [
    {
     "data": {
      "text/plain": [
       "847329"
      ]
     },
     "execution_count": 25,
     "metadata": {},
     "output_type": "execute_result"
    }
   ],
   "source": [
    "len(active_users)"
   ]
  },
  {
   "cell_type": "code",
   "execution_count": 26,
   "metadata": {
    "collapsed": true
   },
   "outputs": [],
   "source": [
    "active_set = set(active_users)"
   ]
  },
  {
   "cell_type": "code",
   "execution_count": 27,
   "metadata": {},
   "outputs": [
    {
     "data": {
      "text/plain": [
       "847329"
      ]
     },
     "execution_count": 27,
     "metadata": {},
     "output_type": "execute_result"
    }
   ],
   "source": [
    "len(active_set)"
   ]
  },
  {
   "cell_type": "code",
   "execution_count": 28,
   "metadata": {},
   "outputs": [
    {
     "data": {
      "text/html": [
       "<div style=\"max-height:1000px;max-width:1500px;overflow:auto;\">\n",
       "<table border=\"1\" class=\"dataframe\">\n",
       "  <thead>\n",
       "    <tr style=\"text-align: right;\">\n",
       "      <th></th>\n",
       "      <th>uid</th>\n",
       "      <th>device</th>\n",
       "      <th>file_name</th>\n",
       "    </tr>\n",
       "  </thead>\n",
       "  <tbody>\n",
       "    <tr>\n",
       "      <th>0</th>\n",
       "      <td> 169026646</td>\n",
       "      <td> ar</td>\n",
       "      <td> 20170427_3_play.log</td>\n",
       "    </tr>\n",
       "    <tr>\n",
       "      <th>1</th>\n",
       "      <td> 168553991</td>\n",
       "      <td> ar</td>\n",
       "      <td> 20170427_3_play.log</td>\n",
       "    </tr>\n",
       "    <tr>\n",
       "      <th>2</th>\n",
       "      <td>   1685126</td>\n",
       "      <td> ar</td>\n",
       "      <td> 20170427_3_play.log</td>\n",
       "    </tr>\n",
       "    <tr>\n",
       "      <th>3</th>\n",
       "      <td> 168845172</td>\n",
       "      <td> ar</td>\n",
       "      <td> 20170427_3_play.log</td>\n",
       "    </tr>\n",
       "    <tr>\n",
       "      <th>4</th>\n",
       "      <td> 168538454</td>\n",
       "      <td> ar</td>\n",
       "      <td> 20170427_3_play.log</td>\n",
       "    </tr>\n",
       "  </tbody>\n",
       "</table>\n",
       "</div>"
      ],
      "text/plain": [
       "         uid device            file_name\n",
       "0  169026646     ar  20170427_3_play.log\n",
       "1  168553991     ar  20170427_3_play.log\n",
       "2    1685126     ar  20170427_3_play.log\n",
       "3  168845172     ar  20170427_3_play.log\n",
       "4  168538454     ar  20170427_3_play.log"
      ]
     },
     "execution_count": 28,
     "metadata": {},
     "output_type": "execute_result"
    }
   ],
   "source": [
    "# Now process the recent play.log file to get recent users.\n",
    "df_2 = pd.read_csv(second_period_log,delimiter='\\t',header=None,index_col=None,names=schema, dtype = {'uid':'str'})\n",
    "df_2.head()"
   ]
  },
  {
   "cell_type": "code",
   "execution_count": 29,
   "metadata": {},
   "outputs": [
    {
     "name": "stdout",
     "output_type": "stream",
     "text": [
      "<class 'pandas.core.frame.DataFrame'>\n",
      "Int64Index: 172407126 entries, 0 to 172407125\n",
      "Data columns (total 3 columns):\n",
      "uid          object\n",
      "device       object\n",
      "file_name    object\n",
      "dtypes: object(3)\n",
      "memory usage: 5.1+ GB\n"
     ]
    }
   ],
   "source": [
    "df_2.info()\n"
   ]
  },
  {
   "cell_type": "code",
   "execution_count": 30,
   "metadata": {
    "collapsed": true
   },
   "outputs": [],
   "source": [
    "active_recent = df_2.uid.value_counts()"
   ]
  },
  {
   "cell_type": "code",
   "execution_count": 31,
   "metadata": {},
   "outputs": [
    {
     "data": {
      "text/plain": [
       "273222"
      ]
     },
     "execution_count": 31,
     "metadata": {},
     "output_type": "execute_result"
    }
   ],
   "source": [
    "len(active_recent) "
   ]
  },
  {
   "cell_type": "code",
   "execution_count": 32,
   "metadata": {},
   "outputs": [
    {
     "data": {
      "text/plain": [
       "numpy.int64"
      ]
     },
     "execution_count": 32,
     "metadata": {},
     "output_type": "execute_result"
    }
   ],
   "source": [
    "type(active_recent[0])"
   ]
  },
  {
   "cell_type": "code",
   "execution_count": 33,
   "metadata": {},
   "outputs": [
    {
     "data": {
      "text/plain": [
       "273222"
      ]
     },
     "execution_count": 33,
     "metadata": {},
     "output_type": "execute_result"
    }
   ],
   "source": [
    "active_set_recent = set(active_recent.index)\n",
    "len(active_set_recent)"
   ]
  },
  {
   "cell_type": "code",
   "execution_count": 34,
   "metadata": {},
   "outputs": [
    {
     "data": {
      "text/plain": [
       "598465"
      ]
     },
     "execution_count": 34,
     "metadata": {},
     "output_type": "execute_result"
    }
   ],
   "source": [
    "# Churn user set:\n",
    "churn_set = active_set - active_set_recent\n",
    "len(churn_set)"
   ]
  },
  {
   "cell_type": "code",
   "execution_count": 35,
   "metadata": {},
   "outputs": [
    {
     "data": {
      "text/plain": [
       "248864"
      ]
     },
     "execution_count": 35,
     "metadata": {},
     "output_type": "execute_result"
    }
   ],
   "source": [
    "# Loyal user set:\n",
    "loyal_set = active_set & active_set_recent\n",
    "len(loyal_set)"
   ]
  },
  {
   "cell_type": "markdown",
   "metadata": {},
   "source": [
    "### Down sample and save reduced dataframe"
   ]
  },
  {
   "cell_type": "code",
   "execution_count": 36,
   "metadata": {
    "collapsed": true
   },
   "outputs": [],
   "source": [
    "import random\n",
    "\n",
    "random.seed(42)"
   ]
  },
  {
   "cell_type": "code",
   "execution_count": 37,
   "metadata": {},
   "outputs": [
    {
     "data": {
      "text/plain": [
       "24886"
      ]
     },
     "execution_count": 37,
     "metadata": {},
     "output_type": "execute_result"
    }
   ],
   "source": [
    "loyal_sample = random.sample(loyal_set,len(loyal_set)/10)\n",
    "len(loyal_sample)"
   ]
  },
  {
   "cell_type": "code",
   "execution_count": 38,
   "metadata": {},
   "outputs": [
    {
     "data": {
      "text/plain": [
       "59846"
      ]
     },
     "execution_count": 38,
     "metadata": {},
     "output_type": "execute_result"
    }
   ],
   "source": [
    "churn_sample = random.sample(churn_set,len(churn_set)/10)\n",
    "len(churn_sample)"
   ]
  },
  {
   "cell_type": "code",
   "execution_count": 39,
   "metadata": {
    "collapsed": true
   },
   "outputs": [],
   "source": [
    "churn_sample_list = list(churn_sample)"
   ]
  },
  {
   "cell_type": "code",
   "execution_count": 40,
   "metadata": {
    "collapsed": true
   },
   "outputs": [],
   "source": [
    "loyal_sample_list = list(loyal_sample)"
   ]
  },
  {
   "cell_type": "code",
   "execution_count": 41,
   "metadata": {
    "collapsed": true
   },
   "outputs": [],
   "source": [
    "outfile = open(\"/Users/ZhijingYe/Desktop/data/output/churn_sample_list.pkl\",\"w\") "
   ]
  },
  {
   "cell_type": "code",
   "execution_count": 42,
   "metadata": {
    "collapsed": true
   },
   "outputs": [],
   "source": [
    "import numpy as np\n",
    "np.save(\"/Users/ZhijingYe/Desktop/data/output/churn_sample_list\",churn_sample_list)"
   ]
  },
  {
   "cell_type": "code",
   "execution_count": 43,
   "metadata": {
    "collapsed": true
   },
   "outputs": [],
   "source": [
    "np.save(\"/Users/ZhijingYe/Desktop/data/output/loyal_sample_list\",loyal_sample_list)"
   ]
  },
  {
   "cell_type": "code",
   "execution_count": null,
   "metadata": {
    "collapsed": true
   },
   "outputs": [],
   "source": []
  },
  {
   "cell_type": "code",
   "execution_count": null,
   "metadata": {
    "collapsed": true
   },
   "outputs": [],
   "source": []
  },
  {
   "cell_type": "code",
   "execution_count": null,
   "metadata": {
    "collapsed": true
   },
   "outputs": [],
   "source": []
  },
  {
   "cell_type": "code",
   "execution_count": null,
   "metadata": {
    "collapsed": true
   },
   "outputs": [],
   "source": []
  },
  {
   "cell_type": "code",
   "execution_count": null,
   "metadata": {
    "collapsed": true
   },
   "outputs": [],
   "source": []
  },
  {
   "cell_type": "code",
   "execution_count": 44,
   "metadata": {
    "collapsed": true
   },
   "outputs": [],
   "source": [
    "df_churn = df_1.loc[df_1.uid.isin(churn_sample),:]"
   ]
  },
  {
   "cell_type": "code",
   "execution_count": 45,
   "metadata": {},
   "outputs": [
    {
     "data": {
      "text/plain": [
       "(9814302, 3)"
      ]
     },
     "execution_count": 45,
     "metadata": {},
     "output_type": "execute_result"
    }
   ],
   "source": [
    "df_churn.shape"
   ]
  },
  {
   "cell_type": "code",
   "execution_count": 46,
   "metadata": {
    "collapsed": true
   },
   "outputs": [],
   "source": [
    "df_loyal_log = df_1.loc[df_1.uid.isin(loyal_sample),:]"
   ]
  },
  {
   "cell_type": "code",
   "execution_count": 47,
   "metadata": {},
   "outputs": [
    {
     "data": {
      "text/plain": [
       "(35070042, 3)"
      ]
     },
     "execution_count": 47,
     "metadata": {},
     "output_type": "execute_result"
    }
   ],
   "source": [
    "df_loyal_log.shape"
   ]
  },
  {
   "cell_type": "code",
   "execution_count": 48,
   "metadata": {
    "collapsed": true
   },
   "outputs": [],
   "source": [
    "df_churn.to_csv('/Users/ZhijingYe/Desktop/data/output/churn_df_sample.csv',sep='\\t', encoding='utf-8')\n",
    "df_loyal_log.to_csv('/Users/ZhijingYe/Desktop/data/output/loyal_df_sample.csv',sep='\\t', encoding='utf-8')"
   ]
  },
  {
   "cell_type": "markdown",
   "metadata": {},
   "source": []
  },
  {
   "cell_type": "code",
   "execution_count": 49,
   "metadata": {
    "collapsed": true
   },
   "outputs": [],
   "source": [
    "import glob"
   ]
  },
  {
   "cell_type": "code",
   "execution_count": 50,
   "metadata": {},
   "outputs": [
    {
     "data": {
      "text/plain": [
       "138"
      ]
     },
     "execution_count": 50,
     "metadata": {},
     "output_type": "execute_result"
    }
   ],
   "source": [
    "filepath = '/Users/ZhijingYe/Desktop/data/play/*play.log'\n",
    "files = glob.glob(filepath)\n",
    "# amount of files\n",
    "len(files)"
   ]
  },
  {
   "cell_type": "code",
   "execution_count": 51,
   "metadata": {
    "collapsed": true
   },
   "outputs": [],
   "source": [
    "schema = ['uid','device','song_id','song_type','song_name','singer','play_time','song_length','paid_flag','file_name','label']"
   ]
  },
  {
   "cell_type": "code",
   "execution_count": 52,
   "metadata": {
    "collapsed": true
   },
   "outputs": [],
   "source": [
    "output = open('/Users/ZhijingYe/Desktop/data/output/user_sample_play.log','a')"
   ]
  },
  {
   "cell_type": "code",
   "execution_count": null,
   "metadata": {},
   "outputs": [
    {
     "name": "stdout",
     "output_type": "stream",
     "text": [
      "processing file: 20170410_2_play.log\n"
     ]
    }
   ],
   "source": [
    "import time\n",
    "\n",
    "\n",
    "for the_file in files:\n",
    "    current_time = time.clock()\n",
    "\n",
    "    with open(the_file, 'r') as f:\n",
    "        lines = f.readlines()\n",
    "        file_name = f.name.split('/')[-1]\n",
    "        print('processing file: %s' % file_name)\n",
    "        for line in lines:\n",
    "            user_id = line.strip('\\n').split('\\t')[0]\n",
    "            if user_id in churn_sample:\n",
    "                contents_to_wirte = line.strip('\\n').split('\\t')\n",
    "                contents_to_wirte.extend((file_name, '1'))\n",
    "            elif user_id in loyal_sample:\n",
    "                contents_to_wirte = line.strip('\\n').split('\\t')\n",
    "                contents_to_wirte.extend((file_name, '0'))\n",
    "            else:\n",
    "                continue  \n",
    "            output.write('\\t'.join(contents_to_wirte)+'\\n')\n",
    "    print('...costs %.2f seconds' % (time.clock()-current_time))"
   ]
  },
  {
   "cell_type": "code",
   "execution_count": null,
   "metadata": {
    "collapsed": true
   },
   "outputs": [],
   "source": [
    "output.close()"
   ]
  },
  {
   "cell_type": "code",
   "execution_count": null,
   "metadata": {
    "collapsed": true
   },
   "outputs": [],
   "source": [
    "df_play = pd.read_csv('/Users/ZhijingYe/Desktop/data/output/user_sample_play.log',\n",
    "                 delimiter='\\t',header=None,index_col=None,names = schema,\n",
    "                 dtype = {'uid':'str', 'song_id':'str','song_type' : 'str'})\n",
    "df_play.head()"
   ]
  },
  {
   "cell_type": "code",
   "execution_count": null,
   "metadata": {
    "collapsed": true
   },
   "outputs": [],
   "source": [
    "df_play.info()"
   ]
  }
 ],
 "metadata": {
  "kernelspec": {
   "display_name": "Python 3",
   "language": "python",
   "name": "python3"
  },
  "language_info": {
   "codemirror_mode": {
    "name": "ipython",
    "version": 3
   },
   "file_extension": ".py",
   "mimetype": "text/x-python",
   "name": "python",
   "nbconvert_exporter": "python",
   "pygments_lexer": "ipython3",
   "version": "3.6.2"
  }
 },
 "nbformat": 4,
 "nbformat_minor": 2
}
