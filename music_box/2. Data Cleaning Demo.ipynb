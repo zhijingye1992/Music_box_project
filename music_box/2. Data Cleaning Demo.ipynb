{
 "cells": [
  {
   "cell_type": "markdown",
   "metadata": {},
   "source": [
    "### Notes:\n",
    "The raw data contains all the users' activities from March 01 to May 12, 2017. For churn and the users' activity analysis, only user_id and date/time of each activity log needs to be saved.\n",
    "Cut-off date = April 21st.\n",
    "\n",
    "### Operations on the play log files:\n",
    "\n",
    "Open *play.log files one by one. Then read a line, and save the user id and log date. "
   ]
  },
  {
   "cell_type": "code",
   "execution_count": 1,
   "metadata": {
    "collapsed": true
   },
   "outputs": [],
   "source": [
    "import glob\n"
   ]
  },
  {
   "cell_type": "code",
   "execution_count": 2,
   "metadata": {},
   "outputs": [
    {
     "data": {
      "text/plain": [
       "138"
      ]
     },
     "execution_count": 2,
     "metadata": {},
     "output_type": "execute_result"
    }
   ],
   "source": [
    "filepath = '/Users/ZhijingYe/Desktop/data/play/*play.log'\n",
    "files = glob.glob(filepath)\n",
    "len(files)"
   ]
  },
  {
   "cell_type": "code",
   "execution_count": 1,
   "metadata": {},
   "outputs": [
    {
     "ename": "NameError",
     "evalue": "name 'files' is not defined",
     "output_type": "error",
     "traceback": [
      "\u001b[0;31m---------------------------------------------------------------------------\u001b[0m",
      "\u001b[0;31mNameError\u001b[0m                                 Traceback (most recent call last)",
      "\u001b[0;32m<ipython-input-1-45a85ea37b87>\u001b[0m in \u001b[0;36m<module>\u001b[0;34m()\u001b[0m\n\u001b[0;32m----> 1\u001b[0;31m \u001b[0mfiles\u001b[0m\u001b[0;34m.\u001b[0m\u001b[0msort\u001b[0m\u001b[0;34m(\u001b[0m\u001b[0;34m\"\"\u001b[0m\u001b[0;34m)\u001b[0m\u001b[0;34m\u001b[0m\u001b[0m\n\u001b[0m",
      "\u001b[0;31mNameError\u001b[0m: name 'files' is not defined"
     ]
    }
   ],
   "source": [
    "files.sort(\"\")"
   ]
  },
  {
   "cell_type": "code",
   "execution_count": 7,
   "metadata": {},
   "outputs": [
    {
     "data": {
      "text/plain": [
       "['/Users/ZhijingYe/Desktop/data/play/20170301_play.log',\n",
       " '/Users/ZhijingYe/Desktop/data/play/20170302_1_play.log',\n",
       " '/Users/ZhijingYe/Desktop/data/play/20170303_1_play.log',\n",
       " '/Users/ZhijingYe/Desktop/data/play/20170304_1_play.log',\n",
       " '/Users/ZhijingYe/Desktop/data/play/20170305_1_play.log',\n",
       " '/Users/ZhijingYe/Desktop/data/play/20170306_1_play.log',\n",
       " '/Users/ZhijingYe/Desktop/data/play/20170307_1_play.log',\n",
       " '/Users/ZhijingYe/Desktop/data/play/20170308_1_play.log',\n",
       " '/Users/ZhijingYe/Desktop/data/play/20170309_1_play.log',\n",
       " '/Users/ZhijingYe/Desktop/data/play/20170330_3_play.log',\n",
       " '/Users/ZhijingYe/Desktop/data/play/20170331_1_play.log',\n",
       " '/Users/ZhijingYe/Desktop/data/play/20170331_2_play.log',\n",
       " '/Users/ZhijingYe/Desktop/data/play/20170331_3_play.log',\n",
       " '/Users/ZhijingYe/Desktop/data/play/20170339_1_play.log',\n",
       " '/Users/ZhijingYe/Desktop/data/play/20170401_1_play.log',\n",
       " '/Users/ZhijingYe/Desktop/data/play/20170401_2_play.log',\n",
       " '/Users/ZhijingYe/Desktop/data/play/20170401_3_play.log',\n",
       " '/Users/ZhijingYe/Desktop/data/play/20170402_1_play.log',\n",
       " '/Users/ZhijingYe/Desktop/data/play/20170402_2_play.log',\n",
       " '/Users/ZhijingYe/Desktop/data/play/20170402_3_play.log',\n",
       " '/Users/ZhijingYe/Desktop/data/play/20170403_1_play.log',\n",
       " '/Users/ZhijingYe/Desktop/data/play/20170403_2_play.log',\n",
       " '/Users/ZhijingYe/Desktop/data/play/20170404_1_play.log',\n",
       " '/Users/ZhijingYe/Desktop/data/play/20170404_2_play.log',\n",
       " '/Users/ZhijingYe/Desktop/data/play/20170404_3_play.log',\n",
       " '/Users/ZhijingYe/Desktop/data/play/20170405_1_play.log',\n",
       " '/Users/ZhijingYe/Desktop/data/play/20170405_2_play.log',\n",
       " '/Users/ZhijingYe/Desktop/data/play/20170405_3_play.log',\n",
       " '/Users/ZhijingYe/Desktop/data/play/20170406_1_play.log',\n",
       " '/Users/ZhijingYe/Desktop/data/play/20170406_2_play.log',\n",
       " '/Users/ZhijingYe/Desktop/data/play/20170406_3_play.log',\n",
       " '/Users/ZhijingYe/Desktop/data/play/20170407_1_play.log',\n",
       " '/Users/ZhijingYe/Desktop/data/play/20170407_2_play.log',\n",
       " '/Users/ZhijingYe/Desktop/data/play/20170407_3_play.log',\n",
       " '/Users/ZhijingYe/Desktop/data/play/20170408_1_play.log',\n",
       " '/Users/ZhijingYe/Desktop/data/play/20170408_2_play.log',\n",
       " '/Users/ZhijingYe/Desktop/data/play/20170408_3_play.log',\n",
       " '/Users/ZhijingYe/Desktop/data/play/20170409_1_play.log',\n",
       " '/Users/ZhijingYe/Desktop/data/play/20170409_2_play.log',\n",
       " '/Users/ZhijingYe/Desktop/data/play/20170409_3_play.log',\n",
       " '/Users/ZhijingYe/Desktop/data/play/20170410_1_play.log',\n",
       " '/Users/ZhijingYe/Desktop/data/play/20170410_2_play.log',\n",
       " '/Users/ZhijingYe/Desktop/data/play/20170410_3_play.log',\n",
       " '/Users/ZhijingYe/Desktop/data/play/20170411_1_play.log',\n",
       " '/Users/ZhijingYe/Desktop/data/play/20170411_2_play.log',\n",
       " '/Users/ZhijingYe/Desktop/data/play/20170412_1_play.log',\n",
       " '/Users/ZhijingYe/Desktop/data/play/20170412_2_play.log',\n",
       " '/Users/ZhijingYe/Desktop/data/play/20170412_3_play.log',\n",
       " '/Users/ZhijingYe/Desktop/data/play/20170413_1_play.log',\n",
       " '/Users/ZhijingYe/Desktop/data/play/20170413_2_play.log',\n",
       " '/Users/ZhijingYe/Desktop/data/play/20170413_3_play.log',\n",
       " '/Users/ZhijingYe/Desktop/data/play/20170414_1_play.log',\n",
       " '/Users/ZhijingYe/Desktop/data/play/20170414_2_play.log',\n",
       " '/Users/ZhijingYe/Desktop/data/play/20170414_3_play.log',\n",
       " '/Users/ZhijingYe/Desktop/data/play/20170415_1_play.log',\n",
       " '/Users/ZhijingYe/Desktop/data/play/20170415_2_play.log',\n",
       " '/Users/ZhijingYe/Desktop/data/play/20170415_3_play.log',\n",
       " '/Users/ZhijingYe/Desktop/data/play/20170416_1_play.log',\n",
       " '/Users/ZhijingYe/Desktop/data/play/20170416_2_play.log',\n",
       " '/Users/ZhijingYe/Desktop/data/play/20170416_3_play.log',\n",
       " '/Users/ZhijingYe/Desktop/data/play/20170417_1_play.log',\n",
       " '/Users/ZhijingYe/Desktop/data/play/20170417_2_play.log',\n",
       " '/Users/ZhijingYe/Desktop/data/play/20170417_3_play.log',\n",
       " '/Users/ZhijingYe/Desktop/data/play/20170418_1_play.log',\n",
       " '/Users/ZhijingYe/Desktop/data/play/20170418_2_play.log',\n",
       " '/Users/ZhijingYe/Desktop/data/play/20170418_3_play.log',\n",
       " '/Users/ZhijingYe/Desktop/data/play/20170419_1_play.log',\n",
       " '/Users/ZhijingYe/Desktop/data/play/20170419_2_play.log',\n",
       " '/Users/ZhijingYe/Desktop/data/play/20170419_3_play.log',\n",
       " '/Users/ZhijingYe/Desktop/data/play/20170420_1_play.log',\n",
       " '/Users/ZhijingYe/Desktop/data/play/20170420_2_play.log',\n",
       " '/Users/ZhijingYe/Desktop/data/play/20170420_3_play.log',\n",
       " '/Users/ZhijingYe/Desktop/data/play/20170421_1_play.log',\n",
       " '/Users/ZhijingYe/Desktop/data/play/20170421_2_play.log',\n",
       " '/Users/ZhijingYe/Desktop/data/play/20170421_3_play.log',\n",
       " '/Users/ZhijingYe/Desktop/data/play/20170422_1_play.log',\n",
       " '/Users/ZhijingYe/Desktop/data/play/20170422_2_play.log',\n",
       " '/Users/ZhijingYe/Desktop/data/play/20170422_3_play.log',\n",
       " '/Users/ZhijingYe/Desktop/data/play/20170423_1_play.log',\n",
       " '/Users/ZhijingYe/Desktop/data/play/20170423_2_play.log',\n",
       " '/Users/ZhijingYe/Desktop/data/play/20170423_3_play.log',\n",
       " '/Users/ZhijingYe/Desktop/data/play/20170424_1_play.log',\n",
       " '/Users/ZhijingYe/Desktop/data/play/20170424_2_play.log',\n",
       " '/Users/ZhijingYe/Desktop/data/play/20170424_3_play.log',\n",
       " '/Users/ZhijingYe/Desktop/data/play/20170425_1_play.log',\n",
       " '/Users/ZhijingYe/Desktop/data/play/20170425_2_play.log',\n",
       " '/Users/ZhijingYe/Desktop/data/play/20170425_3_play.log',\n",
       " '/Users/ZhijingYe/Desktop/data/play/20170426_1_play.log',\n",
       " '/Users/ZhijingYe/Desktop/data/play/20170426_2_play.log',\n",
       " '/Users/ZhijingYe/Desktop/data/play/20170426_3_play.log',\n",
       " '/Users/ZhijingYe/Desktop/data/play/20170427_1_play.log',\n",
       " '/Users/ZhijingYe/Desktop/data/play/20170427_2_play.log',\n",
       " '/Users/ZhijingYe/Desktop/data/play/20170427_3_play.log',\n",
       " '/Users/ZhijingYe/Desktop/data/play/20170428_1_play.log',\n",
       " '/Users/ZhijingYe/Desktop/data/play/20170428_2_play.log',\n",
       " '/Users/ZhijingYe/Desktop/data/play/20170428_3_play.log',\n",
       " '/Users/ZhijingYe/Desktop/data/play/20170429_1_play.log',\n",
       " '/Users/ZhijingYe/Desktop/data/play/20170429_2_play.log',\n",
       " '/Users/ZhijingYe/Desktop/data/play/20170429_3_play.log',\n",
       " '/Users/ZhijingYe/Desktop/data/play/20170430_1_play.log',\n",
       " '/Users/ZhijingYe/Desktop/data/play/20170430_2_play.log',\n",
       " '/Users/ZhijingYe/Desktop/data/play/20170430_3_play.log',\n",
       " '/Users/ZhijingYe/Desktop/data/play/20170501_1_play.log',\n",
       " '/Users/ZhijingYe/Desktop/data/play/20170501_2_play.log',\n",
       " '/Users/ZhijingYe/Desktop/data/play/20170501_3_play.log',\n",
       " '/Users/ZhijingYe/Desktop/data/play/20170502_1_play.log',\n",
       " '/Users/ZhijingYe/Desktop/data/play/20170502_2_play.log',\n",
       " '/Users/ZhijingYe/Desktop/data/play/20170502_3_play.log',\n",
       " '/Users/ZhijingYe/Desktop/data/play/20170503_1_play.log',\n",
       " '/Users/ZhijingYe/Desktop/data/play/20170503_2_play.log',\n",
       " '/Users/ZhijingYe/Desktop/data/play/20170503_3_play.log',\n",
       " '/Users/ZhijingYe/Desktop/data/play/20170504_1_play.log',\n",
       " '/Users/ZhijingYe/Desktop/data/play/20170504_2_play.log',\n",
       " '/Users/ZhijingYe/Desktop/data/play/20170504_3_play.log',\n",
       " '/Users/ZhijingYe/Desktop/data/play/20170505_1_play.log',\n",
       " '/Users/ZhijingYe/Desktop/data/play/20170505_2_play.log',\n",
       " '/Users/ZhijingYe/Desktop/data/play/20170505_3_play.log',\n",
       " '/Users/ZhijingYe/Desktop/data/play/20170506_1_play.log',\n",
       " '/Users/ZhijingYe/Desktop/data/play/20170506_2_play.log',\n",
       " '/Users/ZhijingYe/Desktop/data/play/20170506_3_play.log',\n",
       " '/Users/ZhijingYe/Desktop/data/play/20170507_1_play.log',\n",
       " '/Users/ZhijingYe/Desktop/data/play/20170507_2_play.log',\n",
       " '/Users/ZhijingYe/Desktop/data/play/20170507_3_play.log',\n",
       " '/Users/ZhijingYe/Desktop/data/play/20170508_1_play.log',\n",
       " '/Users/ZhijingYe/Desktop/data/play/20170508_2_play.log',\n",
       " '/Users/ZhijingYe/Desktop/data/play/20170508_3_play.log',\n",
       " '/Users/ZhijingYe/Desktop/data/play/20170509_1_play.log',\n",
       " '/Users/ZhijingYe/Desktop/data/play/20170509_2_play.log',\n",
       " '/Users/ZhijingYe/Desktop/data/play/20170509_3_play.log',\n",
       " '/Users/ZhijingYe/Desktop/data/play/20170510_1_play.log',\n",
       " '/Users/ZhijingYe/Desktop/data/play/20170510_2_play.log',\n",
       " '/Users/ZhijingYe/Desktop/data/play/20170510_3_play.log',\n",
       " '/Users/ZhijingYe/Desktop/data/play/20170511_1_play.log',\n",
       " '/Users/ZhijingYe/Desktop/data/play/20170511_2_play.log',\n",
       " '/Users/ZhijingYe/Desktop/data/play/20170511_3_play.log',\n",
       " '/Users/ZhijingYe/Desktop/data/play/20170512_1_play.log',\n",
       " '/Users/ZhijingYe/Desktop/data/play/20170512_2_play.log',\n",
       " '/Users/ZhijingYe/Desktop/data/play/20170512_3_play.log']"
      ]
     },
     "execution_count": 7,
     "metadata": {},
     "output_type": "execute_result"
    }
   ],
   "source": [
    "files"
   ]
  },
  {
   "cell_type": "code",
   "execution_count": 4,
   "metadata": {},
   "outputs": [
    {
     "data": {
      "text/plain": [
       "[1149628,\n",
       " 1148212,\n",
       " 1240082,\n",
       " 940241,\n",
       " 828305,\n",
       " 835157,\n",
       " 857777,\n",
       " 880422,\n",
       " 1173242,\n",
       " 955698,\n",
       " 797410,\n",
       " 834062,\n",
       " 1909698,\n",
       " 2186102,\n",
       " 1097017,\n",
       " 795062,\n",
       " 1017975,\n",
       " 983520,\n",
       " 1321792,\n",
       " 1684810,\n",
       " 1641391,\n",
       " 809235,\n",
       " 1230985,\n",
       " 837694,\n",
       " 987364,\n",
       " 980841,\n",
       " 1084985,\n",
       " 1081843,\n",
       " 1196227,\n",
       " 1216499,\n",
       " 1029869,\n",
       " 1338623,\n",
       " 1330190,\n",
       " 1608450,\n",
       " 836637,\n",
       " 1242936,\n",
       " 2452954,\n",
       " 1781819,\n",
       " 918539,\n",
       " 928330,\n",
       " 1150369,\n",
       " 1153951,\n",
       " 968835,\n",
       " 944044,\n",
       " 1059514,\n",
       " 1851809,\n",
       " 940569,\n",
       " 544316,\n",
       " 1131240,\n",
       " 997007,\n",
       " 985023,\n",
       " 2177175,\n",
       " 3000650,\n",
       " 1343211,\n",
       " 1291403,\n",
       " 851355,\n",
       " 821673,\n",
       " 1184048,\n",
       " 1020209,\n",
       " 854374,\n",
       " 1288929,\n",
       " 1020153,\n",
       " 1238185,\n",
       " 847586,\n",
       " 832970,\n",
       " 1023474,\n",
       " 1039808,\n",
       " 1002571,\n",
       " 990989,\n",
       " 1088169,\n",
       " 1187460,\n",
       " 992200,\n",
       " 991009,\n",
       " 1006395,\n",
       " 1285035,\n",
       " 1332910,\n",
       " 1281545,\n",
       " 1173332,\n",
       " 816242,\n",
       " 806098,\n",
       " 1076152,\n",
       " 1057035,\n",
       " 809434,\n",
       " 808465,\n",
       " 1016487,\n",
       " 3422257,\n",
       " 1375212,\n",
       " 1365544,\n",
       " 1709593,\n",
       " 849154,\n",
       " 1625446,\n",
       " 1163526,\n",
       " 925983,\n",
       " 912916,\n",
       " 860674,\n",
       " 835357,\n",
       " 864746,\n",
       " 1706293,\n",
       " 857522,\n",
       " 1142296,\n",
       " 951978,\n",
       " 840456,\n",
       " 819509,\n",
       " 4760394,\n",
       " 1070782,\n",
       " 1069480,\n",
       " 1264118,\n",
       " 1312326,\n",
       " 1053527,\n",
       " 1020932,\n",
       " 878973,\n",
       " 1865402,\n",
       " 1351921,\n",
       " 854369,\n",
       " 1253676,\n",
       " 809904,\n",
       " 826453,\n",
       " 1192779,\n",
       " 1188942,\n",
       " 1010943,\n",
       " 1013647,\n",
       " 1852483,\n",
       " 1744833,\n",
       " 923892,\n",
       " 40706,\n",
       " 1128462,\n",
       " 1126467,\n",
       " 902605,\n",
       " 931055,\n",
       " 975840,\n",
       " 2193928,\n",
       " 1950060,\n",
       " 1979064,\n",
       " 969430,\n",
       " 976943,\n",
       " 1157700,\n",
       " 1142030,\n",
       " 1143331]"
      ]
     },
     "execution_count": 4,
     "metadata": {},
     "output_type": "execute_result"
    }
   ],
   "source": [
    "# read in log file line by line and save to log_lengths to check the total lengths of logs\n",
    "log_lengths = []\n",
    "\n",
    "for the_file in files:\n",
    "    f = open(the_file, 'r')\n",
    "    lines = f.readlines()\n",
    "    log_lengths.append(len(lines))\n",
    "    f.close()\n",
    "    \n",
    "log_lengths"
   ]
  },
  {
   "cell_type": "code",
   "execution_count": 5,
   "metadata": {},
   "outputs": [
    {
     "data": {
      "text/plain": [
       "1149628"
      ]
     },
     "execution_count": 5,
     "metadata": {},
     "output_type": "execute_result"
    }
   ],
   "source": [
    "with open(files[0],'r') as f:\n",
    "    content = f.readlines()\n",
    "len(content)"
   ]
  },
  {
   "cell_type": "code",
   "execution_count": 6,
   "metadata": {},
   "outputs": [
    {
     "data": {
      "text/plain": [
       "'168335198\\tar\\t6429024\\t0\\t\\xe7\\x9b\\xb8\\xe5\\xaf\\xb9\\xe6\\xb9\\xbf\\xe5\\xba\\xa6\\t\\xe9\\x83\\x91\\xe5\\xb8\\x8c\\xe6\\x80\\xa1\\t238\\t238\\t0\\n'"
      ]
     },
     "execution_count": 6,
     "metadata": {},
     "output_type": "execute_result"
    }
   ],
   "source": [
    "first_line = content[0]\n",
    "first_line\n"
   ]
  },
  {
   "cell_type": "code",
   "execution_count": 7,
   "metadata": {},
   "outputs": [
    {
     "data": {
      "text/plain": [
       "['168335198',\n",
       " 'ar',\n",
       " '6429024',\n",
       " '0',\n",
       " '\\xe7\\x9b\\xb8\\xe5\\xaf\\xb9\\xe6\\xb9\\xbf\\xe5\\xba\\xa6',\n",
       " '\\xe9\\x83\\x91\\xe5\\xb8\\x8c\\xe6\\x80\\xa1',\n",
       " '238',\n",
       " '238',\n",
       " '0']"
      ]
     },
     "execution_count": 7,
     "metadata": {},
     "output_type": "execute_result"
    }
   ],
   "source": [
    "first_line_fields = content[0].strip('\\n').split('\\t')\n",
    "first_line_fields"
   ]
  },
  {
   "cell_type": "code",
   "execution_count": 8,
   "metadata": {},
   "outputs": [
    {
     "data": {
      "text/plain": [
       "['168335198', 'ar']"
      ]
     },
     "execution_count": 8,
     "metadata": {},
     "output_type": "execute_result"
    }
   ],
   "source": [
    "reduced_fields = first_line_fields[:2]\n",
    "reduced_fields"
   ]
  },
  {
   "cell_type": "code",
   "execution_count": 9,
   "metadata": {},
   "outputs": [
    {
     "data": {
      "text/plain": [
       "['168335198', 'ar', '20170410_2_play.log']"
      ]
     },
     "execution_count": 9,
     "metadata": {},
     "output_type": "execute_result"
    }
   ],
   "source": [
    "filename = f.name.split('/')[-1]\n",
    "\n",
    "reduced_fields.append(filename)\n",
    "\n",
    "reduced_fields"
   ]
  },
  {
   "cell_type": "code",
   "execution_count": 10,
   "metadata": {},
   "outputs": [
    {
     "data": {
      "text/plain": [
       "'168335198\\tar\\t20170410_2_play.log\\n'"
      ]
     },
     "execution_count": 10,
     "metadata": {},
     "output_type": "execute_result"
    }
   ],
   "source": [
    "new_first_line = '\\t'.join(reduced_fields)+'\\n'\n",
    "new_first_line"
   ]
  },
  {
   "cell_type": "code",
   "execution_count": null,
   "metadata": {
    "collapsed": true
   },
   "outputs": [],
   "source": []
  },
  {
   "cell_type": "markdown",
   "metadata": {},
   "source": [
    "### write the new reduced lines into a new file\n",
    "\n",
    "    Using the f.write() method"
   ]
  },
  {
   "cell_type": "code",
   "execution_count": 12,
   "metadata": {
    "collapsed": true
   },
   "outputs": [],
   "source": [
    "output = open('/Users/ZhijingYe/Desktop/data/output/all.log','w+')"
   ]
  },
  {
   "cell_type": "code",
   "execution_count": 13,
   "metadata": {},
   "outputs": [
    {
     "name": "stdout",
     "output_type": "stream",
     "text": [
      "processing file: 20170410_2_play.log\n",
      "...costs 3.39 seconds\n",
      "processing file: 20170410_3_play.log\n",
      "...costs 3.32 seconds\n",
      "processing file: 20170427_3_play.log\n",
      "...costs 3.34 seconds\n",
      "processing file: 20170427_2_play.log\n",
      "...costs 2.48 seconds\n",
      "processing file: 20170504_3_play.log\n",
      "...costs 2.43 seconds\n",
      "processing file: 20170504_2_play.log\n",
      "...costs 2.43 seconds\n",
      "processing file: 20170508_1_play.log\n",
      "...costs 2.62 seconds\n",
      "processing file: 20170505_1_play.log\n",
      "...costs 2.70 seconds\n",
      "processing file: 20170411_1_play.log\n",
      "...costs 3.16 seconds\n",
      "processing file: 20170426_1_play.log\n",
      "...costs 2.89 seconds\n",
      "processing file: 20170509_3_play.log\n",
      "...costs 2.18 seconds\n",
      "processing file: 20170509_2_play.log\n",
      "...costs 2.17 seconds\n",
      "processing file: 20170401_2_play.log\n",
      "...costs 5.03 seconds\n",
      "processing file: 20170401_3_play.log\n",
      "...costs 5.85 seconds\n",
      "processing file: 20170423_1_play.log\n",
      "...costs 2.93 seconds\n",
      "processing file: 20170414_1_play.log\n",
      "...costs 2.17 seconds\n",
      "processing file: 20170418_2_play.log\n",
      "...costs 2.80 seconds\n",
      "processing file: 20170418_3_play.log\n",
      "...costs 2.59 seconds\n",
      "processing file: 20170408_1_play.log\n",
      "...costs 3.58 seconds\n",
      "processing file: 20170404_2_play.log\n",
      "...costs 4.49 seconds\n",
      "processing file: 20170404_3_play.log\n",
      "...costs 4.38 seconds\n",
      "processing file: 20170510_3_play.log\n",
      "...costs 2.17 seconds\n",
      "processing file: 20170308_1_play.log\n",
      "...costs 3.31 seconds\n",
      "processing file: 20170510_2_play.log\n",
      "...costs 2.21 seconds\n",
      "processing file: 20170501_3_play.log\n",
      "...costs 2.61 seconds\n",
      "processing file: 20170501_2_play.log\n",
      "...costs 2.58 seconds\n",
      "processing file: 20170422_3_play.log\n",
      "...costs 2.93 seconds\n",
      "processing file: 20170422_2_play.log\n",
      "...costs 2.83 seconds\n",
      "processing file: 20170415_2_play.log\n",
      "...costs 3.26 seconds\n",
      "processing file: 20170415_3_play.log\n",
      "...costs 3.28 seconds\n",
      "processing file: 20170419_1_play.log\n",
      "...costs 2.72 seconds\n",
      "processing file: 20170409_2_play.log\n",
      "...costs 3.61 seconds\n",
      "processing file: 20170409_3_play.log\n",
      "...costs 3.60 seconds\n",
      "processing file: 20170305_1_play.log\n",
      "...costs 4.62 seconds\n",
      "processing file: 20170511_1_play.log\n",
      "...costs 2.47 seconds\n",
      "processing file: 20170405_1_play.log\n",
      "...costs 3.78 seconds\n",
      "processing file: 20170302_1_play.log\n",
      "...costs 6.86 seconds\n",
      "processing file: 20170402_1_play.log\n",
      "...costs 4.86 seconds\n",
      "processing file: 20170425_2_play.log\n",
      "...costs 2.48 seconds\n",
      "processing file: 20170425_3_play.log\n",
      "...costs 2.73 seconds\n",
      "processing file: 20170412_3_play.log\n",
      "...costs 3.24 seconds\n",
      "processing file: 20170412_2_play.log\n",
      "...costs 3.13 seconds\n",
      "processing file: 20170506_2_play.log\n",
      "...costs 2.58 seconds\n",
      "processing file: 20170506_3_play.log\n",
      "...costs 2.51 seconds\n",
      "processing file: 20170429_1_play.log\n",
      "...costs 2.84 seconds\n",
      "processing file: 20170403_2_play.log\n",
      "...costs 5.00 seconds\n",
      "processing file: 20170507_1_play.log\n",
      "...costs 2.52 seconds\n",
      "processing file: 20170424_1_play.log\n",
      "...costs 1.54 seconds\n",
      "processing file: 20170413_1_play.log\n",
      "...costs 2.97 seconds\n",
      "processing file: 20170428_2_play.log\n",
      "...costs 2.65 seconds\n",
      "processing file: 20170428_3_play.log\n",
      "...costs 2.55 seconds\n",
      "processing file: 20170331_2_play.log\n",
      "...costs 5.88 seconds\n",
      "processing file: 20170331_3_play.log\n",
      "...costs 8.40 seconds\n",
      "processing file: 20170406_3_play.log\n",
      "...costs 3.99 seconds\n",
      "processing file: 20170406_2_play.log\n",
      "...costs 3.45 seconds\n",
      "processing file: 20170512_2_play.log\n",
      "...costs 2.60 seconds\n",
      "processing file: 20170512_3_play.log\n",
      "...costs 2.72 seconds\n",
      "processing file: 20170416_1_play.log\n",
      "...costs 3.73 seconds\n",
      "processing file: 20170421_1_play.log\n",
      "...costs 2.85 seconds\n",
      "processing file: 20170502_1_play.log\n",
      "...costs 2.27 seconds\n",
      "processing file: 20170307_1_play.log\n",
      "...costs 3.49 seconds\n",
      "processing file: 20170430_1_play.log\n",
      "...costs 2.76 seconds\n",
      "processing file: 20170407_1_play.log\n",
      "...costs 3.32 seconds\n",
      "processing file: 20170503_2_play.log\n",
      "...costs 2.22 seconds\n",
      "processing file: 20170503_3_play.log\n",
      "...costs 2.21 seconds\n",
      "processing file: 20170417_3_play.log\n",
      "...costs 2.69 seconds\n",
      "processing file: 20170417_2_play.log\n",
      "...costs 2.76 seconds\n",
      "processing file: 20170420_2_play.log\n",
      "...costs 2.66 seconds\n",
      "processing file: 20170420_3_play.log\n",
      "...costs 2.61 seconds\n",
      "processing file: 20170422_1_play.log\n",
      "...costs 2.88 seconds\n",
      "processing file: 20170415_1_play.log\n",
      "...costs 3.14 seconds\n",
      "processing file: 20170501_1_play.log\n",
      "...costs 2.62 seconds\n",
      "processing file: 20170419_3_play.log\n",
      "...costs 2.63 seconds\n",
      "processing file: 20170419_2_play.log\n",
      "...costs 2.65 seconds\n",
      "processing file: 20170409_1_play.log\n",
      "...costs 3.41 seconds\n",
      "processing file: 20170405_3_play.log\n",
      "...costs 3.53 seconds\n",
      "processing file: 20170405_2_play.log\n",
      "...costs 3.43 seconds\n",
      "processing file: 20170309_1_play.log\n",
      "...costs 3.15 seconds\n",
      "processing file: 20170511_2_play.log\n",
      "...costs 2.17 seconds\n",
      "processing file: 20170511_3_play.log\n",
      "...costs 2.32 seconds\n",
      "processing file: 20170423_2_play.log\n",
      "...costs 3.14 seconds\n",
      "processing file: 20170423_3_play.log\n",
      "...costs 2.88 seconds\n",
      "processing file: 20170414_3_play.log\n",
      "...costs 2.24 seconds\n",
      "processing file: 20170414_2_play.log\n",
      "...costs 2.13 seconds\n",
      "processing file: 20170418_1_play.log\n",
      "...costs 2.68 seconds\n",
      "processing file: 20170301_play.log\n",
      "...costs 9.43 seconds\n",
      "processing file: 20170408_3_play.log\n",
      "...costs 3.72 seconds\n",
      "processing file: 20170408_2_play.log\n",
      "...costs 3.64 seconds\n",
      "processing file: 20170304_1_play.log\n",
      "...costs 4.64 seconds\n",
      "processing file: 20170510_1_play.log\n",
      "...costs 2.32 seconds\n",
      "processing file: 20170404_1_play.log\n",
      "...costs 4.37 seconds\n",
      "processing file: 20170411_2_play.log\n",
      "...costs 3.15 seconds\n",
      "processing file: 20170426_2_play.log\n",
      "...costs 2.52 seconds\n",
      "processing file: 20170426_3_play.log\n",
      "...costs 2.41 seconds\n",
      "processing file: 20170505_2_play.log\n",
      "...costs 2.28 seconds\n",
      "processing file: 20170505_3_play.log\n",
      "...costs 2.38 seconds\n",
      "processing file: 20170509_1_play.log\n",
      "...costs 2.85 seconds\n",
      "processing file: 20170401_1_play.log\n",
      "...costs 5.08 seconds\n",
      "processing file: 20170504_1_play.log\n",
      "...costs 2.58 seconds\n",
      "processing file: 20170410_1_play.log\n",
      "...costs 3.43 seconds\n",
      "processing file: 20170427_1_play.log\n",
      "...costs 2.94 seconds\n",
      "processing file: 20170508_2_play.log\n",
      "...costs 2.68 seconds\n",
      "processing file: 20170508_3_play.log\n",
      "...costs 2.99 seconds\n",
      "processing file: 20170330_3_play.log\n",
      "...costs 14.62 seconds\n",
      "processing file: 20170430_3_play.log\n",
      "...costs 3.08 seconds\n",
      "processing file: 20170430_2_play.log\n",
      "...costs 2.91 seconds\n",
      "processing file: 20170407_2_play.log\n",
      "...costs 3.78 seconds\n",
      "processing file: 20170407_3_play.log\n",
      "...costs 3.64 seconds\n",
      "processing file: 20170417_1_play.log\n",
      "...costs 2.98 seconds\n",
      "processing file: 20170420_1_play.log\n",
      "...costs 2.86 seconds\n",
      "processing file: 20170503_1_play.log\n",
      "...costs 2.40 seconds\n",
      "processing file: 20170331_1_play.log\n",
      "...costs 5.11 seconds\n",
      "processing file: 20170306_1_play.log\n",
      "...costs 3.83 seconds\n",
      "processing file: 20170512_1_play.log\n",
      "...costs 2.35 seconds\n",
      "processing file: 20170406_1_play.log\n",
      "...costs 3.38 seconds\n",
      "processing file: 20170502_3_play.log\n",
      "...costs 2.34 seconds\n",
      "processing file: 20170502_2_play.log\n",
      "...costs 2.36 seconds\n",
      "processing file: 20170416_2_play.log\n",
      "...costs 3.27 seconds\n",
      "processing file: 20170416_3_play.log\n",
      "...costs 3.38 seconds\n",
      "processing file: 20170421_3_play.log\n",
      "...costs 2.87 seconds\n",
      "processing file: 20170421_2_play.log\n",
      "...costs 2.79 seconds\n",
      "processing file: 20170303_1_play.log\n",
      "...costs 5.20 seconds\n",
      "processing file: 20170403_1_play.log\n",
      "...costs 4.92 seconds\n",
      "processing file: 20170424_3_play.log\n",
      "...costs 2.61 seconds\n",
      "processing file: 20170424_2_play.log\n",
      "...costs 0.33 seconds\n",
      "processing file: 20170413_2_play.log\n",
      "...costs 3.27 seconds\n",
      "processing file: 20170413_3_play.log\n",
      "...costs 3.28 seconds\n",
      "processing file: 20170507_3_play.log\n",
      "...costs 3.12 seconds\n",
      "processing file: 20170507_2_play.log\n",
      "...costs 3.26 seconds\n",
      "processing file: 20170428_1_play.log\n",
      "...costs 2.77 seconds\n",
      "processing file: 20170339_1_play.log\n",
      "...costs 6.51 seconds\n",
      "processing file: 20170402_2_play.log\n",
      "...costs 5.79 seconds\n",
      "processing file: 20170402_3_play.log\n",
      "...costs 6.01 seconds\n",
      "processing file: 20170506_1_play.log\n",
      "...costs 2.91 seconds\n",
      "processing file: 20170425_1_play.log\n",
      "...costs 3.05 seconds\n",
      "processing file: 20170412_1_play.log\n",
      "...costs 3.77 seconds\n",
      "processing file: 20170429_3_play.log\n",
      "...costs 3.69 seconds\n",
      "processing file: 20170429_2_play.log\n",
      "...costs 4.50 seconds\n"
     ]
    }
   ],
   "source": [
    "import time\n",
    "\n",
    "for the_file in files:\n",
    "    current_time = time.clock()\n",
    "\n",
    "    with open(the_file, 'r') as f:\n",
    "        lines = f.readlines()\n",
    "        print('processing file: %s' % f.name.split('/')[-1])\n",
    "        for line in lines:\n",
    "            fields_to_keep = line.strip('\\n').split('\\t')[:2]\n",
    "            fields_to_keep.append(f.name.split('/')[-1])\n",
    "            output.write('\\t'.join(fields_to_keep)+'\\n')\n",
    "    print('...costs %.2f seconds' % (time.clock()-current_time))\n",
    "    current_time = time.clock()"
   ]
  },
  {
   "cell_type": "code",
   "execution_count": 14,
   "metadata": {
    "collapsed": true
   },
   "outputs": [],
   "source": [
    "output.close()\n"
   ]
  },
  {
   "cell_type": "code",
   "execution_count": 15,
   "metadata": {},
   "outputs": [
    {
     "data": {
      "text/plain": [
       "164620890"
      ]
     },
     "execution_count": 15,
     "metadata": {},
     "output_type": "execute_result"
    }
   ],
   "source": [
    "with open('/Users/ZhijingYe/Desktop/data/output/all.log','r') as output:\n",
    "    lines = output.readlines()\n",
    "len(lines)"
   ]
  },
  {
   "cell_type": "code",
   "execution_count": 16,
   "metadata": {},
   "outputs": [
    {
     "data": {
      "text/plain": [
       "164620890"
      ]
     },
     "execution_count": 16,
     "metadata": {},
     "output_type": "execute_result"
    }
   ],
   "source": [
    "sum(log_lengths)"
   ]
  },
  {
   "cell_type": "code",
   "execution_count": 17,
   "metadata": {},
   "outputs": [
    {
     "data": {
      "text/plain": [
       "'168335198\\tar\\t20170410_2_play.log\\n'"
      ]
     },
     "execution_count": 17,
     "metadata": {},
     "output_type": "execute_result"
    }
   ],
   "source": [
    "lines[0]"
   ]
  },
  {
   "cell_type": "markdown",
   "metadata": {},
   "source": [
    "### Save the user_ids into sets\n",
    "\n",
    "  Overwrite the all.log just created, as the procedure below will create user_id sets and all.log file at the same time"
   ]
  },
  {
   "cell_type": "code",
   "execution_count": 5,
   "metadata": {},
   "outputs": [
    {
     "name": "stderr",
     "output_type": "stream",
     "text": [
      "/Users/ZhijingYe/anaconda/lib/python2.7/site-packages/ipykernel/__main__.py:2: DeprecationWarning: the sets module is deprecated\n",
      "  from ipykernel import kernelapp as app\n"
     ]
    }
   ],
   "source": [
    "import time\n",
    "from sets import Set\n",
    "\n",
    "list_of_sets = []\n",
    "# for each day's data, set the active users' user_id into a set.\n"
   ]
  },
  {
   "cell_type": "code",
   "execution_count": 6,
   "metadata": {},
   "outputs": [
    {
     "name": "stdout",
     "output_type": "stream",
     "text": [
      "processing file: 20170410_2_play.log\n",
      "...costs 3.92 seconds\n",
      "processing file: 20170410_3_play.log\n",
      "...costs 3.73 seconds\n",
      "processing file: 20170427_3_play.log\n",
      "...costs 4.06 seconds\n",
      "processing file: 20170427_2_play.log\n",
      "...costs 3.16 seconds\n",
      "processing file: 20170504_3_play.log\n",
      "...costs 2.73 seconds\n",
      "processing file: 20170504_2_play.log\n",
      "...costs 2.78 seconds\n",
      "processing file: 20170508_1_play.log\n",
      "...costs 2.97 seconds\n",
      "processing file: 20170505_1_play.log\n",
      "...costs 3.07 seconds\n",
      "processing file: 20170411_1_play.log\n",
      "...costs 4.03 seconds\n",
      "processing file: 20170426_1_play.log\n",
      "...costs 3.37 seconds\n",
      "processing file: 20170509_3_play.log\n",
      "...costs 2.68 seconds\n",
      "processing file: 20170509_2_play.log\n",
      "...costs 2.77 seconds\n",
      "processing file: 20170401_2_play.log\n",
      "...costs 6.34 seconds\n",
      "processing file: 20170401_3_play.log\n",
      "...costs 7.33 seconds\n",
      "processing file: 20170423_1_play.log\n",
      "...costs 3.74 seconds\n",
      "processing file: 20170414_1_play.log\n",
      "...costs 2.70 seconds\n",
      "processing file: 20170418_2_play.log\n",
      "...costs 3.42 seconds\n",
      "processing file: 20170418_3_play.log\n",
      "...costs 3.30 seconds\n",
      "processing file: 20170408_1_play.log\n",
      "...costs 4.37 seconds\n",
      "processing file: 20170404_2_play.log\n",
      "...costs 5.63 seconds\n",
      "processing file: 20170404_3_play.log\n",
      "...costs 5.53 seconds\n",
      "processing file: 20170510_3_play.log\n",
      "...costs 2.77 seconds\n",
      "processing file: 20170308_1_play.log\n",
      "...costs 4.23 seconds\n",
      "processing file: 20170510_2_play.log\n",
      "...costs 2.89 seconds\n",
      "processing file: 20170501_3_play.log\n",
      "...costs 3.32 seconds\n",
      "processing file: 20170501_2_play.log\n",
      "...costs 3.35 seconds\n",
      "processing file: 20170422_3_play.log\n",
      "...costs 3.67 seconds\n",
      "processing file: 20170422_2_play.log\n",
      "...costs 3.65 seconds\n",
      "processing file: 20170415_2_play.log\n",
      "...costs 3.98 seconds\n",
      "processing file: 20170415_3_play.log\n",
      "...costs 4.13 seconds\n",
      "processing file: 20170419_1_play.log\n",
      "...costs 3.51 seconds\n",
      "processing file: 20170409_2_play.log\n",
      "...costs 4.51 seconds\n",
      "processing file: 20170409_3_play.log\n",
      "...costs 4.34 seconds\n",
      "processing file: 20170305_1_play.log\n",
      "...costs 5.41 seconds\n",
      "processing file: 20170511_1_play.log\n",
      "...costs 2.86 seconds\n",
      "processing file: 20170405_1_play.log\n",
      "...costs 4.05 seconds\n",
      "processing file: 20170302_1_play.log\n",
      "...costs 8.09 seconds\n",
      "processing file: 20170402_1_play.log\n",
      "...costs 5.83 seconds\n",
      "processing file: 20170425_2_play.log\n",
      "...costs 3.09 seconds\n",
      "processing file: 20170425_3_play.log\n",
      "...costs 3.23 seconds\n",
      "processing file: 20170412_3_play.log\n",
      "...costs 3.78 seconds\n",
      "processing file: 20170412_2_play.log\n",
      "...costs 3.90 seconds\n",
      "processing file: 20170506_2_play.log\n",
      "...costs 3.20 seconds\n",
      "processing file: 20170506_3_play.log\n",
      "...costs 3.13 seconds\n",
      "processing file: 20170429_1_play.log\n",
      "...costs 3.52 seconds\n",
      "processing file: 20170403_2_play.log\n",
      "...costs 5.93 seconds\n",
      "processing file: 20170507_1_play.log\n",
      "...costs 3.11 seconds\n",
      "processing file: 20170424_1_play.log\n",
      "...costs 1.96 seconds\n",
      "processing file: 20170413_1_play.log\n",
      "...costs 3.64 seconds\n",
      "processing file: 20170428_2_play.log\n",
      "...costs 3.31 seconds\n",
      "processing file: 20170428_3_play.log\n",
      "...costs 3.31 seconds\n",
      "processing file: 20170331_2_play.log\n",
      "...costs 7.03 seconds\n",
      "processing file: 20170331_3_play.log\n",
      "...costs 9.91 seconds\n",
      "processing file: 20170406_3_play.log\n",
      "...costs 4.49 seconds\n",
      "processing file: 20170406_2_play.log\n",
      "...costs 4.24 seconds\n",
      "processing file: 20170512_2_play.log\n",
      "...costs 2.91 seconds\n",
      "processing file: 20170512_3_play.log\n",
      "...costs 2.78 seconds\n",
      "processing file: 20170416_1_play.log\n",
      "...costs 3.85 seconds\n",
      "processing file: 20170421_1_play.log\n",
      "...costs 3.41 seconds\n",
      "processing file: 20170502_1_play.log\n",
      "...costs 2.91 seconds\n",
      "processing file: 20170307_1_play.log\n",
      "...costs 4.36 seconds\n",
      "processing file: 20170430_1_play.log\n",
      "...costs 3.42 seconds\n",
      "processing file: 20170407_1_play.log\n",
      "...costs 4.05 seconds\n",
      "processing file: 20170503_2_play.log\n",
      "...costs 2.86 seconds\n",
      "processing file: 20170503_3_play.log\n",
      "...costs 2.74 seconds\n",
      "processing file: 20170417_3_play.log\n",
      "...costs 3.39 seconds\n",
      "processing file: 20170417_2_play.log\n",
      "...costs 3.43 seconds\n",
      "processing file: 20170420_2_play.log\n",
      "...costs 3.35 seconds\n",
      "processing file: 20170420_3_play.log\n",
      "...costs 3.22 seconds\n",
      "processing file: 20170422_1_play.log\n",
      "...costs 3.58 seconds\n",
      "processing file: 20170415_1_play.log\n",
      "...costs 3.82 seconds\n",
      "processing file: 20170501_1_play.log\n",
      "...costs 3.37 seconds\n",
      "processing file: 20170419_3_play.log\n",
      "...costs 3.35 seconds\n",
      "processing file: 20170419_2_play.log\n",
      "...costs 3.32 seconds\n",
      "processing file: 20170409_1_play.log\n",
      "...costs 4.32 seconds\n",
      "processing file: 20170405_3_play.log\n",
      "...costs 4.30 seconds\n",
      "processing file: 20170405_2_play.log\n",
      "...costs 4.21 seconds\n",
      "processing file: 20170309_1_play.log\n",
      "...costs 3.88 seconds\n",
      "processing file: 20170511_2_play.log\n",
      "...costs 2.72 seconds\n",
      "processing file: 20170511_3_play.log\n",
      "...costs 2.65 seconds\n",
      "processing file: 20170423_2_play.log\n",
      "...costs 3.58 seconds\n",
      "processing file: 20170423_3_play.log\n",
      "...costs 3.59 seconds\n",
      "processing file: 20170414_3_play.log\n",
      "...costs 2.70 seconds\n",
      "processing file: 20170414_2_play.log\n",
      "...costs 2.74 seconds\n",
      "processing file: 20170418_1_play.log\n",
      "...costs 3.55 seconds\n",
      "processing file: 20170301_play.log\n",
      "...costs 12.66 seconds\n",
      "processing file: 20170408_3_play.log\n",
      "...costs 4.77 seconds\n",
      "processing file: 20170408_2_play.log\n",
      "...costs 4.65 seconds\n",
      "processing file: 20170304_1_play.log\n",
      "...costs 5.95 seconds\n",
      "processing file: 20170510_1_play.log\n",
      "...costs 2.98 seconds\n",
      "processing file: 20170404_1_play.log\n",
      "...costs 5.45 seconds\n",
      "processing file: 20170411_2_play.log\n",
      "...costs 3.91 seconds\n",
      "processing file: 20170426_2_play.log\n",
      "...costs 3.20 seconds\n",
      "processing file: 20170426_3_play.log\n",
      "...costs 3.06 seconds\n",
      "processing file: 20170505_2_play.log\n",
      "...costs 2.95 seconds\n",
      "processing file: 20170505_3_play.log\n",
      "...costs 2.83 seconds\n",
      "processing file: 20170509_1_play.log\n",
      "...costs 2.93 seconds\n",
      "processing file: 20170401_1_play.log\n",
      "...costs 5.74 seconds\n",
      "processing file: 20170504_1_play.log\n",
      "...costs 2.92 seconds\n",
      "processing file: 20170410_1_play.log\n",
      "...costs 3.94 seconds\n",
      "processing file: 20170427_1_play.log\n",
      "...costs 3.29 seconds\n",
      "processing file: 20170508_2_play.log\n",
      "...costs 2.79 seconds\n",
      "processing file: 20170508_3_play.log\n",
      "...costs 2.75 seconds\n",
      "processing file: 20170330_3_play.log\n",
      "...costs 15.81 seconds\n",
      "processing file: 20170430_3_play.log\n",
      "...costs 3.67 seconds\n",
      "processing file: 20170430_2_play.log\n",
      "...costs 3.52 seconds\n",
      "processing file: 20170407_2_play.log\n",
      "...costs 4.13 seconds\n",
      "processing file: 20170407_3_play.log\n",
      "...costs 4.28 seconds\n",
      "processing file: 20170417_1_play.log\n",
      "...costs 3.48 seconds\n",
      "processing file: 20170420_1_play.log\n",
      "...costs 3.35 seconds\n",
      "processing file: 20170503_1_play.log\n",
      "...costs 2.88 seconds\n",
      "processing file: 20170331_1_play.log\n",
      "...costs 6.12 seconds\n",
      "processing file: 20170306_1_play.log\n",
      "...costs 4.55 seconds\n",
      "processing file: 20170512_1_play.log\n",
      "...costs 2.97 seconds\n",
      "processing file: 20170406_1_play.log\n",
      "...costs 4.44 seconds\n",
      "processing file: 20170502_3_play.log\n",
      "...costs 2.69 seconds\n",
      "processing file: 20170502_2_play.log\n",
      "...costs 2.74 seconds\n",
      "processing file: 20170416_2_play.log\n",
      "...costs 3.84 seconds\n",
      "processing file: 20170416_3_play.log\n",
      "...costs 3.92 seconds\n",
      "processing file: 20170421_3_play.log\n",
      "...costs 3.37 seconds\n",
      "processing file: 20170421_2_play.log\n",
      "...costs 3.34 seconds\n",
      "processing file: 20170303_1_play.log\n",
      "...costs 6.11 seconds\n",
      "processing file: 20170403_1_play.log\n",
      "...costs 5.69 seconds\n",
      "processing file: 20170424_3_play.log\n",
      "...costs 3.12 seconds\n",
      "processing file: 20170424_2_play.log\n",
      "...costs 0.49 seconds\n",
      "processing file: 20170413_2_play.log\n",
      "...costs 3.71 seconds\n",
      "processing file: 20170413_3_play.log\n",
      "...costs 3.72 seconds\n",
      "processing file: 20170507_3_play.log\n",
      "...costs 3.01 seconds\n",
      "processing file: 20170507_2_play.log\n",
      "...costs 3.14 seconds\n",
      "processing file: 20170428_1_play.log\n",
      "...costs 3.17 seconds\n",
      "processing file: 20170339_1_play.log\n",
      "...costs 7.28 seconds\n",
      "processing file: 20170402_2_play.log\n",
      "...costs 6.31 seconds\n",
      "processing file: 20170402_3_play.log\n",
      "...costs 6.48 seconds\n",
      "processing file: 20170506_1_play.log\n",
      "...costs 3.27 seconds\n",
      "processing file: 20170425_1_play.log\n",
      "...costs 3.29 seconds\n",
      "processing file: 20170412_1_play.log\n",
      "...costs 3.79 seconds\n",
      "processing file: 20170429_3_play.log\n",
      "...costs 3.71 seconds\n",
      "processing file: 20170429_2_play.log\n",
      "...costs 3.76 seconds\n"
     ]
    }
   ],
   "source": [
    "with open('/Users/ZhijingYe/Desktop/data/output/all.log','w+') as output:\n",
    "    for the_file in files:\n",
    "        current_time = time.clock()\n",
    "        \n",
    "        with open(the_file, 'r') as f:\n",
    "            print('processing file: %s' % f.name.split('/')[-1])\n",
    "            lines = f.readlines()\n",
    "            list_of_sets.append(Set([line.split('\\t')[0] for line in lines]))\n",
    "            \n",
    "            for line in lines:\n",
    "                fields = line.strip('\\n').split('\\t')\n",
    "                fields.append(f.name.split('/')[-1][:8])\n",
    "                output.write('\\t'.join(fields)+'\\n')\n",
    "        print('...costs %.2f seconds' % (time.clock()-current_time))\n"
   ]
  },
  {
   "cell_type": "code",
   "execution_count": 7,
   "metadata": {},
   "outputs": [
    {
     "data": {
      "text/plain": [
       "[36534,\n",
       " 38715,\n",
       " 27733,\n",
       " 26984,\n",
       " 24670,\n",
       " 24299,\n",
       " 23986,\n",
       " 24476,\n",
       " 36362,\n",
       " 27396,\n",
       " 24349,\n",
       " 24140,\n",
       " 63842,\n",
       " 75546,\n",
       " 28954,\n",
       " 30509,\n",
       " 31089,\n",
       " 31864,\n",
       " 40021,\n",
       " 49967,\n",
       " 53936,\n",
       " 24360,\n",
       " 44467,\n",
       " 24052,\n",
       " 26543,\n",
       " 25519,\n",
       " 30833,\n",
       " 29234,\n",
       " 33978,\n",
       " 35595,\n",
       " 30676,\n",
       " 39512,\n",
       " 41321,\n",
       " 53437,\n",
       " 23727,\n",
       " 41302,\n",
       " 84653,\n",
       " 53458,\n",
       " 27572,\n",
       " 28413,\n",
       " 36871,\n",
       " 35810,\n",
       " 25010,\n",
       " 25435,\n",
       " 26340,\n",
       " 52210,\n",
       " 24714,\n",
       " 21615,\n",
       " 34550,\n",
       " 27195,\n",
       " 27999,\n",
       " 74476,\n",
       " 102792,\n",
       " 46426,\n",
       " 43230,\n",
       " 24181,\n",
       " 24520,\n",
       " 33671,\n",
       " 29804,\n",
       " 24477,\n",
       " 45929,\n",
       " 25913,\n",
       " 40476,\n",
       " 24719,\n",
       " 24840,\n",
       " 32995,\n",
       " 31787,\n",
       " 30241,\n",
       " 30696,\n",
       " 29292,\n",
       " 33681,\n",
       " 25489,\n",
       " 31457,\n",
       " 30752,\n",
       " 38236,\n",
       " 46260,\n",
       " 43080,\n",
       " 41763,\n",
       " 23922,\n",
       " 24119,\n",
       " 29446,\n",
       " 30274,\n",
       " 33191,\n",
       " 31186,\n",
       " 30676,\n",
       " 175191,\n",
       " 43040,\n",
       " 40784,\n",
       " 57943,\n",
       " 24145,\n",
       " 48328,\n",
       " 36063,\n",
       " 27487,\n",
       " 28029,\n",
       " 24422,\n",
       " 24939,\n",
       " 24052,\n",
       " 57265,\n",
       " 24220,\n",
       " 36191,\n",
       " 26909,\n",
       " 23927,\n",
       " 24443,\n",
       " 261674,\n",
       " 27799,\n",
       " 26278,\n",
       " 41233,\n",
       " 43931,\n",
       " 31821,\n",
       " 30301,\n",
       " 24694,\n",
       " 64004,\n",
       " 47751,\n",
       " 23736,\n",
       " 41492,\n",
       " 24996,\n",
       " 24420,\n",
       " 33962,\n",
       " 34995,\n",
       " 30738,\n",
       " 30222,\n",
       " 66170,\n",
       " 49769,\n",
       " 28971,\n",
       " 3590,\n",
       " 35476,\n",
       " 36412,\n",
       " 25327,\n",
       " 24641,\n",
       " 26988,\n",
       " 76312,\n",
       " 57426,\n",
       " 64745,\n",
       " 24884,\n",
       " 27715,\n",
       " 35597,\n",
       " 28308,\n",
       " 27056]"
      ]
     },
     "execution_count": 7,
     "metadata": {},
     "output_type": "execute_result"
    }
   ],
   "source": [
    "[len(each_set) for each_set in list_of_sets]\n"
   ]
  },
  {
   "cell_type": "code",
   "execution_count": 22,
   "metadata": {
    "collapsed": true
   },
   "outputs": [],
   "source": [
    "len_all = len([len(each_set) for each_set in list_of_sets])"
   ]
  },
  {
   "cell_type": "code",
   "execution_count": null,
   "metadata": {
    "collapsed": true
   },
   "outputs": [],
   "source": []
  },
  {
   "cell_type": "code",
   "execution_count": null,
   "metadata": {
    "collapsed": true
   },
   "outputs": [],
   "source": []
  },
  {
   "cell_type": "markdown",
   "metadata": {},
   "source": [
    "### Churn labeling and file saving\n",
    "\n",
    "    Save the user_id of churns into a new file."
   ]
  },
  {
   "cell_type": "code",
   "execution_count": 9,
   "metadata": {
    "collapsed": true
   },
   "outputs": [],
   "source": [
    "active_before, active_after = list_of_sets[0],list_of_sets[100]\n"
   ]
  },
  {
   "cell_type": "code",
   "execution_count": 10,
   "metadata": {},
   "outputs": [
    {
     "data": {
      "text/plain": [
       "18"
      ]
     },
     "execution_count": 10,
     "metadata": {},
     "output_type": "execute_result"
    }
   ],
   "source": [
    "# set method: s.intersection(t) returns the interset of s & t\n",
    "loyal_users = active_before.intersection(active_after)\n",
    "len(loyal_users)"
   ]
  },
  {
   "cell_type": "code",
   "execution_count": 11,
   "metadata": {},
   "outputs": [
    {
     "data": {
      "text/plain": [
       "36516"
      ]
     },
     "execution_count": 11,
     "metadata": {},
     "output_type": "execute_result"
    }
   ],
   "source": [
    "# set method: s.difference(t) returns a new set with elements in s but not in t\n",
    "churn = active_before.difference(active_after)\n",
    "len(churn)"
   ]
  },
  {
   "cell_type": "code",
   "execution_count": 12,
   "metadata": {},
   "outputs": [
    {
     "data": {
      "text/plain": [
       "26891"
      ]
     },
     "execution_count": 12,
     "metadata": {},
     "output_type": "execute_result"
    }
   ],
   "source": [
    "new_users = active_after.difference(active_before)\n",
    "len(new_users)"
   ]
  },
  {
   "cell_type": "markdown",
   "metadata": {},
   "source": [
    "### For all the play data"
   ]
  },
  {
   "cell_type": "code",
   "execution_count": 31,
   "metadata": {
    "collapsed": true
   },
   "outputs": [],
   "source": [
    "active_before1 = [];\n",
    "active_after1 = [];\n",
    "for num in range(0,len_all-51):\n",
    "    active_before1, active_after1 = list_of_sets[num],list_of_sets[num+50]\n"
   ]
  },
  {
   "cell_type": "code",
   "execution_count": 25,
   "metadata": {},
   "outputs": [
    {
     "data": {
      "text/plain": [
       "14196"
      ]
     },
     "execution_count": 25,
     "metadata": {},
     "output_type": "execute_result"
    }
   ],
   "source": [
    "# set method: s.intersection(t) returns the interset of s & t\n",
    "loyal_users1 = active_before1.intersection(active_after1)\n",
    "len(loyal_users1)"
   ]
  },
  {
   "cell_type": "code",
   "execution_count": 26,
   "metadata": {},
   "outputs": [
    {
     "data": {
      "text/plain": [
       "Set(['169017759', '168743948', '168752140', '168773806', '168743410', '168856392', '168797792', '168997758', '168677048', '168949043', '168949040', '168697542', '168595111', '168997202', '168997201', '169039187', '168902569', '168712780', '142322317', '168883885', '168902562', '168662216', '168707606', '168954485', '168864185', '168537903', '168864187', '168537901', '168739874', '169006420', '168537908', '168768454', '168985779', '39567469', '168763206', '168782255', '168937986', '168738474', '168701607', '168782788', '168730646', '168912568', '168813259', '168824076', '168994933', '168824073', '168542433', '168898471', '168832876', '168902693', '168902691', '168906819', '168725309', '169021133', '168829006', '168582355', '169028775', '168880283', '168643193', '168680363', '168744329', '168946825', '168946827', '168906440', '168536260', '168916523', '168660865', '168873008', '168802714', '168928916', '168625039', '168672563', '168657003', '168625031', '168667484', '168954635', '168596139', '168678889', '168945594', '168945596', '168635672', '168945593', '169015280', '168703148', '168847039', '169138351', '168714069', '168847030', '168706802', '168744490', '168900124', '169005765', '168744499', '168595031', '168829169', '48827205', '168996767', '168899097', '168538564', '168978828', '169009315', '168557437', '169009311', '168936048', '168557433', '168562478', '168966758', '168562471', '168812120', '168966200', '168993434', '168646111', '168706730', '168659632', '168534837', '168900875', '169000686', '168535413', '168647245', '168792072', '169130627', '168976077', '168536691', '168681363', '168612319', '168536695', '168851116', '168581098', '168961965', '169003887', '168693561', '168939149', '168995877', '169118832', '169180924', '168988809', '168977473', '168759058', '168576426', '168750164', '168705106', '168530850', '168874331', '168950609', '168559784', '168992483', '168950602', '168800974', '168747414', '168826636', '168866748', '168558320', '168962431', '168756701', '168866741', '168590232', '168761202', '168857725', '168901614', '168922071', '168632669', '168703606', '168615045', '168957170', '168801125', '169002428', '168771890', '168833393', '168836410', '168778580', '168771232', '168771897', '168836418', '168539410', '168545386', '168853051', '1710083', '168637523', '168821867', '168907612', '168853058', '168661309', '168749512', '168801460', '169016160', '168537126', '168988057', '168698423', '168921182', '168580922', '168403545', '168858341', '168672829', '168807625', '168577556', '169034584', '168975036', '168543350', '168978413', '168893375', '168604736', '169029582', '168543359', '168536998', '168969784', '168970020', '168657640', '168657641', '168803917', '168682451', '168537026', '168580221', '168808668', '168850394', '168875424', '168651427', '168809822', '168732030', '168606641', '168830661', '168871515', '169026606', '169042626', '168989073', '169022851', '168983600', '168568109', '168988658', '168824247', '168530693', '168917270', '168923584', '168772762', '168530695', '168878341', '168666303', '168574118', '168935379', '168842655', '168666306', '168722306', '168781962', '168689701', '168946016', '168733091', '168887715', '169019506', '168732546', '168778051', '168668794', '168955680', '168614163', '168803670', '168809373', '141493140', '168898046', '169041639', '168861138', '168542401', '168544838', '168691792', '168809534', '168693204', '169001302', '168852014', '168886490', '168683274', '168852019', '168587231', '168856705', '168906050', '168587234', '168584100', '168907837', '168533257', '169039535', '168739111', '168905506', '168547154', '168902731', '168846023', '168817688', '168530421', '168803451', '168936113', '168936442', '168986164', '168861134', '168877344', '168993333', '168993332', '168831393', '168865130', '168993339', '169030779', '168650690', '168773498', '168788692', '168686739', '168788690', '168439992', '168814903', '168620009', '168726517', '168622718', '168617446', '168911231', '168833997', '168837422', '168955710', '168620018', '168834453', '169018030', '168913227', '168648236', '168909193', '168709714', '168794155', '168581993', '168881012', '169040730', '169005150', '168884009', '168884001', '168556868', '168612569', '168848797', '169040279', '168664275', '168847953', '168598596', '168585897', '169001870', '168900334', '168709436', '168826228', '168767515', '168647478', '168546402', '168909444', '168546400', '168807365', '168863474', '168876437', '168976247', '104992781', '168984832', '168529596', '168893982', '168819510', '169042578', '168532337', '168932357', '168585099', '168995990', '168816802', '168861905', '168861902', '168995998', '168977049', '168781252', '168954985', '168965279', '168989207', '168867769', '169021929', '169197899', '168855137', '168601601', '169036349', '168830518', '168882387', '168590982', '168882383', '169019344', '169014503', '168753378', '25984135', '168827807', '168654045', '168746426', '168981715', '168822328', '168616177', '168628101', '169023809', '169026168', '168744682', '168582671', '168760890', '168965319', '168882654', '168882656', '168929958', '168628805', '168925985', '168925984', '168607353', '168710555', '168886765', '168593182', '168593183', '168688771', '169003433', '169009100', '169009103', '168630563', '168848537', '168835938', '168552943', '169043234', '168548830', '169043230', '168548298', '168915644', '168858080', '169002210', '168963175', '168631619', '168590579', '168849448', '168800833', '168868218', '169017917', '168718315', '169019750', '169036967', '168668547', '168747088', '168702947', '168778260', '87890229', '168644232', '168736230', '168605852', '168675445', '168642686', '169037562', '168731918', '168962592', '168991141', '168658122', '168871164', '168996422', '168810278', '168874105', '168950411', '168887388', '168874101', '168874103', '168969318', '168818068', '168747338', '168768022', '168533009', '169029117', '168866977', '169038425', '168942259', '168682594', '168682596', '89254464', '168658696', '168922860', '168941780', '168663039', '168930475', '168757417', '168620925', '168771176', '168539753', '168998546', '168649323', '169192002', '168719041', '168670948', '168686030', '168547438', '168742308', '168893951', '168547435', '169005979', '168726679', '168995737', '168835555', '168835556', '168835557', '168535853', '168842790', '168541652', '168917648', '35924913', '168913766', '169018937', '168944096', '169012526', '168540521', '168906421', '168697564', '168672013', '169003661', '168775250', '168672015', '168574231', '168853346', '168975373', '168574237', '168824585', '168846232', '168704189', '168614208', '168657457', '168734572', '168904950', '169006441', '168923447', '168811909', '168714244', '168979083', '168585535', '168982898', '168857397', '168979086', '168982897', '168605472', '168605473', '168585539', '168603949', '168603737', '168919236', '168932118', '168728919', '169036916', '168587551', '169039252', '168701623', '168829533', '168669751', '168987976', '168931701', '168983411', '168801609', '168832858', '168621522', '168935141', '168530063', '168880262', '169015512', '168889601', '168982091', '168939877', '168752162', '168965485', '168744307', '168830723', '168690353', '169033308', '169045981', '168846945', '168948339', '16517426', '168850783', '168696216', '168923050', '168803025', '168849665', '118741847', '168676620', '168756932', '67063531', '168756938', '168706823', '169001468', '168713505', '168663546', '168880000', '168901856', '168966593', '168706538', '168555507', '168649825', '168890783', '169005748', '168535780', '169005744', '168776250', '168688962', '168762794', '168762061', '168536324', '168667202', '168586208', '168894316', '168532835', '168731139', '168613493', '168629195', '168986621', '168779887', '168534780', '168534785', '168531339', '168646468', '168531333', '168706758', '168874486', '168730985', '168990153', '168589512', '168589514', '168973024', '168589517', '168819651', '168792054', '168522388', '168584607', '168602004', '168786263', '168876895', '168619030', '168617165', '168653611', '168532785', '168532784', '168601064', '168908890', '168793452', '168795886', '168656229', '169037778', '168684643', '168600170', '168637172', '168886378', '168754395', '168950621', '168685118', '169020998', '168721958', '168852310', '168837181', '168551574', '168642765', '168535369', '169037485', '168642768', '168907459', '168892259', '168872084', '168726097', '168694211', '168597187', '168892254', '168801072', '168703957', '168781636', '168910331', '168770703', '168892780', '168839919', '168632644', '168660093', '168770708', '168700751', '168542843', '168640239', '168814358', '168801512', '168801510', '168864941', '168600740', '169003358', '168973778', '168937398', '168892439', '168611646', '168774934', '168548198', '168585677', '168960508', '168957280', '168618922', '168963858', '168548686', '168625992', '168817726', '168990483', '168963855', '168530630', '169032709', '168991428', '168854762', '168969815', '168785814', '168535416', '168991351', '168873663', '168991425', '168536433', '168853383', '168991426', '168692882', '168842497', '168844639', '168747671', '168875445', '168946788', '168875443', '168957752', '168946784', '168871281', '168655287', '168836169', '168655575', '169012066', '169042605', '168989012', '168836163', '168754137', '168824266', '169029306', '169029301', '168987500', '168965598', '168638529', '168704060', '168942440', '168894551', '168984607', '168916036', '168666678', '169197512', '168703226', '168846113', '168751103', '168748959', '168689765', '168748953', '168775083', '168540736', '168569665', '168697976', '168693296', '168539690', '168836294', '168911170', '168533490', '168911175', '168533493', '168891000', '168838191', '168804867', '168536228', '168917437', '168647649', '168972503', '168544855', '168605043', '169032854', '169032858', '168996361', '168806206', '169109712', '168971317', '168790764', '168874719', '168534205', '168887593', '168534203', '168930868', '168689589', '168534209', '168953747', '168870629', '168870628', '168964501', '168738844', '168961755', '168738662', '168533278', '168870151', '168612696', '168612694', '169111904', '168962218', '168968595', '163642844', '168708622', '168947336', '169021563', '168986107', '168955909', '168977470', '168955901', '168966904', '168728549', '168641152', '168944135', '168874671', '168724204', '168693927', '168728275', '168888218', '95733280', '168888211', '168866944', '168686200', '168719674', '168714742', '168959171', '169015890', '168889167', '168850866', '168977391', '169035411', '168529682', '168997018', '168895788', '168721181', '168740813', '169005170', '168895837', '168640121', '169005176', '168997015', '168535156', '168583586', '168535153', '168905568', '168846559', '168645544', '168712599', '168905561', '168813376', '169015096', '168904167', '168663979', '169040299', '168800480', '168621400', '168632079', '168750553', '168632070', '168606027', '168535338', '168558753', '168595931', '168543410', '168792261', '169031084', '168967368', '168645678', '168666362', '168951365', '168891892', '168786900', '168886839', '168722569', '168537790', '168904386', '168861923', '168939866', '168722562', '169035947', '168789290', '168867788', '168825080', '168896849', '168829640', '81015706', '168919569', '168994594', '168164354', '168905384', '168923267', '169003089', '168720272', '168821342', '168821435', '169003983', '168753353', '168923268', '168659657', '168921537', '168665690', '168841691', '168800588', '168841126', '168825882', '168825553', '168900716', '169023465', '168800585', '9644453', '168554902', '168680024', '168976991', '168786673', '168536150', '168860784', '168508377', '168536157', '168860781', '169008530', '168707371', '168598681', '168577799', '168532316', '168619644', '168897526', '168716659', '168982339', '168694002', '168704028', '168996620', '168882714', '168882715', '168718331', '168800367', '168800366', '168800364', '168748018', '168718339', '168800361', '168631630', '168911785', '168596777', '168959827', '168723616', '168740503', '168659852', '168731932', '168962860', '168955330', '168872417', '168576214', '169033627', '168594684', '169038630', '168502522', '168865977', '168980177', '168771376', '168934704', '168685327', '168736078', '168926966', '168723801', '168926964', '168612440', '169025109', '167646360', '168705708', '168827488', '168711915', '74724698', '168682865', '168943263', '71408919', '168930495', '168949265', '168949263', '168658818', '168949261', '168998563', '168975170', '168543253', '168677266', '168539778', '168909244', '168677269', '168956735', '168900046', '168853240', '168629883', '168535936', '169005913', '168742322', '168676156', '168753026', '47126952', '54356874', '168711000', '168599485', '168541108', '168597425', '168627868', '168909927', '168540500', '168887904', '168775278', '169017063', '168903924', '168855711', '168533687', '168733796', '168595156', '168802200', '168817188', '168551359', '168872190', '169006461', '168873430', '168812398', '168923468', '168537944', '168873439', '168746004', '168822707', '168912018', '168982706', '169028222', '168986826', '140334090', '169009744', '168965840', '168648449', '168889787', '168782214', '168788718', '168579293', '169039272', '168692159', '168983477', '168987991', '168888685', '168888686', '168529724', '168948685', '168934970', '168529722', '168967196', '168772132', '168853340', '168999215', '169021681', '168941916', '168772138', '168752180', '168773847', '168974977', '169018914', '168632715', '168752843', '168830967', '168574930', '168717404', '168873045', '168571191', '168902387', '168753160', '169027685', '168756404', '168838761', '168676357', '168881563', '168602593', '168816584', '168552331', '168552333', '168663561', '168783293', '169012201', '168713523', '168903322', '168531137', '169001118', '168531683', '168531682', '168531681', '168531680', '169000533', '169000530', '168766015', '136605226', '169005427', '168934946', '168586737', '168886977', '168740508', '168992877', '168992875', '168945882', '168886979', '168984469', '168532816', '168706779', '168866315', '169179104', '168773267', '162641841', '168728028', '168562432', '168879945', '168850215', '168531358', '168541943', '168535454', '168961928', '168535452', '168541942', '168998145', '168994439', '168998360', '168984644', '168816912', '168816911', '168959616', '168959617', '168731036', '168731034', '168745857', '168624599', '168749168', '168922309', '168715372', '168675420', '168632702', '168600642', '168838881', '168554593', '168873950', '168740983', '168695272', '168821662', '168705697', '168840752', '168901652', '29570974', '168578599', '169018366', '168858439', '168703938', '168897319', '168910311', '168897314', '169002971', '168849343', '168892230', '168539073', '168701208', '168841596', '168869726', '168647753', '168589285', '168765095', '168907381', '168807259', '168728608', '168532101', '168883543', '168532102', '168637563', '168678299', '169036548', '168537169', '168895737', '168580364', '168818498', '168781040', '168492360', '168807668', '168680819', '169033012', '168535595', '168825944', '110198037', '168895196', '168853913', '168625976', '168990354', '168990355', '168768969', '168751291', '168700761', '169029547', '168785290', '168657608', '168780907', '168657602', '168706205', '168601584', '168827016', '168996435', '168564996', '168694493', '168981969', '169002394', '168867436', '168993060', '168789126', '169026319', '169026318', '168626053', '168877200', '168718293', '169026312', '168871557', '169026315', '168873092', '168948900', '168754111', '169042374', '169019092', '65752664', '168833468', '168554733', '168778891', '168764948', '168835101', '168835452', '168898227', '168917238', '168755572', '168655827', '168832486', '169036813', '168764947', '168666615', '168957616', '168770982', '169009916', '168915859', '168703208', '169009919', '168858296', '168929363', '141986590', '168733952', '168887021', '168935236', '168868004', '168868006', '168856526', '168856527', '168887759', '168590306', '168798416', '168533473', '168537023', '168890131', '168725235', '168765327', '169004631', '169028948', '168898085', '168891062', '168605028', '168907298', '168599675', '168536120', '168890293', '168935840', '168996380', '168996383', '168656952', '168974789', '168673029', '168618011', '169085556', '169034904', '169042884', '168930804', '168823620', '168771585', '169034094', '168818234', '168987522', '162355358', '168635886', '168988344', '168907292', '168972780', '168623463', '168936401', '168902300', '168834270', '168913044', '169030737', '168865179', '168966965', '168966962', '168534080', '168949746', '168728254', '168839371', '168553807', '168969306', '168975783', '168975781', '168687411', '168649789', '168712603', '168956966', '168723125', '168719658', '168742468', '169013572', '169006877', '168782507', '169015306', '168942247', '169040104', '168837337', '168745449', '168793791', '168553111', '168932099', '169035381', '168831170', '168381418', '168993707', '168985696', '168679505', '45612434', '168997032', '168895762', '168977795', '168895814', '168572854', '168987835', '168799955', '168662573', '168676290', '168992601', '168600021', '168992605', '168799959', '168563647', '168840507', '168663736', '168805799', '168781387', '169038593', '168671745', '168535387', '168782557', '168985473', '168543473', '168758265', '168792207', '168568500', '168720073', '168766977', '168604858', '168534843', '168974053', '168959115', '168552295', '168757907', '168786029', '168958620', '168721706', '151963330', '168700340', '168855176', '168715490', '168668190', '168797693', '168762453', '169012823', '168944376', '168720254', '168923760', '168898265', '168902840', '169004645', '168721025', '168552076', '168848758', '168894417', '168741344', '168841109', '169015193', '168538999', '168665100', '168841103', '168849488', '168776910', '168945204', '168688260', '168568990', '168727140', '168536170', '168815724', '168607310', '168933059', '9929934', '168977002', '169004461', '168619999', '168675245', '168889467', '169004399', '168633877', '168618570', '168674045', '168538191', '168554328', '168868255', '168546805', '168996979', '168841362', '168797271', '141015533', '168920114', '168596796', '168959808', '168962807', '168574908', '168605810', '168725125', '168959800', '168656161', '168877402', '168924810', '168907126', '168624785', '168952472', '168827713', '168727700', '168980401', '168930120', '168618713', '168726860', '168754562', '168990997', '168742310', '168723758', '168810235', '168607767', '168612429', '168539576', '169034954', '168654833', '168699964', '168820045', '169025473', '168936984', '168736099', '168566105', '168969358', '168703058', '168748411', '168709031', '168698566', '168842863', '168842861', '168989755', '168833144', '168778374', '169005694', '1863042', '168539712', '168983984', '168822498', '163928735', '168822491', '168829286', '168764207', '168541164', '168541167', '168914766', '168867845', '168942799', '168608036', '169033603', '168867848', '169007861', '168540562', '168592788', '168702094', '168791330', '168541539', '168679773', '168878449', '168767431', '168873419', '168931527', '169041996', '47731866', '168931529', '168604039', '168983188', '168692394', '169021379', '168537210', '168537967', '168999134', '168923403', '168234074', '168756055', '168822723', '168904999', '169028207', '168634824', '169024782', '168964365', '168658388', '168968400', '125518157', '168737329', '169127045', '168762701', '168738361', '168907958', '168714599', '168983322', '169023203', '168705444', '168970860', '168780540', '168835662', '168835663', '168835661', '168970868', '168734795', '168832812', '168848377', '168713728', '154396197', '168880224', '168697554', '168807477', '71331535', '168590763', '168672002', '168834649', '168827898', '168767033', '31305427', '168648877', '168888402', '168625094', '168547035', '168662900', '168843423', '168599264', '168596158', '168854824', '168803578', '168972643', '168956479', '168758166', '168768926', '168851852', '168806328', '168534129', '168532637', '168842262', '169013824', '168901816', '169001134', '168885079', '168947042', '169001137', '168534437', '168534436', '168531113', '168534432', '168721284', '168782762', '168782763', '168721281', '168583355', '169232327', '168766565', '168645731', '168899439', '168536367', '168964543', '168934920', '168934923', '168984402', '168673828', '168534653', '168739362', '168910617', '168641073', '169024922', '168729933', '168852503', '168532871', '168636035', '168939525', '168824787', '168531379', '168779598', '168913671', '169035771', '168966736', '168831540', '168881170', '168680653', '168620258', '168680655', '168920459', '168782495', '168924479', '168747963', '168781579', '168670347', '168956114', '168963098', '169106461', '169015118', '169037739', '168877656', '168947350', '168959328', '168959329', '168944665', '169035594', '168750457', '168515963', '168556019', '169010544', '169005704', '168695701', '168661105', '168886333', '168699286', '168695258', '168999512', '168761510', '168996175', '168809910', '168664777', '169018306', '168536816', '168703914', '65918459', '168868390', '169002956', '168849362', '168643068', '168632603', '169011878', '169010320', '168738643', '168681447', '168975296', '168994145', '168990114', '168863774', '169065108', '168670021', '42710942', '169003396', '168532129', '168678137', '168799304', '115103915', '168977766', '168532121', '168970261', '169016497', '168654546', '168837334', '168921472', '168638834', '168599871', '168807681', '168542376', '168807685', '168937297', '168672889', '169023782', '168655714', '168989231', '168618963', '168829050', '168688309', '168977178', '168763236', '168879549', '168961850', '168937293', '168878632', '168755084', '169032747', '168991393', '168808173', '169032743', '169037990', '168763233', '168755089', '168902738', '168946748', '169032210', '168546670', '168809881', '168946746', '168730908', '168973688', '168844677', '168738972', '168787750', '168534989', '168534986', '166996020', '168807530', '168800797', '168833445', '168911422', '168836121', '168598473', '168929789', '168775848', '168842638', '73061558', '169043401', '168764691', '125416024', '168730903', '168806024', '168806797', '168647734', '168892969', '168733148', '168540772', '168540771', '168743287', '168733141', '168810390', '168615073', '168887009', '168854010', '168854012', '168785728', '168854016', '168997943', '168866851', '168785724', '168987964', '168871233', '169029523', '169039848', '168648811', '168764075', '168986324', '168923148', '168857279', '168857278', '168658737', '168930359', '168658732', '168688047', '168683210', '168823604', '168644102', '168533238', '168878534', '168950228', '168533984', '168993334', '168533230', '168533231', '168533980', '168931190', '168696739', '169037852', '169025319', '168966928', '168942405', '168696732', '168729721', '168688298', '168831370', '53762141', '168941176', '168922696', '168992770', '169017451', '33062662', '168874692', '168615446', '168631087', '168798883', '168697425', '168813618', '168551098', '168771653', '168659019', '168977721', '168551091', '168609815', '168729385', '168651110', '167154967', '169013512', '168955383', '168835784', '168840944', '168530185', '168840940', '168671507', '168834430', '168834432', '168541917', '168909132', '169024467', '168609448', '168787278', '168609444', '168975455', '168535119', '168963251', '168861502', '169023285', '168992667', '168585725', '168861509', '168561076', '168993534', '168562578', '168993285', '168570782', '168993280', '168932215', '168543450', '168587651', '168789702', '168543459', '168811428', '168614710', '168914595', '169020506', '168948430', '168870868', '168898601', '168838045', '168819860', '168921438', '168617354', '33924288', '168756850', '168921912', '168741102', '168948431', '168722523', '168939467', '168626811', '168744556', '168974788', '168748421', '168882320', '168675498', '168914737', '168963660', '168972108', '168902820', '168972101', '168749585', '169003945', '168713284', '169070734', '168885337', '109247300', '168532469', '168840561', '168667499', '168742816', '168900757', '168546794', '168665162', '168688799', '168800097', '168815251', '169011206', '168545117', '168638842', '168959799', '168688254', '168545448', '168818552', '168705220', '168959791', '168971900', '168987228', '168977574', '168966696', '168619602', '168835201', '168800899', '168974881', '168610760', '169107711', '168584383', '168721874', '169100417', '169024509', '168820369', '168638590', '168925169', '168721878', '168612547', '168783813', '168942505', '168959860', '168962758', '168962536', '168731208', '168593468', '168859192', '168847867', '169002548', '168256799', '168750660', '168952419', '168920301', '168554369', '168953234', '168920198', '168833773', '168833783', '168955601', '168845713', '168617920', '168699949', '168907990', '169034978', '168666730', '168723730', '107038020', '168637481', '168935881', '168711621', '168566479', '168669731', '168548545', '168533029', '154642396', '168842842', '168897078', '168877247', '169002722', '168697635', '168839140', '168839146', '168592415', '168746298', '168771489', '168899564', '168997533', '168916351', '168883000', '168574782', '168970741', '168878282', '168808544', '168794745', '168632114', '168541149', '168541148', '168832780', '168766601', '168979357', '43419302', '168850011', '168967831', '168582960', '168871108', '169038677', '168809762', '168716131', '168965088', '168907233', '168871453', '169033373', '168791683', '168802974', '168695963', '168791869', '168997284', '168780701', '168817676', '168818374', '168530518', '168734809', '168824563', '168947654', '168924432', '168923426', '168529667', '168600250', '66123846', '168611172', '168822742', '168829574', '169009894', '169009892', '169024230', '168877885', '168877886', '168805129', '169007067', '169042432', '115600933', '168988363', '168824749', '168931768', '168988429', '168622901', '168829591', '168963393', '168784903', '168754962', '168999258', '168807811', '168796484', '168945472', '168692118', '168544937', '168815141', '168591500', '168941547', '168894729', '168887271', '168590111', '168689208', '168846922', '168712470', '168667157', '168913695', '125578634', '168662386', '168900698', '168851835', '168803516', '168860554', '168753122', '168851832', '168662291', '168544231', '168613712', '168641148', '168591440', '168922773', '168531170', '168862992', '168966532', '168763462', '168738348', '168860848', '168810612', '169020048', '168788750', '57316356', '168943820', '168564068', '168536346', '168536344', '168992833', '168992343', '168617720', '79606271', '168617722', '169009394', '169024901', '169022575', '168532854', '168939508', '168939509', '169034727', '168852561', '168709658', '168944702', '168624435', '168596678', '168718868', '169020596', '168820711', '168620509', '168820248', '132884028', '168942955', '168786280', '168959301', '168803914', '169027069', '168714136', '168592099', '168663382', '168745894', '168714130', '168727959', '168663389', '168955127', '168996058', '168757315', '168632198', '168815186', '168881331', '168985087', '168863570', '168844875', '168535648', '168701796', '168933851', '168412106', '168589715', '168994647', '168531751', '169004052', '168712894', '168708010', '168724026', '168545976', '168781880', '168580630', '169031606', '168600813', '168761573', '168857864', '26204791', '168901168', '168603356', '2157700', '168867003', '168899636', '168578162', '168533229', '168800154', '169036591', '168688498', '168535496', '168976566', '168861204', '168815390', '168815393', '168658038', '168819635', '168675031', '168670002', '168995562', '168864923', '168682636', '168640927', '168864290', '46395894', '168999417', '168875132', '168957220', '168544657', '168908174', '168606316', '168606317', '168599858', '168909753', '168652100', '168618947', '168953427', '168660383', '168980309', '168735995', '168751251', '169221937', '168882155', '168838841', '169036042', '168951684', '168657998', '169008627', '168656640', '168988149', '168952338', '168548680', '168827053', '168937483', '168703792', '168703793', '168655591', '169038994', '168532339', '158547867', '168844655', '168586907', '168804723', '168648555', '168754159', '168953680', '168677944', '168798183', '168693760', '168868598', '168751433', '168678253', '168978743', '168907699', '168549339', '168554770', '168710720', '168978749', '168786214', '168700046', '168710728', '168674929', '168764671', '168842387', '168857780', '168788608', '168915890', '168806001', '169009953', '168971117', '169038193', '168996030', '168823191', '168683587', '169011199', '168930592', '168974438', '168950792', '168810372', '168798451', '168728537', '168610533', '168615012', '168627421', '168854781', '168642024', '169039820', '168533430', '168604225', '169029501', '168987307', '168985047', '169032762', '168867763', '168543021', '168870468', '34962562', '168648292', '169033410', '168784079', '169033414', '169042841', '125593054', '168738565', '168693180', '168644915', '168535824', '168998934', '168831594', '168950245', '168964560', '168733692', '168986064', '168824974', '168919542', '168808448', '169025623', '168917761', '168824978', '168636141', '168748869', '168968615', '168941156', '168773419', '168887686', '46723153', '168784585', '168709827', '168709824', '168723981', '168709106', '83630274', '10314272', '168899973', '168543026', '168895622', '168940824', '168539053', '168571721', '168853411', '168817135', '168543029', '168707546', '169006295', '168734477', '168580197', '168917497', '169031624', '168580192', '168555915', '168607075', '168555911', '169137971', '168597903', '168579339', '168738753', '168836804', '168572815', '168853573', '168601215', '168630904', '168650835', '168853578', '168963239', '168708845', '168898596', '168648129', '168580994', '168651697', '168651696', '169024573', '168563608', '168605680', '169024576', '168671782', '168534660', '168656437', '168965765', '168932231', '168867271', '169014168', '168717589', '168919894', '168890399', '168604818', '168919892', '168912719', '169027276', '168898629', '169027278', '168838061', '168860140', '168055145', '168775867', '168745722', '168714727', '168725027', '169015347', '168927999', '168684165', '168623849', '168927995', '168688809', '168717634', '168914716', '168986850', '168667361', '168720295', '168762145', '168581487', '168777319', '168676436', '169004607', '168747404', '168866277', '168620418', '168865069', '168779928', '168904679', '169001215', '168988326', '168737721', '168760364', '168988327', '168746708', '168841634', '168589451', '168797454', '168820420', '168668483', '168908796', '168984214', '168637676', '168838452', '168586107', '168542307', '168956094', '168956096', '168705790', '168956022', '168705793', '168675207', '168793513', '168941861', '168795967', '168836788', '168781965', '167814649', '168631699', '168950843', '168610703', '168925103', '168690736', '168748156', '168819153', '168920275', '168602330', '168866601', '168926713', '168723046', '168866605', '168866607', '168904099', '169004296', '168761149', '168613174', '168653595', '74300738', '168576275', '168822907', '169009269', '168897275', '169018707', '168770337', '168740383', '168770333', '168822909', '168873156', '168943627', '169003219', '168723713', '168947623', '168670493', '168711601', '169018518', '168541304', '168544227', '168537662', '169018513', '168849197', '168563136', '168632413', '168902295', '168892538', '168807724', '168833105', '168899504', '168997511', '168835346', '168802002', '168911893', '168854443', '168743821', '168670271', '168659343', '168878262', '169031418', '168962969', '121785937', '168796005', '168764243', '168569712', '168597482', '168979376', '168717182', '168722101', '168546374', '168971587', '168971580', '168893840', '169023590', '168680499', '168953212', '168655470', '168842822', '168938344', '168713384', '168987461', '168829821', '168659697', '168708675', '169191750', '168659694', '169006197', '168734869', '168827311', '168746066', '168960610', '168892714', '168904733', '168811987', '168531578', '168770808', '168623215', '169030899', '168722048', '169017223', '168590283', '168909135', '168949575', '73857494', '168590285', '168742520', '168717354', '168686613', '168948624', '168943635', '168742299', '168942614', '169021198', '168531571', '168835624', '168835622', '168713851', '168875754', '169009747', '168705801', '168991040', '168544910', '168852135', '168760092', '168974604', '168636400', '168646811', '168689996', '169017086', '168903450', '168729593', '168763737', '168533370', '168810580', '168738100', '168583812', '168905116', '169013088', '168905112', '142307957', '168995516', '168734287', '168635693', '168986510', '168899762', '168642046', '168866047', '168731427', '166494466', '168591427', '168930795', '168608922', '168936780', '168757768', '169001170', '168877203', '168534475', '168862978', '168610280', '169001178', '168871076', '168880246', '168787934', '168733489', '168903441', '168739411', '168532589', '168617709', '169022516', '169218027', '169015485', '169015484', '169011778', '168783051', '168544157', '168537567', '168939568', '168834992', '168944722', '169020248', '168913633', '168944728', '168820261', '168920416', '168857603', '169030100', '168920412', '168881132', '168977798', '168690864', '168718805', '168719404', '168766746', '168664158', '168959673', '168741714', '169040420', '168880620', '168843552', '169040356', '169015627', '168851706', '16541715', '168597249', '168955167', '168757375', '168671643', '168757373', '168795724', '168839627', '168632176', '169010058', '168543791', '169033951', '169138893', '168720198', '168843288', '168906305', '168819431', '168843280', '168552757', '168967841', '168960851', '168537412', '168537413', '168663106', '168537417', '168531845', '168839999', '168616077', '168531842', '168892702', '168811214', '168608930', '168592990', '168855012', '168690249', '168986503', '168914361', '168914363', '168647730', '168820998', '168830675', '168589845', '169019981', '168747924', '168961981', '168961980', '169027734', '168619037', '168682614', '168981187', '168999473', '168814931', '168822221', '168841980', '168921125', '168616613', '168876124', '168895709', '168554578', '168853965', '168748676', '168882178', '168540853', '168540850', '168754312', '168532052', '169029594', '168838864', '168688612', '168777430', '168583502', '168753505', '169043190', '168531632', '168827077', '168915701', '168698195', '168698193', '169002887', '168958430', '168660109', '168844106', '168660105', '168778527', '166062406', '168933201', '168899774', '168984005', '168934527', '168545633', '168828306', '168588642', '168859547', '168977233', '168670060', '168901341', '168682119', '168979496', '169009975', '168858769', '168541532', '168670540', '168636678', '168703517', '169033783', '168929995', '160821720', '168673261', '168716742', '168716746', '168929291', '168990510', '169012285', '169007107', '169020804', '168533417', '168536930', '169007102', '168536933', '168440114', '168536429', '168804370', '169020808', '168810359', '168607068', '168746205', '168755046', '168736778', '168559196', '168991932', '168872665', '168994564', '168806286', '169026950', '168658779', '168699236', '168638115', '168989637', '168578081', '168874790', '168930312', '168798512', '168860144', '168998405', '168726750', '168723504', '168726755', '168612615', '168907016', '168969187', '168818295', '169025353', '168987582', '168612469', '168942111', '169016544', '168834814', '169018706', '168941136', '168876498', '168763389', '169012429', '168903843', '169017410', '169017411', '168765929', '168782060', '168802615', '168677414', '168826846', '168543005', '168934768', '168915054', '168655953', '169031496', '168617713', '168962655', '168734457', '169021299', '168796854', '168857505', '168648726', '168575351', '168549207', '168649095', '168649097', '168767573', '168906653', '168542125', '168899920', '168807081', '168644380', '168637201', '168997098', '168742990', '168931046', '168824334', '168967059', '168864719', '168662082', '168600044', '168789869', '168640717', '168846089', '168530724', '168626439', '168840288', '168729767', '168816195', '168986189', '169024008', '168725228', '168702547', '168611839', '168867254', '168914227', '169036737', '168531414', '168587696', '169020658', '168649679', '168690472', '169121135', '168941787', '168919870', '168953084', '168913350', '168853886', '168873323', '168658691', '168756761', '168621372', '168692650', '168898642', '142945345', '168713587', '168875944', '168629587', '168571649', '169015362', '168745173', '168886206', '168555935', '168914088', '168886204', '168556911', '168556912', '168820528', '168688868', '169003771', '168905308', '168886876', '168548223', '168886872', '168752296', '168972146', '168759481', '168972140', '168951069', '168542758', '168534648', '169035496', '168715734', '168534641', '168865041', '168812240', '168890911', '168800504', '168535514', '168635523', '168722375', '24051972', '168786363', '168815211', '168706524', '168851015', '168596446', '169011249', '168851018', '168542362', '168838479', '168617064', '168977530', '168633786', '168691301', '168952982', '168952981', '168971947', '168947272', '168610879', '168662485', '168553530', '168740670', '168966098', '168950850', '168950857', '168990215', '168688288', '168880913', '168990211', '168863050', '168720412', '168827148', '168886293', '168721838', '168720416', '168747026', '168723691', '168777846', '168695688', '168642665', '168866660', '168736562', '168901552', '168846404', '168750337', '168849466', '168694374', '168910707', '168921958', '155154697', '168538936', '168662407', '168665614', '168566268', '168899695', '168904258', '168899697', '168539515', '160184585', '168655489', '168554329', '168899698', '168597764', '168883186', '168637447', '168793397', '168893938', '168999597', '169023546', '169016040', '168537600', '168544205', '168537602', '168597718', '168774817', '107473623', '168944299', '168632432', '168546536', '169040346', '169065880', '168590355', '168537740', '168808509', '168765716', '168574744', '168693632', '168736383', '168731862', '168583691', '168808506', '168911618', '168533483', '168981849', '168995063', '168923975', '168585227', '168981841', '168540708', '168569776', '168541183', '168858688', '168880988', '168867539', '168959983', '168953761', '168871417', '168953763', '168533485', '169026725', '168829802', '168931546', '168785511', '168730352', '168969047', '168772291', '168861999', '169008026', '168818339', '168627633', '168917428', '168530550', '168897426', '169008028', '168703163', '168774765', '168703167', '168949069', '168915914', '166097549', '168689428', '168770860', '168946116', '168868360', '168941729', '169012636', '168697859', '168693534', '168907967', '168635877', '168775140', '168771192', '168948607', '168972449', '168891348', '168917511', '168917040', '168666193', '168713838', '168713839', '144085227', '169024497', '168544979', '169010435', '168852114', '168941587', '168859476', '168550517', '168540580', '168856354', '168646834', '168887982', '168769019', '168533603', '168668960', '168533607', '169039149', '168644088', '168670696', '168632895', '168609238', '168802931', '168590159', '168530803', '1685126', '168536140', '168972629', '168972625', '168796626', '168866067', '168605724', '168731403', '168691689', '168986530', '168706265', '78671854', '168922730', '168773597', '168831296', '168658234', '168641677', '168615341', '168615340', '168997773', '168721220', '168987072', '168888608', '168810657', '168920546', '168620762', '168940986', '168977822', '168888604', '168538813', '168942969', '168866398', '168642399', '168816764', '168729956', '168622616', '168759368', '168982437', '168982435', '168671485', '168791538', '168909097', '168639959', '168721591', '168909093', '168650420', '168849721', '168463689', '168679461', '169013695', '169053327', '169014808', '168973848', '168914966', '169014802', '168884766', '168914968', '168718828', '168713306', '145972951', '129789236', '168993961', '168763978', '168805817', '168797842', '168649285', '168668602', '168965686', '169135553', '168543801', '169033932', '168758147', '168864347', '168744790', '168640508', '168861759', '168529942', '168970954', '168529949', '168902165', '168828436', '168861027', '168813900', '168908516', '168813908', '169035684', '168531865', '168580671', '168934147', '168679079', '168609992', '168603399', '168805333', '168807556', '168849879', '168825493', '168690224', '168830652', '168575727', '168647287', '168963564', '168735405', '168647284', '168607150', '168927818', '168925906', '168621144', '168891512', '168621637', '168827925', '168822205', '168815213', '168921145', '168616635', '168905839', '168807521', '168856041', '168908518', '168635529', '168751214', '168568610', '168540876', '168762626', '168847989', '168984392', '168751218', '168933194', '169004548', '168886602', '168668963', '169003049', '169009020', '169010928', '168910068', '168694143', '168892188', '169026477', '168914378', '168553421', '168868881', '169026391', '168995930', '168534927', '168797371', '168868889', '168868559', '169036884', '168917879', '168987137', '168710769', '168579055', '168573745', '168794793', '168962962', '168670042', '168816887', '168675566', '168700081', '168952634', '169037139', '168532188', '168991628', '168793539', '168577159', '168674216', '168591395', '168704251', '168683540', '168674749', '168817438', '168806048', '168618895', '168590382', '168879303', '168879302', '168868772', '168879659', '168879658', '168744668', '168938266', '168536402', '74160721', '168697991', '18723671', '169022090', '168818103', '46399875', '168366948', '168936862', '168749889', '168872686', '168793802', '168981472', '169033454', '168980709', '169042808', '168658932', '169017380', '168908816', '168836725', '168622665', '168545960', '168539890', '168775689', '168733381', '168870687', '169005836', '168661563', '169013715', '168640005', '168696827', '168696820', '168995475', '168772158', '168912937', '57367179', '168541514', '168544561', '168541510', '168917729', '168548025', '169018876', '168697445', '168600554', '168903820', '168897801', '168769956', '168610720', '168935143', '168551033', '168672119', '168895663', '168853455', '168998753', '168531348', '168891751', '168768535', '168605536', '168819175', '168784037', '168648708', '168811826', '169028630', '168733528', '168906670', '168985615', '168587326', '168889604', '168609173', '169039424', '168579805', '169025957', '168628169', '168824646', '169031161', '168861567', '169006787', '168585786', '168756602', '168872805', '168564615', '169223028', '168616806', '168842037', '169024027', '168946322', '168834767', '169020636', '168928368', '168876968', '169020633', '168570807', '168940246', '168830006', '168690412', '168888816', '169027949', '168888813', '169041722', '168526585', '168762368', '168379453', '168666101', '169029613', '168569190', '168921979', '168854981', '168542739', '168744001', '168918985', '168918984', '168788484', '168776193', '168717674', '168926618', '168776628', '168914757', '168667637', '168843327', '168804809', '168815053', '159005310', '168905320', '168739047', '168984568', '168803273', '168914237', '169009231', '168731678', '168731679', '163881553', '169030950', '168534113', '169035477', '169001253', '168646030', '168728433', '168838872', '169013054', '168964818', '169031342', '168589413', '168980905', '168535579', '168723325', '168959089', '168714092', '155818663', '168613203', '168727527', '168686080', '168619913', '168922449', '168918323', '169018125', '169042041', '168820549', '34639235', '168680159', '168604999', '168715414', '168820540', '168820015', '168949933', '168792646', '168976643', '168976641', '168998195', '168747042', '168747040', '168605896', '168926756', '168933126', '169041059', '169003783', '168783874', '169012775', '168777869', '168940587', '168624703', '168897238', '168981283', '168694314', '168704736', '168828572', '168949913', '168900918', '168910273', '168538911', '53278277', '168776992', '168900910', '168760850', '168777718', '168911583', '168703740', '168700142', '168676629', '168848311', '168911070', '169004206', '168769882', '168588233', '168794498', '140664451', '132443593', '168847542', '168722493', '168875093', '168827330', '168910184', '168901853', '168863079', '168845970', '168584896', '168990231', '168829192', '168601973', '168574766', '168702110', '168535990', '168923951', '168977113', '168924674', '168995046', '168661974', '168827137', '168585203', '168967899', '168979844', '168737144', '168909986', '168871439', '169019998', '168664991', '168867510', '168900660', '168618791', '169026705', '168722149', '168555159', '168969335', '168588254', '168554652', '168554654', '168754070', '169029226', '168987427', '168785025', '168954281', '169009831', '168842203', '168599281', '168599282', '168593832', '168703145', '168915935', '168974394', '168840269', '169019605', '168702812', '168702360', '168718220', '168836395', '168678402', '168710957', '168851435', '168539790', '168765736', '168765737', '168676113', '168598138', '168912581', '168669890', '168972427', '168541703', '168590072', '168542503', '168972421', '168596507', '168962077', '168893076', '168955883', '168591565', '168790130', '168955887', '168571753', '108878516', '168814030', '168920024', '168584158', '168533334', '168612798', '168938304', '106280819', '23207095', '168818643', '168934964', '168972390', '168698052', '168783276', '168784951', '169028174', '168702865', '168831270', '168641619', '168872257', '168862932', '168964048', '168728337', '168771718', '168836977', '168839256', '168884163', '168573754', '168888668', '168884168', '169025035', '169036019', '168939210', '168982411', '168622631', '169021735', '169021736', '168982417', '168889829', '168889282', '168709638', '168782437', '168541857', '168624496', '86740393', '168874443', '168744926', '168642376', '168997116', '168864699', '168766873', '168707269', '168762824', '168662327', '169252001', '168714406', '168901322', '169030060', '168664446', '168840447', '168840113', '168531083', '168904208', '168531084', '168534566', '168763992', '168801940', '168811033', '168649912', '164061313', '168811036', '168867359', '168595403', '168738503', '168806724', '168890745', '168895514', '168647518', '168824106', '168810920', '168794933', '169027554', '168861008', '168585950', '168992893', '168862201', '168580656', '168901183', '168761840', '169005992', '169136895', '168901189', '168679051', '168807577', '168677888', '168530349', '168744259', '168601704', '168927347', '168846351', '168976093', '169007775', '168976096', '168874485', '168753724', '168621619', '169004782', '168659361', '168715750', '168744782', '168715752', '168619880', '168797751', '168715204', '168844366', '168841244', '168946950', '168904395', '168953958', '168748631', '168825218', '168843865', '168753899', '168668306', '121773135', '168886626', '169011632', '168581652', '168615021', '58195142', '168588936', '168633622', '168557329', '168882176', '168852496', '168915031', '168694122', '168533526', '168349385', '168868572', '168910519', '168660146', '168919637', '168751498', '168966565', '168718002', '168973354', '168982629', '168534908', '168747785', '168933244', '168893078', '168681293', '168854233', '168959940', '168598168', '168854239', '168573892', '168860519', '168588684', '168864989', '168542267', '168955071', '168794559', '168653741', '168877740', '168967125', '168679947', '168818116', '169030368', '168823137', '75040168', '168735824', '168879327', '168678099', '168560408', '168908466', '168908465', '168961026', '168582397', '169007149', '168536465', '168536462', '168533103', '168627917', '168643321', '168907585', '169029036', '168969235', '169037372', '168936846', '168789634', '168907589', '168749899', '169037374', '169206902', '168746782', '168771528', '168980722', '168804889', '168823687', '168838017', '168533198', '169042286', '169017368', '168743579', '168738885', '168627700', '168738881', '168765698', '168845233', '168956677', '168845547', '168934198', '168661234', '169013847', '168764264', '121351640', '168995456', '168912914', '168891513', '169018740', '168857761', '168606480', '168703550', '168606487', '168892304', '168989902', '168903805', '168709840', '168856491', '168958903', '168738082', '168896420', '49755450', '168958902', '168843687', '168730256', '169037803', '168532788', '168960771', '168707075', '168864061', '168659532', '168585414', '168682219', '168537336', '168537339', '168864068', '168824524', '168753368', '168979676', '168979677', '168608572', '168608573', '168829904', '168968545', '168986948', '168941687', '168968018', '168738260', '168785519', '168579399', '168886886', '168733507', '168533819', '169034499', '169034121', '169045080', '168991007', '168628143', '168873269', '168987890', '168873264', '86138987', '168931008', '168724624', '168611301', '168875632', '168569206', '168912606', '168648184', '168680880', '169024043', '168748809', '168595088', '168946304', '168623110', '168678846', '168718633', '168834703', '168876982', '168940224', '168888838', '168830027', '168639454', '169041250', '168888831', '168876989', '168686820', '169041704', '168898681', '168539881', '168747438', '168542712', '168954138', '169011989', '168875987', '168885627', '168885626', '168711889', '169015853', '168875989', '88908387', '168531272', '168534357', '168890219', '168856147', '168715850', '168535087', '168762129', '168843659', '168908265', '169008066', '168707927', '168941374', '102311569', '168939663', '168888477', '168739029', '168816044', '168752276', '168774550', '169035459', '168812209', '168591611', '169246665', '168862054', '168713952', '168824664', '169035187', '168534174', '169035182', '168650857', '168531410', '168591099', '168798919', '168620409', '168534179', '168819206', '168644744', '168786853', '168961807', '168581792', '168551879', '168998088', '168893683', '169040072', '168759669', '168926202', '168531725', '168891567', '168749045', '168805999', '168805990', '168715434', '168690692', '167239816', '168959578', '168826240', '168697675', '168848086', '168854812', '168741541', '168901519', '168714342', '168901042', '168840656', '168664651', '130445113', '168897217', '168589351', '168542017', '168582514', '168715696', '168546717', '168973169', '168546715', '168843721', '168595820', '168841652', '168760873', '168535221', '169175531', '168536894', '168551785', '168549236', '168896486', '169003506', '168588740', '168661938', '168859910', '168995202', '168599919', '168763852', '168645838', '169016772', '168953549', '168858530', '168974804', '168867103', '168863093', '168657859', '169009119', '168601911', '168990969', '169036766', '168973292', '168873854', '168659323', '168659322', '168853280', '168736832', '169032606', '168991569', '168619536', '168756525', '169012412', '168611092', '168547668', '168979865', '168697326', '168684504', '168603043', '168538790', '168900646', '168900644', '169019195', '168829246', '168693311', '168693645', '168688176', '168567308', '168912212', '168755634', '168898300', '168875772', '168666225', '168842226', '168806361', '168703123', '168666813', '168538246', '168538531', '168915263', '168895671', '168718401', '168718406', '168798350', '168702836', '168852116', '168536856', '169040945', '168902416', '168916682', '168765757', '168654586', '168638404', '168654580', '168545007', '169042111', '168764402', '168596937', '169016994', '169016995', '168857159', '168599002', '168541721', '169038724', '168806507', '168799848', '168996519', '168634452', '168618110', '168534046', '168997850', '168998833', '168925520', '168730178', '168817146', '169022917', '168818664', '168870768', '168824874', '1683241', '168534513', '168748006', '168729622', '168968203', '168575613', '168869740', '168784975', '169028406', '168968755', '168691643', '79574928', '168531647', '168658273', '168862912', '168831250', '168798745', '168634984', '168828357', '168634236', '168810692', '168530486', '168771777', '168711213', '168693862', '168961589', '168631256', '168631607', '169025054', '168622983', '169041132', '168742235', '168891301', '168888139', '168884498', '168729443', '168766357', '168671444', '168598529', '168831035', '168650462', '168944780', '169008444', '168883597', '168918820', '168791397', '168979501', '168975574', '168533354', '168565080', '168766856', '168788249', '168905426', '168707244', '168564793', '168676822', '168960181', '168537810', '168530843', '168704806', '168598520', '168530131', '168671624', '168638520', '168993697', '168865673', '168767324', '168993692', '168937891', '168937892', '168732931', '168965647', '168684882', '168937897', '168758451', '168627393', '168530807', '168679897', '168535766', '169035657', '168932028', '168824129', '168953440', '168529905', '168954091', '168529901', '168741049', '168617230', '168640541', '168617234', '168569014', '168994718', '168831439', '168616546', '168999407', '168867084', '168811276', '168811275', '168820977', '169019978', '168655823', '168825183', '168863794', '168546389', '68528428', '168720685', '168556692', '168532915', '168821510', '168745279', '168848653', '168625040', '168885452', '168745272', '168889771', '168663304', '168684263', '169010697', '168665224', '168825230', '169010692', '168824651', '169033653', '168976876', '168943333', '168809732', '168958050', '168870495', '168535898', '168964992', '168549004', '168945957', '168549003', '168893272', '168532237', '168532235', '169004503', '168751093', '168591804', '168727480', '168840793', '168647139', '168534969', '168534968', '169010962', '168878104', '168863134', '168647136', '168797332', '168958421', '168973629', '168602233', '168602235', '169022138', '168981652', '154593345', '168656531', '168860881', '168757281', '168757285', '166551370', '168683502', '168754482', '168735806', '168879340', '168879343', '168874262', '168559696', '168695858', '168756617', '168536442', '168619084', '76948814', '168536448', '62109497', '169013927', '168942319', '168923643', '168783690', '168761733', '168797957', '169002350', '168694102', '168358334', '168980743', '168737062', '168554113', '168539322', '168836761', '168895332', '168723567', '168661218', '168845219', '168726048', '168612679', '168991197', '168781119', '168711108', '168814227', '168814226', '168999766', '168544035', '168711450', '168864300', '168544524', '168971669', '168858258', '168704295', '168909868', '168950479', '168855967', '168844289', '168903284', '168987766', '168672157', '168807826', '168975963', '168765941', '168697379', '168853491', '168924558', '168642945', '169037828', '168991226', '168669447', '168954872', '8600585', '168547951', '168603988', '169028369', '168960753', '168756397', '154988585', '168728132', '168537319', '168935558', '168809286', '168752882', '168809282', '169017341', '168752272', '168533877', '168876970', '168818855', '168785612', '168533878', '168948782', '5356567', '168416893', '168942967', '168999370', '168945317', '168607414', '168875612', '168756640', '168910223', '168829116', '168806197', '168716103', '168773947', '168779003', '168540603', '168887354', '168887351', '168686373', '168625196', '169014479', '168662826', '168846824', '168696425', '169013312', '169014470', '168677250', '168830732', '168796214', '168835053', '168756704', '168869483', '168894172', '168635918', '168835128', '168534378', '169009369', '168745481', '168872889', '168706639', '168865796', '168865794', '168767665', '168597986', '168587369', '169020182', '168843674', '169008047', '168621813', '168734031', '168984527', '168536203', '168557590', '168986748', '168816064', '168986740', '168563798', '168783755', '168944049', '168890196', '168624358', '168863475', '168862074', '168534155', '169030914', '168531437', '168531430', '168534153', '165468149', '169031140', '168928631', '168690903', '168570729', '169027323', '168875504', '168931358', '169040053', '168761679', '168877112', '168997586', '168613240', '168922402', '168918364', '168828600', '169018163', '168975522', '168704900', '168724370', '168587585', '168763812', '168906944', '168749029', '168895944', '168558243', '168589631', '168776660', '168821727', '168959594', '168926796', '168968326', '168900428', '168883470', '168537551', '168662475', '169014900', '168904544', '168686498', '169001926', '168805646', '168805644', '168849917', '168675862', '168691867', '168910237', '168867145', '168910235', '169010756', '168985216', '169010200', '168985211', '168709568', '168730862', '169005595', '168973107', '168535204', '169031393', '168939183', '168588760', '168859423', '168695444', '168794455', '168859399', '168859428', '168918065', '168599933', '168864824', '168864823', '168585181', '168875058', '168954954', '168788388', '168790824', '168655960', '168946563', '169040409', '168871615', '168953529', '168946569', '168882073', '168830402', '168953521', '168994282', '169036706', '168951748', '168761365', '168720474', '168964899', '168878823', '168859645', '168896209', '168859640', '168899632', '168981826', '168540730', '168924638', '168727121', '168827172', '168867553', '168603060', '168737678', '168910497', '168684525', '168867558', '168694868', '169023513', '751824', '168550103', '168900622', '168567323', '168693662', '168652399', '168941647', '168678370', '168710195', '168710625', '168593092', '168695991', '168586985', '168542296', '168699747', '168891445', '168924946', '168842249', '169009874', '168666244', '169043363', '168806695', '168971270', '168996756', '168915203', '169075361', '168538519', '168868300', '168718426', '168681469', '168710999', '168798372', '168800966', '168536783', '169020963', '168534197', '168681462', '168638396', '168907397', '168736859', '168870567', '168642792', '168566944', '168808216', '168599065', '168424164', '167821053', '168592173', '168974681', '168636486', '168764139', '168991894', '168550576', '168618173', '168716597', '168716594', '168540293', '168550578', '168606711', '168955849', '169010072', '168939362', '168991897', '168964227', '168920069', '37396962', '168845667', '168610349', '168969577', '169025212', '168532735', '924065', '168968226', '168968223', '168936701', '168968220', '168773534', '168658256', '168955596', '168831231', '168944233', '168778577', '168852035', '168570003', '168697741', '168888118', '168677394', '168802193', '168865051', '168583722', '168888114', '168535846', '168861758', '168942696', '168942699', '167903245', '168772480', '168613016', '168834062', '168773281', '168882443', '168614211', '168918800', '168671420', '168887835', '169062115', '168950176', '168707650', '168677649', '168802447', '168677640', '168632251', '168855403', '169008708', '168551222', '168794326', '168531463', '168683257', '168900814', '168846362', '29583479', '168992501', '168992500', '168869010', '168729601', '168861269', '168616985', '168649779', '169020798', '168767309', '169020791', '168811076', '168732914', '168603660', '168909383', '66740813', '168587114', '168890079', '168890077', '168938705', '169005293', '168864568', '168963443', '168571605', '169027516', '168838160', '168589467', '168739494', '168898727', '168725983', '168934153', '168980959', '168725769', '168960251', '168921817', '168856537', '168745077', '169015406', '168745070', '168788507', '168854187', '168715572', '169034709', '168509299', '168722671', '168620300', '169020425', '168782361', '168620307', '168927300', '168690712', '169036576', '154060116', '169019955', '168943270', '168614584', '168961188', '168937602', '168612020', '168557100', '168804475', '168542101', '168804473', '168848986', '168784363', '168956411', '168880118', '168654154', '168841805', '168847361', '168841753', '168715716', '168740510', '168665205', '168763254', '168660328', '169011368', '168871179', '168790812', '168086929', '168782207', '169219399', '168753582', '168588979', '168699241', '168549023', '168894209', '169010380', '168847182', '168663187', '168977652', '168966620', '168591868', '169035376', '168534943', '168850294', '168546904', '168534947', '168793525', '83136249', '168863114', '168865818', '168603729', '169028570', '168056285', '168710294', '168826169', '168804044', '168701287', '168837325', '168653709', '168877708', '168601724', '168959900', '168962675', '168962679', '168847984', '168761085', '168578752', '168981101', '168944594', '168625881', '168735860', '168990595', '169020884', '60071262', '168661053', '168883629', '168799574', '168866895', '168983053', '169042778', '168627489', '169013947', '168537768', '168969424', '169016327', '168969933', '40467461', '169016320', '169013948', '169001580', '169002372', '169002377', '168849767', '168986109', '168998097', '169010414', '168556764', '168911972', '168403948', '168754753', '168595036', '168755786', '168895317', '168636305', '169013805', '168763509', '168891806', '168670350', '168834890', '168918582', '168918584', '168918587', '168544505', '168682789', '168774397', '168909806', '168732366', '168572459', '168623373', '168858270', '168795646', '168666100', '168618347', '169026481', '168820537', '168608689', '168791764', '169036130', '168672603', '168817539', '168791949', '168969906', '168983081', '169007396', '168707036', '168537374', '168585452', '169115353', '168746163', '168737423', '169038393', '168606770', '168811841', '168746169', '168882870', '169019788', '168946695', '168965048', '168980769', '168655394', '168958978', '168942739', '168983262', '168983263', '168752830', '169014679', '169007349', '168755405', '168969630', '168772034', '168842721', '168842722', '168834612', '168835218', '168852290', '168745649', '168890640', '168752755', '168591265', '168561267', '168752751', '168752753', '168887335', '168775918', '168702649', '168763652', '168887330', '168887621', '168697354', '168702640', '168778167', '168778166', '169041215', '168946814', '168891119', '168662777', '168835072', '168744997', '168648941', '168917342', '168946810', '168936392', '168605480', '168812571', '169012167', '168812572', '168812575', '168975662', '168812576', '168534314', '168606824', '168620208', '168533509', '168848295', '168533854', '168533857', '169039446', '168899045', '168536224', '169011658', '168707966', '168786101', '168927200', '168943326', '168933879', '168707969', '168625645', '168732215', '168869206', '168629276', '168986017', '168783779', '168629279', '168605159', '168687959', '168615518', '168847830', '168798956', '169030939', '168724173', '168884829', '168768742', '164486976', '168899047', '11199487', '168928303', '168885088', '168723341', '168956030', '168913105', '168727666', '168691290', '168954646', '168888085', '168901267', '168863254', '168952908', '168749002', '168763877', '168896788', '168839569', '169027691', '168637399', '168776137', '168538552', '168945914', '168766156', '168637396', '169000239', '169019891', '168904039', '168840619', '168840613', '168708111', '168847647', '168537575', '168937950', '168943359', '169010774', '168606177', '168744845', '168758312', '168579187', '168985279', '168787678', '168890992', '168583145', '168776060', '168792446', '168973127', '168535593', '169036142', '168583143', '168792443', '168923082', '168994049', '168657090', '168970475', '168537689', '168970471', '168935845', '168694410', '168814522', '147861834', '168611501', '168744150', '168744401', '168744152', '168626237', '168539605', '168688143', '168690037', '168735304', '168882056', '168567520', '168567523', '168718070', '168688200', '168886215', '168753933', '102816167', '168673447', '168753245', '168695413', '168662009', '168952276', '168727141', '168750919', '168546918', '168703695', '168737655', '168965046', '168532475', '168910960', '168760214', '168701833', '168701832', '168655491', '168789049', '168550125', '168880908', '12334606', '168860471', '168860473', '168754588', '168665407', '168804785', '168760666', '168804781', '168978664', '169004263', '168808234', '168670162', '168705447', '168641405', '169003544', '169009850', '168842260', '169009856', '168842914', '168703478', '168974370', '168911198', '168915225', '168887301', '168689132', '168800948', '168795782', '168980974', '168711361', '168887106', '168748367', '155948236', '168973876', '168896695', '168536810', '169007510', '168778391', '168710464', '168769302', '168908838', '168870545', '168710462', '168743101', '168978402', '121162049', '168856334', '168991524', '169032645', '167727921', '168978409', '168974158', '168958508', '168795434', '168732559', '168668892', '168613863', '168945627', '168650038', '168874039', '168644001', '168925561', '168559065', '168920046', '168879004', '168907379', '168961630', '168667214', '168533081', '169039817', '168889543', '82269733', '168698069', '168945898', '168831213', '168748988', '168689799', '168828394', '169205088', '169012766', '169157311', '168940903', '168809695', '168816885', '168909467', '157282650', '168742279', '168535867', '168853351', '168535860', '169039504', '168972246', '168850329', '168835683', '168599041', '168850326', '168541766', '168859566', '168689865', '168962070', '168906779', '168859565', '168909015', '168763466', '168587756', '168995031', '169039051', '101206434', '168592097', '95422382', '168791207', '168601316', '168938497', '168997288', '168762842', '168801955', '168904868', '169014885', '168735375', '168873565', '168600300', '168530336', '168730029', '168997194', '168768327', '169039032', '168939015', '168968241', '168648001', '168643333', '168980878', '168728826', '168643335', '168603644', '168649208', '168782164', '168876840', '168788607', '168649750', '168884785', '168758416', '168983527', '168954056', '168640583', '168967558', '168923652', '168806043', '168714607', '169021796', '168544037', '28528533', '168965304', '168690738', '168825412', '168928510', '168825418', '168882265', '168927893', '169000394', '168950181', '168762513', '169019932', '168657156', '168896901', '168843081', '50939827', '168783389', '168731778', '168756510', '168635766', '168851210', '169004728', '168890906', '168531770', '168602666', '168713385', '168783386', '168531579', '168534058', '168534509', '169040952', '168779357', '168779356', '168993652', '168531572', '168534505', '168885419', '168842054', '169005419', '168739218', '168966019', '168843551', '168788954', '168667552', '168607948', '169001339', '168797642', '168843558', '168894222', '168964114', '168576353', '168962733', '169035603', '168565601', '168646514', '168819315', '168993034', '168865239', '168998379', '168966604', '168966603', '168966010', '168725142', '168996042', '168819720', '169036809', '168991437', '168826491', '168826490', '168959924', '168956205', '168826499', '168926057', '168837656', '168822869', '168622250', '168922214', '168869058', '168952044', '168952045', '168578771', '168750213', '168881552', '168715731', '168924308', '168925970', '168738581', '168559651', '168950753', '168826726', '168929238', '169022016', '168859874', '168630069', '168749772', '169018410', '168645990', '168741765', '76719267', '168541222', '168708328', '168594233', '168546928', '168594235', '168733201', '168841487', '168900293', '168900295', '168539812', '168845258', '168833023', '168700662', '168845251', '168700665', '168869983', '168829212', '168864341', '168588049', '168864344', '168764325', '168751561', '168935672', '168703869', '168892364', '168892365', '168630316', '168979929', '168643690', '74921309', '169023942', '168989344', '168652057', '168735842', '168735840', '168818090', '168818093', '168969435', '168854653', '168817045', '169029638', '168785384', '168969383', '168991265', '168975929', '168813604', '168531485', '168530430', '168746633', '168537359', '168530438', '168816185', '168813609', '168827893', '168623315', '168844705', '168938748', '168559388', '168980783', '168743041', '168930091', '168702408', '168743044', '168778981', '169042228', '168702407', '168949438', '168833534', '168989168', '168697111', '168818547', '168948740', '169043272', '169029981', '168953023', '168621086', '168755422', '169014659', '168596895', '168599454', '168599455', '168596892', '168892810', '168842704', '168842701', '168555401', '168887318', '168550435', '168790520', '168550436', '168716413', '168868110', '168631897', '168763675', '168672669', '168964389', '168919251', '168939292', '169039602', '168547335', '168891139', '168889512', '168917362', '168676965', '168648966', '169041355', '168605313', '168575220', '168890861', '168747428', '168986259', '168809422', '168531742', '168794260', '168683103', '152378559', '168757486', '168763581', '169020147', '168533522', '168533523', '168940574', '168607443', '168533527', '168533529', '168927870', '168612944', '168986788', '168889949', '168981929', '168759934', '169262317', '168915907', '168992248', '168869221', '168982000', '168553272', '18041242', '169035161', '169035163', '168948487', '168910611', '168719167', '168897990', '168724620', '168610011', '168874527', '168232714', '168712718', '169041231', '168686337', '169041234', '169022785', '169040548', '168947299', '168761638', '168564250', '169022783', '168755885', '169015215', '168947921', '168880542', '168947293', '168757037', '168912878', '168757030', '168710419', '168890427', '169005625', '168839549', '168707948', '168662138', '168717752', '168853689', '168707941', '168668685', '168554273', '168745564', '168904057', '168814891', '168740055', '168805687', '168750685', '168947280', '168805681', '168844801', '168820891', '168820890', '168965414', '26909123', '168535249', '168592324', '168730829', '168863347', '168589497', '168535247', '168583166', '168698314', '168720703', '168858265', '169027675', '168786380', '168984271', '168875019', '168757005', '168748824', '168855303', '168815743', '168616240', '168616715', '168835911', '168829399', '168690926', '168754216', '168540959', '168855081', '168908173', '168590674', '168838945', '168969317', '168585707', '168897807', '168893195', '169039599', '168538779', '168746825', '168880969', '168703677', '168921264', '168774078', '168705267', '168837247', '168921261', '168921262', '168558713', '168760764', '168536773', '168631073', '168953782', '169019133', '168896105', '168933328', '168678338', '168810176', '168876810', '169011441', '168907976', '168848397', '168820180', '168991726', '168532046', '168619773', '168793371', '168532041', '168859460', '168991893', '168548127', '168806652', '168806655', '168971239', '168596550', '168538804', '168591071', '169019683', '168542216', '169017841', '168800438', '168919088', '168908505', '169007066', '168800430', '168998624', '168710487', '168921690', '168978427', '168755163', '168619808', '168529872', '169032114', '169032115', '168659928', '168653517', '168877515', '1749320', '168858151', '168691365', '168989570', '168930217', '168823725', '168577672', '168996991', '168836461', '168591100', '168693086', '168693088', '168916190', '169027486', '168919173', '168956571', '168895292', '168818399', '169022978', '168986689', '168654299', '168770448', '168597668', '169018628', '168857688', '168694367', '168924988', '168534070', '168947739', '168958786', '168887782', '168697708', '168697250', '169042056', '168949603', '168672272', '168802153', '168997442', '168702230', '168973925', '168792765', '168635875', '168834872', '168775038', '168847891', '168547523', '168547833', '168774106', '169000113', '168670817', '169113642', '168646659', '169006623', '168879191', '168541785', '168541786', '168606631', '168667227', '168805040', '168856226', '168964254', '168677680', '168763119', '168587733', '168533957', '168652846', '168780369', '168802372', '168975260', '168817258', '168604167', '168730005', '168931166', '168817252', '168824987', '168604160', '168640613', '168873506', '168676889', '168768539', '168585640', '168784262', '169024694', '168729641', '168729642', '168752653', '169024129', '168626776', '168629094', '168752305', '168609692', '168609693', '168649222', '168988102', '169023310', '168617388', '169039359', '168860086', '169027809', '168853767', '168948558', '168628648', '169023268', '169027805', '168692755', '168714958', '168645086', '168912677', '168959862', '168739986', '168542495', '168946887', '168739988', '168885254', '135917849', '168982945', '168889202', '168941386', '167085824', '168534292', '32314636', '168959493', '168773791', '168716886', '168579505', '168776567', '168962754', '168717020', '168882201', '168843717', '168902900', '168905593', '168962366', '168739182', '168931975', '168803423', '168851946', '169009552', '169025950', '168042878', '168731758', '168713454', '168880156', '168968844', '168885430', '168557149', '168841845', '168665840', '169001576', '168671686', '168862929', '168534075', '168796026', '168650994', '168792813', '168976760', '169005477', '168589001', '168668389', '168976815', '168860663', '168937108', '168843575', '168667574', '169011325', '168695313', '35587449', '168933132', '168542005', '168992908', '168759214', '168759216', '168933138', '168862289', '147691557', '168646926', '168532923', '168942895', '168773135', '168635512', '168773136', '169017330', '168740738', '168848015', '168820403', '165595983', '168659457', '168641253', '169031835', '168685776', '168819707', '168924124', '168934871', '168994509', '169156711', '168924125', '168605970', '169111087', '169027669', '168578791', '168995598', '168639071', '168684790', '168665718', '168881202', '168820663', '168848239', '136574693', '168627992', '168685513', '168862690', '168950120', '168747831', '168957875', '168675856', '168630045', '168708309', '168925306', '168901760', '168901766', '169003138', '168616380', '168698625', '169012598', '168587896', '168892161', '168619358', '168863157', '168868863', '168990626', '168670648', '168670645', '168675140', '168659242', '168794336', '168826782', '168682740', '168814283', '168781178', '169016588', '168731444', '168970621', '168733225', '168805356', '168619129', '168891849', '168935652', '168995109', '168611716', '168737750', '168737206', '168618830', '168651229', '50544398', '168625840', '169122198', '168883552', '168625848', '168987014', '168951869', '168675021', '168727337', '168614380', '168746610', '168756333', '168682567', '169252640', '168768597', '168682290', '168774683', '168842893', '168830008', '168877392', '168937794', '168579713', '169026994', '168882780', '168948831', '168754790', '168569298', '168590583', '168751329', '168710831', '168916561', '168554172', '168645477', '168754205', '168832209', '168690060', '168835258', '168622868', '168974059', '168996109', '168830455', '168703334', '168599430', '168599431', '168946380', '168806463', '168674816', '168939998', '168636500', '168996106', '168658195', '168812612', '168666803', '168963720', '168540337', '168763613', '168743391', '168983048', '168533721', '168738000', '168733055', '168854677', '168595692', '168654887', '168678924', '168939199', '168972270', '168542797', '168857328', '168982793', '168816624', '168762887', '168608866', '168852786', '168653856', '168771478', '168944396', '168634623', '168903196', '168771473', '168916382', '168881845', '168733585', '168620646', '169017617', '169039487', '168961464', '168964105', '169032088', '168983225', '168988230', '168988231', '169014633', '168533549', '168623739', '168759915', '168722855', '168783734', '168648635', '169028701', '169028706', '168936531', '168635612', '168865082', '168531499', '168858289', '169020696', '168997279', '169020691', '168839426', '168543152', '168855784', '168836337', '168903998', '169041782', '169014181', '168696448', '168705038', '168717563', '168902025', '168916644', '168948491', '168847065', '168888580', '168880451', '168761619', '168622488', '168531151', '168731162', '168733637', '168805914', '168918383', '168834341', '168487911', '168828669', '168895431', '168701302', '168572964', '168909501', '168630830', '169027476', '168861143', '168645416', '168960332', '168960336', '168537533', '168847607', '168534712', '168779819', '168781419', '168850977', '168579149', '169012238', '168644500', '168531295', '168679336', '168855331', '168900360', '168630594', '168792377', '168352324', '168994770', '18928068', '168753463', '168808856', '168837801', '168563800', '168756494', '168716064', '168947126', '168550809', '168861211', '168760560', '168900172', '168125426', '168876629', '168963734', '168690071', '168667960', '168599483', '168951059', '168914151', '168668248', '168590618', '168586295', '169004111', '168776198', '168777223', '168777555', '168599487', '168880943', '169002983', '168546681', '168867617', '168915408', '168665037', '168844007', '168919711', '168815403', '168660002', '169000636', '168800186', '168800185', '169019381', '168800183', '168805827', '168710647', '168710135', '168536628', '168541103', '168607269', '168723074', '168977420', '168859330', '169003584', '168995829', '168877683', '73847338', '168981555', '168974335', '168868639', '168639534', '168858312', '168538826', '169177463', '168855809', '168812840', '169002678', '168980932', '168994990', '168973523', '168650346', '168879595', '168906503', '168903435', '168978632', '168800459', '168905841', '168998642', '96287330', '168705495', '169032687', '169037416', '168981887', '168624852', '168890021', '168683803', '168930760', '168958813', '168698611', '169009236', '168823961', '169030192', '168961673', '168916173', '168934070', '168539444', '168545880', '168661352', '168559028', '168958856', '168785087', '168891439', '168642852', '169029282', '168942549', '168947716', '169025509', '169036825', '168662649', '168885399', '168709912', '168599225', '168703431', '168892442', '168548101', '168774234', '169017533', '169017532', '168591042', '168775540', '168677375', '168702744', '17081275', '168604761', '168595225', '168717919', '168592501', '168958980', '168598939', '168808633', '168884416', '168726292', '168969882', '168704363', '168669520', '168547813', '168636722', '168873693', '168832692', '168995648', '168733780', '168857406', '168809328', '168958987', '168599080', '168737562', '169038232', '168608454', '168544358', '168805168', '168771599', '168609506', '168534116', '168814777', '168533977', '168533976', '168758637', '168997646', '168560382', '168818914', '168568153', '168931146', '168780324', '168791837', '168878316', '168999073', '168813035', '168967737', '168813032', '168813030', '168756167', '169022664', '168875597', '168666375', '168530266', '168994982', '168623506', '168734165', '168683147', '168632208', '168653994', '168789999', '168924752', '168964645', '168860957', '168928089', '168537442', '168983562', '169023372', '168989973', '168989971', '168977064', '168943704', '168954017', '168948021', '168846811', '168536574', '168835750', '168804980', '168835754', '168912654', '168998967', '168889268', '168796590', '168825069', '168848828', '168705979', '168781524', '41436539', '168687270', '168555341', '168813299', '168555349', '168597587', '168716206', '168776097', '168531877', '169041578', '168928882', '168581720', '168846071', '168961224', '168908367', '168768818', '75344940', '168965845', '168796046', '168646210', '168972734', '168602626', '168655692', '168784823', '168862770', '168779315', '42159585', '168534013', '168531532', '168610195', '168607569', '168535637', '168571845', '168933158', '168644608', '168815644', '169027281', '168645605', '169022420', '168759762', '168699550', '168759765', '149135467', '168629571', '168852432', '168875229', '168866461', '168633686', '168617418', '168576642', '168755925', '163235766', '168766133', '169018047', '169117396', '120356688', '168680722', '168678750', '168820462', '168610999', '168681230', '168819763', '168821338', '168741403', '168926013', '169037645', '169015026', '168783614', '169015023', '168757201', '168757976', '168849524', '168709487', '168849522', '168849520', '168592281', '168881595', '169161908', '168622542', '168881262', '168958185', '168890360', '169005325', '169000136', '168674603', '169173159', '168628596', '168893817', '168777052', '168630027', '168995344', '168675830', '168840026', '168537704', '168624991', '168704165', '168694180', '168614388', '168643730', '156583811', '12696317', '168529723', '169031754', '168735087', '169036847', '168716175', '168990642', '168808401', '168650646', '168924883', '168970352', '168799271', '168827272', '169118165', '168746987', '168867651', '168864389', '168937267', '168941839', '169033763', '168989304', '169023900', '168735887', '168833483', '168680150', '168751124', '168943087', '169011874', '168720990', '168846387', '168711987', '168942289', '168945065', '168805411', '168822176', '168790299', '168832838', '168941952', '168997396', '168974295', '168827419', '168968304', '168760047', '168882817', '169012117', '168743004', '168844749', '168943886', '168549999', '168836056', '168595508', '168908950', '168846350', '168888208', '168539855', '168899178', '168832734', '168832222', '168917634', '169025245', '168698865', '168666744', '168795001', '168938931', '168941488', '168974075', '168790073', '168874127', '168971551', '168823571', '168718691', '168641471', '169007747', '168581823', '168874153', '168733075', '168983028', '169034230', '168573344', '168968307', '169025190', '168959550', '168980253', '168982775', '168841274', '168972921', '168603812', '168939178', '168783134', '168760455', '168783132', '169028810', '169028811', '68514550', '168658316', '168920446', '168531709', '168823222', '169128674', '168834900', '168533569', '168649523', '168964124', '168738287', '169039971', '168826461', '168738282', '168726334', '169014963', '169025997', '168987295', '168888054', '169014615', '168536800', '168824683', '168942755', '168941228', '168306994', '168889676', '169043297', '168667811', '168918418', '168906499', '169030443', '168650564', '168879845', '168950073', '168906493', '169053023', '168997255', '168639832', '168997259', '168604591', '141839139', '168035702', '168712204', '169041902', '168904922', '39560839', '168861387', '169006167', '168884628', '169015706', '169015705', '168761948', '168597816', '168597817', '168985743', '87469053', '168922198', '168949366', '169005666', '168931501', '169005662', '168628298', '168764398', '168583218', '168579269', '168989898', '168529847', '168764870', '168864406', '168807531', '169014269', '168899882', '168757741', '168838338', '168534736', '168562446', '169035789', '168855317', '168985561', '168787163', '169249894', '168535285', '168791053', '168819957', '168791428', '168720741', '168753191', '168753193', '168837866', '168885577', '169035870', '168724886', '168744136', '168881674', '168744134', '168971570', '168963756', '169036787', '168919451', '168408409', '168688910', '168974052', '168843902', '168668223', '168536396', '168886274', '168705170', '168954598', '168688268', '168859970', '168622057', '168532884', '168532886', '168811719', '168591943', '168900849', '168715090', '168630303', '168900332', '168534867', '168973722', '168714984', '168634004', '169000652', '168860413', '168916226', '168548389', '168681397', '168644416', '168532088', '168602198', '168542217', '168933360', '168859311', '168532083', '168991855', '168532086', '168991857', '168806947', '168952745', '164418474', '168532770', '168619733', '168981536', '168981530', '168973898', '168577503', '168655786', '168868385', '165141097', '168973890', '169019470', '168650363', '168650364', '168664246', '168538848', '168538849', '168721907', '168854199', '168650177', '168681177', '168681176', '95017075', '169230401', '168656789', '168866717', '168883747', '168837139', '168659967', '168659966', '168656784', '168947081', '168849889', '169039620', '168619842', '168653550', '169034215', '168537624', '168872078', '168750755', '168851611', '168953163', '168833904', '168775480', '168929041', '169192553', '168895252', '168654781', '168942566', '168942567', '168804017', '168781031', '168832507', '168857643', '168813444', '168813445', '168805495', '157098836', '168668808', '168832742', '168774784', '168698479', '168910677', '168676513', '168649107', '168673412', '168595719', '168638178', '168775564', '168543365', '168885020', '168598954', '168969864', '168719774', '168970011', '167070911', '168763488', '168600456', '169010166', '88361167', '168978860', '168850347', '168979737', '168768161', '168652208', '169171522', '169007906', '168871253', '168958877', '168971492', '169039553', '168817749', '169039569', '168870872', '168871650', '168963114', '168738639', '169007902', '168692243', '169039005', '169006084', '168841682', '169016041', '168977269', '125641123', '169023045', '168651570', '168957665', '168725454', '168729178', '168858995', '169024163', '168752617', '168831852', '168941033', '168752610', '169012705', '168014585', '168536092', '168717247', '168726817', '168628607', '168366349', '168599608', '168692792', '168544801', '169010693', '168535323', '168544807', '169024382', '168664486', '168889246', '168852069', '168921890', '168885748', '168613997', '168797466', '65176945', '116571658', '168609520', '168944246', '168843753', '168847484', '168865596', '168905269', '168877694', '168667759', '168668038', '168880198', '168472261', '168756577', '168759566', '168851902', '168939783', '168968800', '168756578', '168676268', '168657513', '168663454', '168531518', '168779665', '168841886', '169001534', '168615612', '168724272', '168851415', '168570194', '168962669', '168586959', '168826893', '168627066', '168815665', '168681704', '168739278', '168536099', '168964938', '168720089', '168612110', '168861621', '169024832', '168535455', '168837453', '168962796', '168852457', '168836695', '168947865', '168968274', '169035666', '168721681', '168611409', '168709725', '169039485', '168752649', '168680702', '168966026', '169000334', '168825129', '168920768', '169027154', '168860153', '165571131', '168926036', '168777697', '168723192', '169134276', '168883512', '168840593', '168877784', '168664598', '168901418', '168624602', '168722512', '168727682', '37624469', '168993894', '168649849', '168828490', '168867287', '168603554', '168983046', '168684281', '168647441', '169000487', '168533548', '168535343', '168535346', '168583024', '168812339', '168675761', '169040286', '168807485', '168893831', '168630559', '168977095', '168995325', '168645977', '168664041', '168892611', '169029001', '168936220', '168876724', '168597011', '169010491', '168947197', '168923928', '168855108', '168954438', '168647661', '168973395', '168878920', '168923232', '168800288', '168729365', '168720555', '168746798', '168991137', '168981278', '168924865', '168991132', '168727021', '168794379', '168576842', '168935697', '169007718', '168712530', '168911051', '168789321', '168680532', '168550042', '168625808', '169026404', '168980276', '168754421', '169023928', '168625801', '168980271', '168649763', '168838118', '168829360', '168545183', '168638785', '168978924', '168699826', '168821174', '168711965', '168842504', '168682835', '169016092', '168996670', '168594435', '168941938', '168760060', '168941932', '169006057', '168871340', '168743025', '169012136', '169008488', '168882741', '169012133', '168973974', '168948872', '168808428', '168765651', '168595520', '168898755', '168545984', '168808421', '168951048', '168545762', '168753345', '168541602', '168894440', '168596872', '168673330', '168732490', '25087322', '168774571', '168996415', '168658154', '168806421', '168865903', '169030011', '168812657', '168980497', '168609951', '168775993', '168590092', '168964328', '168666203', '168620810', '168581840', '168936919', '168617993', '168983003', '168595065', '168936910', '168870338', '168729547', '169028523', '169028836', '168869174', '168731520', '169021380', '168982750', '169028298', '168936648', '168658842', '168789813', '47771928', '168624040', '168944354', '168949583', '168845551', '168821886', '168788495', '168539252', '168627651', '168940517', '168788491', '169039997', '168644178', '168940519', '168873951', '168907105', '168911828', '168771438', '168895065', '169025712', '168948721', '168948723', '168891992', '168836718', '168948728', '157503771', '168821664', '169028742', '168921341', '168834163', '168746398', '168672579', '168743977', '168878139', '168551513', '168697537', '168702027', '168907062', '168632331', '168639810', '168610079', '168632847', '169040704', '168975634', '168592711', '169013443', '168762964', '168928389', '169041293', '168686391', '168861362', '168891193', '168857368', '168530237', '168967678', '168645368', '168768442', '168908258', '168972943', '168671272', '169019600', '168531185', '168531187', '168767715', '168901888', '168587525', '168977841', '168589173', '168580707', '169000812', '168937999', '168818347', '168782248', '168780864', '168637861', '168853624', '168979440', '168529795', '168835382', '169232268', '169016572', '168692475', '168788159', '168645107', '168967416', '168705411', '168869288', '168935172', '169110944', '169007576', '168869287', '168880290', '168648677', '150137566', '168889656', '168838401', '16029250', '168985811', '169018737', '168993138', '168985817', '168820784', '168914999', '169036419', '168690304', '168597516', '168539955', '168888920', '168888922', '168625025', '169031372', '168954600', '168764608', '168923006', '168762293', '168923004', '168838732', '168786890', '168552367', '168837846', '168552364', '168745538', '168837841', '169040523', '168553094', '168715306', '169127964', '168900130', '169043029', '168838658', '169008319', '32930373', '168905742', '168842035', '168786097', '168642345', '169003196', '168641339', '168812138', '169016975', '168814837', '168862101', '168531983', '168665596', '168760292', '169031993', '153955565', '168760298', '168534800', '168598719', '168804709', '168536669', '168536664', '168598711', '168815305', '168900384', '168635253', '168542237', '169044609', '168548865', '168816965', '168816968', '168532751', '169042197', '168795854', '168980394', '168601501', '168610678', '168973564', '168925870', '168610674', '169223806', '69232363', '168826311', '168769545', '168557930', '59817513', '168974646', '168907482', '168956474', '168955269', '168952548', '168947067', '168755103', '153618327', '168659948', '168922067', '168615488', '168748019', '168761210', '168812454', '168694557', '168897344', '168703614', '168698279', '168553236', '168553542', '168799755', '168775761', '168879087', '168916138', '168707328', '168771885', '168531547', '169042388', '168899780', '168938945', '168907668', '168938949', '168734723', '168936120', '168898925', '168749502', '168832520', '169043388', '168640267', '168642442', '168537136', '168711558', '167796973', '168857620', '168544172', '168841564', '168649236', '168897163', '168674358', '168704399', '168771086', '168543340', '168595267', '168595266', '169039764', '168765356', '168536988', '168818485', '168583786', '169031571', '168857924', '168970037', '168585372', '168768037', '168583789', '168822524', '168768141', '168835273', '165492240', '168957706', '169038907', '168752453', '168996887', '169012097', '168537539', '168997686', '168785158', '168983615', '168601396', '92022275', '168963177', '168969150', '168601398', '168969157', '168539523', '168791288', '168924292', '168600381', '168924291', '168569508', '168692261', '168924295', '168917268', '168878358', '168616926', '168723069', '168752639', '168770933', '168957643', '169024637', '168722310', '168722318', '168743760', '168538452', '168831872', '168831871', '168887725', '168697941', '169128794', '168716029', '169012271', '169014003', '168742142', '168686724', '168717263', '168686722', '168686721', '168742415', '168692043', '169041609', '168854569', '168635817', '168912164', '168894638', '168725788', '168672864', '168885766', '168894633', '168852006', '168852001', '168578078', '168974738', '168887893', '168893573', '168934169', '168763177', '168848480', '168716240', '168742553', '168677194', '168677197', '168902740', '168908325', '168580929', '168908321', '168803443', '168924804', '168846038', '33129442', '168869341', '168866131', '168825776', '168816149', '142453582', '168966421', '168646737', '168534587', '168874682', '168650931', '168874933', '168727041', '168644996', '168860995', '168940892', '168964688', '168940891', '169029915', '168617453', '168617323', '168837438', '168837434', '168926634', '168958708', '168564311', '168720725', '169024853', '169024851', '168834444', '169018006', '168881006', '168534972', '168534284', '168535185', '168884013', '168895869', '168830830', '168766675', '169020479', '169040269', '168956287', '168902086', '168883534', '168761020', '168807614', '168741330', '168847924', '168709448', '168615363', '168671046', '168671041', '168850523', '168839712', '168698550', '168844969', '168890630', '168787559', '168890632', '169031137', '168758234', '169005367', '168631227', '168792707', '168701420', '168792704', '168583009', '168701429', '45888463', '168601295', '168977075', '168814154', '168861916', '168904376', '168935907', '168921360', '168616326', '168597032', '168651465', '168849784', '168666025', '168642679', '168789244', '168735774', '168735776', '167639380', '168632599', '168867435', '168614430', '168939925', '168606686', '168688899', '168720203', '168720202', '168952150', '168952155', '168827239', '168827235', '168867615', '168654824', '168659659', '168643613', '168538679', '168737739', '168582668', '168941876', '169026648', '168844262', '168625533', '169023413', '168882627', '169026178', '168886710', '168660617', '169011293', '168907877', '168705707', '168705254', '169026646', '157725905', '168682850', '168666525', '168932877', '168842529', '168945028', '168915326', '168996655', '168996654', '168953645', '168633880', '168806662', '169017962', '168868991', '168584844', '168584847', '168868995', '168973915', '168681588', '168622267', '168973911', '168559964', '168860201', '168860206', '168769157', '168593997', '168598504', '168635062', '168978031', '168675125', '168896044', '168774593', '168974039', '168608085', '168608087', '168971510', '168673601', '168795515', '168618237', '168865922', '169204519', '168930196', '168615143', '168874112', '168631819', '168856960', '168907299', '168802892', '168536511', '168644343', '168961157', '168961155', '57797668', '168536519', '168533749', '168907297', '168831989', '168866964', '168541852', '169029102', '168573470', '168866962', '169003536', '169088630', '168737996', '169217709', '168658685', '168683180', '168656849', '168828014', '168732749', '168828904', '168751835', '168881823', '168943583', '168972809', '168823599', '168934287', '168543286', '168529963', '169025738', '168888015', '168853270', '168535966', '168535967', '168536036', '168629853', '168629850', '168947542', '168805265', '168850067', '168942798', '168689965', '169017030', '168913954', '168743406', '168903975', '168897916', '168681631', '168975348', '168702046', '168839486', '168672004', '168912141', '168906181', '168551300', '168517981', '168779868', '169009912', '168645341', '168861344', '168923454', '168967656', '168606074', '168530211', '168940655', '169028504', '168530219', '168764763', '168609758', '168728929', '168903602', '168728695', '168728924', '168836321', '168609025', '168728923', '168932103', '168817408', '168738465', '169039243', '168938622', '168938626', '168719072', '169000871', '168640865', '168529773', '168614155', '168538360', '168794833', '168734741', '168810397', '168960357', '168935154', '168725314', '168725863', '168725648', '169040727', '169040722', '169021102', '168889630', '168531264', '168744312', '168965496', '168728076', '168744314', '168690320', '168549183', '130090033', '168590918', '168884955', '169031355', '168882505', '168914209', '169041413', '168805456', '168756430', '169009499', '168676657', '168945569', '169009491', '168547403', '168665524', '168880015', '168716729', '168555848', '111620762', '168706819', '168663559', '168665522', '168841921', '168534844', '168660203', '169005771', '169015910', '168535797', '168776265', '168739339', '168739338', '168919945', '74048548', '168593318', '168848065', '168919718', '168848060', '168532518', '168893445', '168852806', '168764546', '168986614', '168532511', '168904584', '169030593', '168641314', '168812113', '168578388', '168966212', '168865310', '168534827', '168990145', '168714219', '168534823', '168748458', '168994460', '168798005', '169036293', '168798003', '168816948', '168536683', '168710156', '168723018', '168961974', '168769663', '168542257', '169046995', '168747669', '168978932', '168977441', '169021989', '168613310', '168971871', '168988819', '168828753', '168750177', '168921776', '168921772', '168921773', '168721943', '168874325', '168754387', '168892158', '168929555', '168879539', '168533079', '168661157', '169248850', '168712808', '168719850', '44983096', '168796526', '168600881', '168624839', '168807437', '168981397', '168857813', '168532713', '168986341', '168553218', '168697598', '168539930', '168899015', '168549838', '168765598', '168595951', '168554079', '168545397', '168836179', '168907606', '168588103', '168622167', '168970234', '168727980', '168700768', '168541472', '168709168', '168703499', '169016171', '168813400', '168544154', '168817342', '35012692', '168921190', '168781079', '169032875', '168538882', '168931532', '169023888', '168980622', '168765370', '168604250', '168971215', '168604259', '159429467', '169031511', '168971740', '168805189', '168682448', '168991365', '168664861', '168991360', '168659430', '168628395', '168822507', '168981934', '168822056', '66767310', '133412855', '168737505', '168809836', '38438148', '168679367', '168572773', '168823905', '168683869', '169026619', '168567415', '168970933', '168983637', '168870167', '168568131', '168969173', '168963151', '169022823', '168898270', '168772771', '168607559', '168584295', '168912367', '168999015', '168835484', '168917791', '168651536', '168960645', '168957621', '169030650', '168550827', '168748922', '126356768', '168623568', '169019574', '168718534', '168681408', '168957301', '169019570', '168836285', '168836284', '169008690', '168697963', '168919378', '168758569', '168899274', '168542419', '169006842', '168835739', '169006597', '168832100', '168898052', '168599645', '169028973', '169028979', '24995838', '168550027', '168534212', '168555676', '168584042', '168528731', '168974750', '168930878', '169008762', '168823676', '169021365', '168716262', '169007420', '169007423', '168908859', '169034732', '169039525', '168533264', '168533260', '168866118', '139994072', '168707808', '168964860', '168967541', '168936124', '168910724', '168962200', '168594871', '168834287', '168922644', '168672446', '168966916', '168693910', '168950391', '169034099', '168883285', '168991301', '168714425', '168819066', '169015883', '168889172', '168959418', '168687167', '168947825', '168913549', '168984894', '168979952', '168773605', '168834463', '168767694', '169018023', '168807030', '168673215', '169019991', '168718950', '169000993', '168718755', '158995950', '168662012', '168846010', '168854093', '168713230', '168952604', '32104145', '168741317', '168664262', '150228724', '168648162', '168585884', '168750545', '168540688', '168671718', '168937978', '169097083', '168709420', '168767520', '168543934', '169023068', '169010104', '168582212', '168932733', '168787531', '168934166', '168701152', '168571822', '168645669', '168766925', '168625729', '168799557', '168768553', '169027991', '168628212', '168619653', '168760650', '168616303', '168995989', '168909514', '168921694', '168996845', '168921342', '168892652', '168789261', '168652746', '168963636', '168667681', '168898155', '168843682', '169036352', '168976180', '169036602', '168990803', '168720596', '169027190', '168954476', '169027196', '168720592', '168821355', '168777651', '168945794', '168981235', '168822991', '168951875', '169202487', '168822995', '168960985', '168921521', '168694922', '168611791', '168875702', '169023474', '169026110', '166652719', '168976980', '168751142', '168710524', '168786666', '168545147', '168805232', '168893302', '168598690', '168532301', '168532307', '168630510', '168842885', '168774603', '168729386', '168694074', '168666811', '168681565', '168858095', '168915307', '169043229', '168668558', '168841357', '168812927', '169019748', '168973933', '168590504', '168994851', '168584864', '168934079', '168800355', '168925194', '168545728', '168851719', '168804114', '168769137', '168769135', '169011760', '168769131', '168801196', '169032078', '168995184', '168953269', '168881532', '168809733', '168688626', '168858676', '168895487', '168806179', '168989496', '168536539', '168856940', '168823062', '168925444', '51311993', '168961172', '168771387', '168581336', '168950403', '168975984', '168617950', '73185805', '168551757', '168987767', '169022220', '168551753', '168551751', '169025131', '168883402', '168941796', '168828928', '169026809', '168828295', '168828922', '168989725', '14915165', '168717148', '168828924', '168898966', '168738996', '163960329', '168539740', '168791181', '168930181', '168776874', '41309604', '168995727', '168853250', '168917651', '168711077', '168922187', '168548777', '168913934', '168912871', '168903919', '168763784', '168975360', '168997761', '168975366', '168791367', '168987181', '169029783', '168818691', '168710826', '168682308', '169018647', '168585508', '168657444', '168861329', '168645327', '168682303', '168585507', '169006450', '168842953', '168869130', '168911702', '168648454', '168698455', '168926998', '24060856', '32180095', '168932122', '168811317', '168903624', '168782759', '168733410', '168811319', '168686680', '168987982', '168794858', '169023271', '168794855', '169012721', '168637354', '168696195', '168542621', '168530099', '168941468', '168600198', '168649844', '169021165', '168599150', '168736707', '169028788', '169120377', '169021169', '168941241', '168752172', '168595855', '169020566', '168677745', '168946816', '168820291', '168927758', '169023185', '168620209', '168889660', '168740480', '168928920', '168985588', '168657050', '168905165', '168888960', '168762254', '168603831', '168557773', '168666087', '168923042', '168686978', '168923041', '168687088', '169009476', '168784982', '167366977', '168880037', '168535829', '168847577', '168847575', '169001105', '147443505', '51558026', '168589742', '169015652', '169012996', '168975060', '168637976', '168919963', '168893468', '168984981', '168762074', '168586744', '168847513', '168894304', '168687885', '168964064', '168532820', '168532826', '168532824', '168852824', '168836739', '168892848', '168534792', '168724578', '168966762', '168706740', '168845949', '168920461', '168724572', '168920465', '168874497', '168665963', '168990167', '168535444', '168800105', '168535440', '168856422', '168919445', '169027030', '168627853', '168998314', '168951584', '168800108', '168714168', '168596596', '168933473', '168837992', '168893797', '168808811', '168596599', '168532796', '168537099', '168739156', '168745862', '168727904', '168803495', '168921751', '168921753', '168585706', '168881346', '168740140', '168920803', '168786079', '168826604', '168827085', '17900711', '168559758', '168846609', '165948439', '168866772', '168701245', '168575434', '168814574', '168857834', '168849350', '168841275', '0', '168558912', '168839969', '168910309', '168938238', '168845681', '168934953', '168713356', '168765574', '168542857', '168637513', '168947794', '168630727', '168588160', '168732515', '168682687', '69034602', '168939539', '168769764', '168548180', '168855882', '169033006', '168542126', '168937383', '168953452', '168992186', '168788359', '169036010', '168735926', '169032918', '168785771', '168870492', '168808109', '168970073', '169029578', '168991340', '168808102', '168659453', '168808100', '168999192', '168910483', '168893075', '168725973', '168978542', '168866584', '168979791', '168857480', '169026639', '168782553', '168542783', '168844627', '168953676', '168697012', '168989004', '169019370', '169042344', '168948915', '168702525', '168718677', '168696761', '168969112', '168535729', '168923864', '168917224', '168917227', '168601790', '168915519', '168990952', '168639990', '168703219', '168774418', '168915842', '168725438', '168386648', '168689757', '168550801', '168689755', '168538351', '168868017', '169004392', '168748944', '168636020', '168919356', '168538358', '168929430', '168733173', '169039086', '168769859', '168590333', '168702292', '168536495', '168744198', '168646431', '151653210', '168842745', '168891077', '168613469', '168986351', '168673037', '168795303', '168943465', '168996371', '169038411', '168673030', '169007998', '168584066', '168855016', '168716287', '168887584', '168798569', '168771595', '168683228', '169039094', '169020230', '168788533', '168584753', '168810430', '168735657', '168870631', '168533208', '168723594', '168998968', '168968649', '168619250', '168453385', '168642178', '168970730', '168869302', '168656734', '168834261', '168773442', '168966979', '168977104', '168614028', '168779394', '168532189', '168680334', '168693931', '168677488', '168704922', '168920257', '169020774', '168693938', '168620057', '168975792', '168708418', '168771620', '168607474', '169013548', '168686760', '168956914', '168956915', '168719649', '168928000', '168570360', '168742453', '168629063', '168729113', '168687416', '168536468', '168691282', '168629068', '168773664', '168716932', '168976025', '168828124', '168721191', '168842375', '168810319', '168906377', '168532732', '168581265', '168855575', '168855577', '168819667', '168817855', '168535146', '168556614', '168799961', '168902709', '169131538', '168937537', '168904151', '168741375', '168669321', '168904155', '168904184', '168663748', '168904628', '168966395', '168646087', '168993876', '168966396', '47544815', '168709401', '168684998', '157159978', '168787517', '168582230', '168811450', '168876467', '168785667', '168863427', '169102164', '168744536', '168535325', '169033693', '168618088', '168876468', '168943476', '168760247', '168810850', '168951352', '168720060', '168926361', '168984869', '168532731', '168781260', '168679172', '168616368', '168646337', '168616367', '168537788', '27617914', '168719202', '168740685', '168986996', '168825096', '168965285', '168927943', '168789288', '168724969', '168610613', '168963610', '169061227', '168735008', '168821407', '168557569', '168668672', '168926429', '168926096', '168777637', '169034618', '168588107', '169239479', '169042547', '168770368', '168684446', '168694908', '168740354', '168973489', '168900707', '168841111', '168973482', '169026139', '168883996', '168825549', '168554264', '168908721', '168860792', '168860793', '168851084', '168965261', '168545126', '168668459', '168984242', '168536675', '168893634', '168705217', '168794997', '168588804', '168706617', '168958482', '168910170', '168633843', '168858070', '168790210', '168692009', '168538185', '168915673', '168601950', '168164751', '168652461', '168610754', '169036957', '168778945', '168685831', '168797262', '168644247', '168612538', '168678569', '168602853', '168655412', '168772242', '168970683', '168613122', '168613121', '168751683', '168953242', '169021743', '162785063', '168615182', '168685319', '169007294', '17612166', '168961117', '168536554', '168982969', '168818056', '168988037', '168988030', '168969345', '168870820', '168736066', '168830792', '168936972', '168723748', '168880316', '168666877', '168544290', '169018542', '168774626', '168993659', '168609361', '54162588', '168930484', '167300822', '168778364', '168896667', '168592441', '168895008', '168845479', '168592445', '168997568', '168907160', '168895002', '168849480', '168637705', '168535927', '168637707', '168539309', '168670913', '168629895', '168907725', '168891242', '168854247', '168541110', '169038629', '168979300', '168806392', '168821679', '168677039', '168743440', '168702089', '168533690', '168713735', '168817193', '168829898', '168604515', '169041984', '169031700', '168530253', '168960643', '168537970', '168707103', '168645301', '168645302', '168682325', '159122706', '168746017', '168746014', '169024794', '168623243', '168623242', '168648303', '168904937', '168648300', '168737337', '168013960', '168946187', '168609065', '168782776', '168609795', '168816413', '169023215', '86883752', '168989816', '169020098', '169002911', '168780551', '168931750', '168529738', '168943648', '169191525', '169171584', '168939828', '168999222', '168611985', '169034470', '168725356', '168713882', '168705854', '168713884', '169017789', '168623060', '168706848', '168555087', '168534529', '168719819', '168887937', '168623068', '168716546', '169013209', '169014259', '147365508', '168638712', '168766791', '168830778', '168712426', '168838795', '168698746', '168851860', '168803017', '165662871', '168843188', '168638716', '169009457', '168658538', '168936747', '168663519', '168880584', '168653251', '168658532', '168530952', '168815860', '168858235', '169001127', '168862656', '168812487', '168865686', '169001431', '168531695', '168536179', '168671969', '168966569', '169114795', '168606916', '168536319', '168703908', '168919987', '168843988', '169034298', '168667235', '168536312', '168762057', '168598196', '62010126', '169021093', '168642322', '168866321', '168537555', '159164782', '168557482', '168986654', '168996142', '168834090', '168697317', '168889899', '168599032', '169020548', '169020549', '168879956', '168985872', '169020546', '168920441', '168793006', '168681310', '169027019', '168890143', '168720659', '168739945', '168961280', '168792029', '168538762', '168602115', '168672173', '168617110', '168622535', '168877623', '168959629', '168602623', '168578696', '168981022', '168828716', '168948019', '168828711', '168994135', '168684830', '168980173', '169010579', '168933520', '168753806', '168777175', '168821899', '168708023', '168532119', '168994635', '168901644', '168646777', '168761502', '168934968', '168591121', '168892203', '168698740', '168698217', '168694247', '168705536', '169034468', '168303732', '168694248', '168532222', '168800169', '168546621', '168890535', '168665588', '168863747', '168589545', '168535464', '168808342', '168907392', '168532112', '168853005', '168532116', '168532117', '168630251', '168822271', '168787455', '168805419', '168599866', '168611615', '169006541', '168953478', '168909722', '168722720', '168790977', '168530104', '168655701', '168805063', '168879578', '169007322', '169036036', '168962365', '168567184', '168925817', '168873966', '168878625', '168878624', '169032736', '168794096', '168924146', '168872614', '168548963', '169021932', '168552856', '168946756', '168611610', '169026309', '168550638', '169012035', '168995585', '168953657', '168784540', '168833453', '168833452', '168710268', '168775701', '168693739', '168702509', '168765557', '168832490', '168835443', '168832494', '168917206', '168772732', '168923885', '168917759', '168815866', '168624073', '168942439', '168892974', '169227750', '168806032', '168698961', '168742784', '156885502', '168641515', '169030391', '168868077', '168868076', '168812710', '168834139', '168697926', '168758558', '168540741', '168905937', '168733155', '168536964', '168533191', '168997955', '168825976', '14218899', '168769656', '168988191', '165139533', '168785755', '168992273', '168536968', '168972822', '169028689', '168871706', '168857204', '168605036', '168978068', '168972538', '169032865', '168603937', '168930349', '168872944', '57928022', '168930831', '168763484', '168934109', '169042895', '168962932', '168539391', '168543552', '168533220', '168810410', '168763489', '168757588', '169025305', '168664231', '168758717', '169031196', '169013786', '168983853', '168962242', '168602687', '169087159', '168752030', '168982108', '168962248', '168957889', '168877397', '168834794', '168641166', '168834796', '168874629', '168834242', '168724760', '168610170', '168920276', '168950357', '168895618', '168771643', '168726893', '168539021', '168628685', '168726543', '168696525', '168742478', '168891056', '168891055', '168958715', '168691558', '168773642', '168555947', '168691552', '168609478', '168906607', '168906608', '168942809', '168898166', '168823460', '169005127', '169000957', '168975449', '168884074', '168586532', '168803979', '168902273', '168935273', '168530756', '168813141', '168621914', '168993816', '168534615', '168993811', '168632023', '168876448', '168932266', '168807314', '168756624', '168615197', '168604845', '168730229', '168647916', '168532580', '168994637', '168766969', '169023020', '168692603', '168657397', '169027226', '168741171', '168687435', '169013516', '168862355', '168722537', '168966043', '168623812', '168875496', '169035918', '169012819', '168876707', '168821335', '169019331', '168556943', '169038894', '168803209', '168638918', '168896875', '168908296', '168685809', '168752713', '168777610', '168880779', '168532477', '168921728', '168538960', '168538610', '169002552', '168849490', '168841177', '168686135', '168631423', '168634140', '168776966', '168625555', '168882685', '168812664', '169219280', '168598652', '169008542', '169011541', '168536102', '168699355', '169004384', '168664894', '168793011', '168795914', '168971912', '168940225', '169012036', '168974890', '168996941', '168218481', '168942212', '168868245', '168721843', '168879145', '168990732', '168741409', '168758824', '169035014', '168854068', '168610779', '168870652', '168602872', '168612557', '168602305', '168745796', '168859187', '169040655', '168736262', '168883481', '168877474', '168922103', '168613140', '168576226', '168762341', '168827707', '168981768', '168624797', '168750676', '169030092', '168577795', '168846843', '168683430', '169030096', '168980146', '169041255', '168929654', '168929305', '168581374', '168536577', '168747387', '169022303', '168533058', '168617910', '168749979', '168836138', '168675981', '168600650', '168704006', '168541352', '168774868', '169018522', '168774860', '168633864', '168694033', '168595309', '168836308', '168839178', '168778348', '168710923', '168911645', '168896642', '168916615', '168595307', '168726395', '168670930', '168853217', '168541688', '168924687', '168995762', '168585274', '168711035', '168832799', '168979324', '168850006', '168734714', '168737130', '168867582', '168737132', '168909914', '168737134', '168643587', '168732419', '168995204', '168737683', '168916920', '169111899', '168632265', '168802786', '168684911', '168892729', '168791323', '168730307', '168730305', '168923438', '168836643', '168582110', '168824558', '168954942', '168954237', '168878457', '168898395', '168614253', '168530505', '21091954', '168935462', '168997221', '168648365', '169024224', '168968415', '169024223', '168782845', '168782844', '168877891', '168592474', '168789892', '168628293', '168683694', '168608248', '168854058', '168931485', '168592470', '168983443', '168529716', '169046229', '168529712', '168645184', '169016905', '168803781', '168729816', '168772470', '168852168', '168957411', '168894849', '168530678', '168591513', '169040833', '160929899', '168633135', '168935644', '169017059', '168941570', '168555710', '169014851', '168718725', '168540550', '168767022', '168942943', '168905436', '169014509', '168857029', '169013227', '168662914', '168667123', '168662912', '168667431', '168739680', '168851192', '168235627', '168854838', '168557716', '149289965', '168591472', '168955548', '168537800', '168797730', '168862982', '168877275', '169001140', '168862984', '168781701', '168890616', '168811608', '168906299', '1726025', '168864685', '168609045', '168908193', '168947599', '168819466', '168600907', '168536378', '168819465', '168933614', '168798407', '168894344', '168894345', '168725953', '168783002', '168751116', '168816735', '168798907', '169126877', '169033359', '168779581', '168733156', '168531365', '168944713', '164699022', '168570305', '168615667', '168627218', '168615665', '168724531', '168721010', '168744957', '168884835', '168548786', '168620240', '168955174', '168819607', '168667655', '169038991', '168959645', '6653266', '168533192', '168959316', '168552496', '168815465', '168727949', '169038654', '168849290', '168955156', '168922351', '168978616', '168753392', '168582375', '169010557', '168543854', '168660846', '168863587', '168890083', '168543859', '168767463', '168700253', '168700250', '168695716', '168595884', '168893289', '169003595', '168813973', '168960867', '168781898', '168781896', '56802793', '168692181', '168789569', '169037246', '168632614', '168653217', '168546310', '168965563', '168869244', '168535483', '168730485', '169031917', '168579091', '168794253', '168808366', '168700075', '168942454', '168705553', '168588616', '168977758', '169032864', '168700079', '168781097', '168875120', '168864913', '169240383', '168807693', '168974956', '168579548', '168655724', '168550387', '169040324', '168824543', '168718127', '168625947', '168751247', '168873980', '169011689', '168754361', '168835881', '168681190', '168951924', '168685958', '168822038', '168790794', '168878600', '168952326', '168548947', '168618983', '168809898', '168965154', '168965155', '169003107', '168173095', '168772600', '169041995', '168868582', '168896070', '169042307', '168693715', '168929796', '168660669', '168833306', '168661399', '168911341', '168710714', '168554762', '168678248', '167452790', '168845390', '168887283', '169034088', '168548058', '168729069', '168650855', '168541542', '169038185', '168641539', '168538391', '168915882', '168974404', '168874589', '168641532', '168868722', '168865537', '168577477', '169251373', '168640162', '154298651', '168610544', '168798426', '169007032', '168925747', '168533424', '168658317', '168533426', '168950783', '169034576', '168870452', '168991389', '168804342', '168455269', '168969734', '168969733', '168785730', '168979177', '168648807', '168979171', '168986314', '168603917', '168729064', '168834020', '169038324', '168971346', '168536736', '168971340', '168972570', '168801236', '168751119', '168998430', '168860111', '168839091', '168998926', '169007485', '168860118', '168983831', '168696899', '168947423', '168552524', '168965347', '168721632', '168834228', '168752018', '168617534', '169034771', '168685509', '168955976', '168834222', '168650600', '168839322', '168610925', '168928042', '168855685', '168539040', '169013214', '30669540', '168965187', '168547237', '169041827', '168755828', '169041822', '169013501', '168585480', '168891701', '168972807', '168749342', '168875682', '168856130', '168856134', '168932062', '168906334', '168582140', '168582146', '168609455', '168909100', '168679535', '169039325', '168873218', '168987808', '168824343', '168799692', '168692596', '168803991', '168645536', '168530772', '168864726', '168960057', '168729730', '168982123', '168864728', '168707318', '168791072', '168922466', '168877394', '168728173', '168735880', '168566886', '168728176', '168782527', '65515055', '51055154', '168863971', '168919885', '168884896', '168766982', '168951310', '168692627', '168676790', '168692624', '168812366', '168687456', '169040154', '169015356', '169040151', '169029131', '168889114', '168825766', '168825767', '169021958', '168680451', '148445202', '168927987', '168762409', '168861196', '168896813', '168638939', '168894083', '169003951', '168886829', '168753653', '169036942', '168688818', '168706049', '168713296', '168904667', '168904661', '168538947', '168825580', '168910285', '168660476', '168841155', '169000020', '168890940', '168639189', '168647396', '168933559', '168800083', '168908764', '169008565', '168851043', '168815246', '168792969', '168598672', '168761625', '168959787', '168723399', '169004456', '168622475', '168988952', '169022750', '168862379', '168781958', '168727555', '169035241', '168539456', '168710977', '168889317', '168633758', '168961661', '152414589', '168800339', '168990714', '168994213', '168800337', '168925177', '168826589', '168598587', '168612576', '168856889', '168866615', '168602324', '168962832', '168959871', '168977697', '168877451', '168840391', '168872137', '168761175', '168922166', '168952404', '168704788', '168827722', '168538104', '168897283', '168744220', '168874192', '168980125', '168754554', '168702871', '168786591', '168920187', '168685427', '168794283', '168654867', '168612412', '169013569', '168521996', '168832519', '168893945', '168938805', '169003224', '169018509', '168669723', '168750609', '168719629', '168935896', '168767030', '168813451', '168910138', '168892549', '168632407', '168674031', '168802013', '168911881', '168802010', '169034289', '168771493', '168609649', '168693509', '168593804', '168638324', '168799109', '168891930', '168878297', '168719039', '166000150', '168830945', '168611009', '168771036', '168764274', '168764275', '168764271', '169038840', '168806485', '168737115', '168806480', '168943323', '168871443', '168577047', '168964296', '168791873', '168842965', '169039131', '168704860', '168628060', '169022980', '168817665', '169022986', '168730360', '168987477', '169014241', '168772671', '168717171', '168537245', '168530564', '168935407', '168954964', '168924402', '168912282', '168756024', '168648346', '169009889', '168782860', '168623201', '168919079', '169186204', '169019670', '168889064', '169026532', '168743660', '168726915', '168942608', '168628523', '169041147', '169041146', '169041149', '168628528', '168829583', '169010735', '168912062', '168917545', '168692101', '168544920', '168957435', '168626580', '168621785', '168636476', '168535228', '168626589', '168972310', '168716505', '168763723', '168763057', '168887202', '168906106', '169007831', '168945531', '168718749', '168718748', '168689219', '168537869', '168843146', '169013240', '168846396', '168551882', '168902486', '168846428', '169014569', '168662939', '168888988', '168676307', '168676303', '168869088', '168816538', '168750297', '168785877', '168641643', '168646610', '169001167', '168706541', '168922766', '168779743', '168531164', '168534445', '168877219', '168934319', '168964749', '168649434', '169145676', '168964747', '169121886', '168529996', '168962858', '168984431', '154741230', '168564071', '168967213', '168955554', '168731182', '168731180', '168939571', '168939570', '168633585', '168907920', '168910031', '168691453', '168613420', '168538061', '168531117', '168641697', '124941803', '168966298', '168708812', '168944730', '168744973', '168795551', '168695429', '169005080', '168686996', '168585341', '168621177', '168956147', '168745880', '117625392', '168880634', '168532027', '24685601', '168727962', '168901351', '168613390', '169040361', '168749131', '168944656', '168839630', '168839636', '168909378', '168839638', '168844862', '168844863', '168881320', '168543830', '168582351', '169010531', '168890716', '168589720', '168701011', '168953196', '168535719', '168637915', '168883784', '168695224', '168552746', '168588457', '168663112', '168901684', '168531830', '168531831', '168616063', '168580601', '168616068', '168746275', '168809316', '6041301', '168730979', '168603340', '168900885', '168623998', '168596208', '168994175', '169027058', '168973050', '168589581', '168815117', '168614514', '168589859', '168688481', '168532153', '168588670', '168864289', '168746535', '168608941', '168769777', '168640282', '168960590', '168532158', '168814453', '168987075', '168909761', '168909767', '155715267', '168645583', '168740072', '168937324', '168953922', '169010143', '168987076', '168572790', '168751224', '168828239', '168545373', '168882162', '168838582', '168811124', '168688666', '168866595', '169034238', '168849269', '168746287', '168985466', '168981426', '168746284', '168849260', '168656658', '168594770', '168962022', '168844132', '168900220', '168641881', '168701902', '168701907', '168919666', '168899768', '168798198', '168775837', '168693775', '168810024', '168860546', '168801218', '168758626', '168598443', '168545862', '168737952', '168700056', '168962024', '169011009', '168897844', '168962994', '168979487', '168736991', '168858950', '168975251', '168689043', '168578897', '168846593', '168980844', '168594111', '168535690', '168980595', '168796928', '168990507', '168868700', '168533151', '168533153', '168536920', '168610522', '168536926', '168851563', '168654471', '168533408', '168870475', '168988157', '168978574', '168785717', '168936818', '169032777', '169032771', '169032824', '168871308', '169028396', '168806294', '168736836', '169038307', '168966737', '169033424', '168658743', '169030682', '168644139', '168874764', '168949179', '168693194', '168930054', '168988338', '168627753', '168627750', '168983812', '168719191', '168870657', '168654650', '169005867', '168627759', '168845510', '168692821', '168891543', '168990562', '168832363', '168955992', '168834755', '168941120', '168913018', '168752079', '168899981', '168702101', '168543011', '168920238', '169005407', '168614359', '168884525', '168883976', '168895653', '168726588', '168547253', '168979628', '168840935', '497685', '168772884', '168772885', '168764021', '168979625', '168648755', '168857243', '168773687', '168716993', '168940536', '168906649', '168805292', '168850812', '168906647', '168932045', '168856111', '168997082', '168758748', '168938563', '168604612', '168934619', '168780906', '168730117', '168637214', '168824320', '168637211', '168912491', '168983796', '168853549', '168530716', '168530714', '168935232', '168734601', '168729205', '168395291', '168729755', '168530718', '168724185', '169020649', '168728158', '168932951', '168985422', '168789771', '168811158', '168548233', '169122529', '168863956', '168535386', '168914548', '168535382', '168923767', '168815886', '169027915', '168786999', '168796281', '169015801', '155849232', '168875971', '168706935', '168825741', '168882311', '169028722', '150427069', '168843603', '168933798', '168565471', '168896836', '168886804', '168667352', '168949110', '168803244', '168866268', '168695030', '168532437', '168552020', '168840554', '168885347', '168947352', '168706069', '168706068', '168531441', '168534652', '168534651', '168562543', '168865077', '168812275', '168634108', '168535522', '168890969', '168814459', '168589444', '168984778', '168984777', '168545417', '168644739', '169011272', '168545413', '168596452', '168727579', '168956084', '168971958', '168806848', '168532386', '168956081', '168952640', '168952642', '168675238', '168750007', '168724988', '168781976', '168966089', '168967544', '168863044', '168873828', '168615925', '168610736', '168949440', '168804190', '169258430', '168837051', '168697510', '168959852', '168772601', '168918099', '168775202', '168949444', '168761159', '168822913', '168531728', '168901540', '168579983', '168704760', '168694341', '168750321', '168741358', '168715646', '168911060', '168833774', '91022361', '168604598', '168898309', '168852059', '168643198', '168794199', '168859947', '168695962', '168844691', '168794195', '168630483', '168699938', '168622061', '168719509', '168850772', '169016725', '168850774', '168579727', '168711613', '168541316', '168592777', '168698516', '169110577', '168616295', '168674017', '169033166', '168587982', '168546502', '168672916', '169178031', '168579665', '168672912', '168672910', '168880737', '168595347', '168543221', '168595342', '168677898', '168808535', '168794776', '168705656', '168878279', '168630158', '168875373', '168979814', '168608069', '168907414', '168940117', '168989413', '168572586', '168625483', '168953771', '168856219', '168969500', '168780025', '168780027', '168987458', '75875435', '169029708', '169029410', '169029254', '168601059', '168530542', '168924395', '168530540', '168537267', '168696936', '168887410', '168768487', '168530548', '168924469', '168813739', '168897968', '169028257', '168791586', '168591088', '169127017', '168846719', '168716695', '168797462', '168949544', '168919058', '168778302', '168854859', '168887530', '168702350', '168697640', '168754955', '168531370', '168835348', '168832642', '168838260', '168838263', '168972454', '168925697', '168809663', '168908877', '169016949', '168912008', '168774580', '168930798', '168974673', '168856321', '168887220', '168930796', '168689983', '169101255', '168609220', '169039158', '168763701', '169007366', '169007364', '169034657', '169016513', '168530813', '168739642', '168905473', '168769589', '168635684', '168542686', '168542680', '168866077', '168982684', '168937039', '168741896', '168653941', '168868228', '168968909', '168706214', '168982688', '168917151', '168624190', '168759571', '168531146', '169034469', '168531140', '168680709', '168649411', '168806760', '168940447', '168964017', '168717342', '169151926', '168617714', '168846844', '168645761', '168816773', '168866380', '169021707', '168913608', '168848937', '169000817', '168671492', '168691473', '168716834', '168944755', '168541882', '168599009', '168807150', '168679473', '169005062', '168916064', '168686468', '168620573', '168717126', '168914952', '168712335', '168760754', '168837913', '168837261', '168687739', '169015145', '169015630', '169040342', '168714470', '168805805', '168750408', '168904781', '168671677', '168965697', '168543764', '168543814', '168839399', '168890770', '27954505', '168867389', '168984908', '168535735', '168766087', '168794949', '168905785', '168794946', '168976542', '168571922', '168658425', '129389746', '168781508', '168814618', '168853032', '169165364', '168904435', '168960821', '168847131', '169012164', '168531856', '168709272', '168531852', '131450318', '168841873', '168531858', '168639124', '168829799', '169105818', '168883917', '168621570', '169023637', '168625713', '168697527', '168883706', '168954751', '169033462', '168886474', '168977760', '168933963', '168616629', '168999447', '168530039', '168600566', '168981198', '168579589', '168845818', '115863436', '168665294', '168946903', '168876157', '168665292', '168751203', '168879280', '168751755', '168960764', '168815690', '168929864', '168567658', '168826681', '169011392', '168699587', '168700217', '168848117', '168777117', '168537187', '168666404', '168774140', '168537329', '168682918', '168668513', '168764989', '168538025', '168594756', '168990289', '168841473', '168844115', '168839393', '168698487', '168919603', '168640277', '168978778', '168998068', '167870314', '168710754', '168599575', '168545624', '168608506', '168598420', '168977245', '168859552', '168782893', '168588652', '168548016', '168915590', '168636647', '168774360', '168858207', '168996046', '168606742', '168858753', '168790443', '168868765', '168946354', '168615028', '169022918', '168925702', '168925255', '168748279', '168810347', '168851581', '168627411', '168961054', '169039811', '168747206', '168870414', '169022080', '168987665', '168991922', '168878640', '168992589', '168736708', '168994304', '168971382', '168658941', '168880922', '168743588', '168872920', '168679312', '168866496', '169017392', '168757562', '168926640', '168743585', '168979057', '168650781', '168533288', '168823300', '168595083', '168733394', '169034793', '168962766', '169034796', '169025362', '168551125', '168944488', '168719179', '168726038', '168962334', '168977865', '169013723', '168696857', '168832432', '168832433', '168711405', '168877046', '168771680', '168918511', '168541505', '168731448', '169012417', '168540673', '168529707', '169031315', '169005550', '168903784', '168826873', '65541921', '168916022', '168802601', '168601283', '168765930', '168722099', '168929529', '168742184', '168896710', '168640093', '168720963', '168659542', '168864095', '168811839', '168641288', '168605504', '169028626', '169021280', '168603956', '168605500', '168828359', '168991397', '168649062', '169033401', '168903168', '168807091', '168932024', '168587465', '168924671', '168903160', '168824658', '168938547', '168780925', '169000939', '169029931', '168577792', '168645573', '166592334', '168861575', '168835289', '169024623', '168530730', '168724407', '168960012', '168946339', '168982165', '168957865', '168936490', '168936497', '169024546', '168693382', '168783698', '168709389', '168722939', '168941456', '168782074', '168985195', '169020627', '168932976', '168985193', '168758543', '168872623', '168928372', '168928375', '168662872', '169041754', '169014155', '168888866', '168948463', '168914569', '168928710', '168854994', '168593549', '168894100', '168662828', '168706910', '168714053', '168776158', '168834480', '168603806', '168539114', '168776635', '168533667', '168776189', '169000246', '168748476', '168757960', '168908232', '168581453', '168815066', '168667621', '168803261', '168804812', '168667338', '168851345', '169003914', '168866242', '168759492', '168885369', '168962159', '169033294', '168905060', '168664888', '168779204', '168966313', '168779201', '168870843', '168610080', '168534103', '168531462', '168900926', '168535505', '168634123', '168766274', '168976386', '168973409', '168542352', '168998275', '168638817', '168933513', '168984712', '168617050', '168977525', '169012322', '168872315', '169007209', '168831706', '168663912', '168553174', '168684118', '169035202', '168823765', '168616458', '112728040', '168680414', '168976654', '168642014', '168976656', '168747057', '168840588', '168845128', '168760178', '168926722', '168866656', '168723684', '168837705', '168783843', '168783840', '168691429', '168903990', '168662822', '168929786', '168949903', '168822974', '168642118', '168548551', '168949904', '168587517', '168896064', '168538904', '168841666', '168543594', '168845968', '168899685', '168771980', '168849512', '168661744', '168698558', '168688149', '168695946', '168845964', '168695944', '168675966', '168801645', '168637474', '168749401', '168814554', '168537616', '168999582', '168698066', '168852322', '168921098', '168611599', '168849656', '168606280', '168674565', '168582485', '168918825', '168655667', '168579649', '168539961', '168639369', '168863066', '168872153', '168602949', '168978122', '168552207', '168991552', '168995784', '169032637', '168991556', '168878787', '168924662', '168967865', '168768717', '168768716', '168619279', '168979836', '168760944', '168643520', '168957000', '168965037', '168841083', '168841084', '168665087', '168844566', '168871406', '169154196', '168829219', '168596022', '168740394', '168943192', '168567353', '168943191', '168693320', '169029727', '168924918', '168829816', '168824826', '168923498', '168948059', '168659154', '168832080', '168987129', '168780008', '168569405', '168611101', '168896641', '168666216', '168731591', '168818830', '168752265', '168996786', '168996783', '168716327', '168703264', '168887423', '168943992', '168540065', '168536888', '169019633', '168896378', '168899535', '168833130', '168899531', '168669880', '168832669', '168542515', '169016965', '168566039', '168802468', '168910348', '168673750', '168996522', '168974125', '168996255', '168695375', '168667562', '110699211', '168903314', '168533613', '168733700', '168533344', '169008863', '168655068', '96635473', '168537826', '168972386', '383321', '169021491', '168783201', '168962362', '168602560', '168869773', '168962367', '168591416', '168737841', '168865608', '168707249', '168706275', '168955521', '168757731', '169020019', '168836947', '168934350', '168628565', '168998528', '168929456', '168822486', '168817693', '168554168', '168914784', '168966557', '169026555', '169017610', '168944777', '168716812', '168944774', '168533186', '168820237', '168709600', '168680623', '168639967', '168807175', '168802414', '168802411', '168888493', '168867583', '169013285', '168766867', '168707271', '168708953', '168914978', '168662460', '168996498', '168741211', '169040415', '168663487', '168779690', '168541171', '168954825', '168536210', '168828794', '168965097', '168574047', '168649293', '168582317', '168890753', '168701722', '168890025', '20838661', '168535756', '168535751', '168809847', '168207069', '168795581', '168777989', '168529957', '168967520', '168864511', '168960205', '168632546', '168999805', '168600845', '166852838', '168679742', '169035691', '168562885', '168663158', '168770489', '168603387', '168932587', '168825468', '168976020', '168645568', '168968099', '168830625', '168830627', '168863297', '168735410', '168882290', '168601711', '169031206', '169031209', '168951522', '168837938', '168747910', '168720300', '168938210', '168544898', '168886458', '168793730', '168921408', '168569971', '168637982', '168684703', '168875149', '168900040', '168626385', '168631788', '168550324', '151134426', '168550326', '168805652', '168559802', '168536069', '168895049', '169008269', '168786783', '169011627', '168746405', '168894902', '169003071', '57820269', '168700894', '168945960', '168945963', '168848469', '169003079', '168893229', '168852487', '169038463', '168660688', '168977883', '168784921', '168694131', '168356870', '104578982', '168594736', '168910056', '166714399', '168760187', '168844176', '168919621', '168641844', '168919624', '168658240', '168919629', '168878450', '3172250', '168998040', '168826969', '168804013', '168911457', '168851615', '168995485', '168638175', '168729999', '168573736', '168699074', '169037691', '168962951', '168955063', '168878455', '168795633', '168882822', '169038161', '168823143', '168858739', '168650233', '168668761', '168990541', '168798487', '168908458', '168533115', '168685073', '168798489', '168755389', '168654435', '168687503', '168988117', '169022066', '168866827', '168654438', '168785200', '168736191', '168964546', '168918689', '168991942', '168947193', '168541293', '168929592', '168539380', '168658927', '168989603', '169026965', '168579879', '168828841', '168650758', '168771536', '168934180', '168839073', '168953861', '168870691', '168961789', '168612641', '168726015', '168839019', '168726017', '168853191', '168866054', '169005825', '168551142', '168632426', '99337321', '169029540', '168868560', '168834844', '168867999', '169123758', '168764355', '169016576', '168541078', '168643993', '16483949', '168845194', '168654362', '168897830', '168903815', '168702144', '168836572', '169007791', '169007794', '168595606', '168883249', '168765916', '168931695', '168599935', '168531857', '168717862', '168669412', '168707516', '169006550', '168547923', '168707512', '168746131', '168962406', '168654668', '168454514', '168888369', '169021267', '168648244', '168737453', '168937726', '168787204', '168649046', '168609162', '38870254', '169039344', '168985608', '168708898', '169025920', '168637255', '169023665', '168583538', '168579818', '168939731', '168756638', '168722954', '169009653', '168666027', '168722953', '168928802', '145853190', '168626408', '168946314', '169018866', '168932917', '168927123', '168932913', '168577440', '168758832', '168919823', '168614764', '168948407', '168967259', '168571244', '168772374', '168772376', '168912765', '169019048', '168542725', '168593522', '168596003', '168834787', '168835303', '168534341', '168534345', '168534344', '169001025', '168671865', '168856157', '168882355', '168753703', '168843649', '168748453', '168843644', '168762137', '168668160', '168638991', '168739053', '168536270', '168804833', '168886849', '168852904', '124537122', '168866222', '168869900', '168773393', '168646027', '168534697', '169030965', '168728118', '168641032', '168993542', '168993543', '168728113', '168920583', '168728447', '168534169', '168534698', '168819212', '168973173', '168797172', '168607388', '168994010', '168961813', '168536186', '168626569', '168984734', '168959091', '168837542', '168532699', '168959724', '168885453', '168741682', '168532691', '168679690', '168952972', '168576045', '169029513', '168671289', '169029625', '48521821', '168715937', '168724328', '168881619', '168774480', '168821971', '168681561', '168720443', '168657861', '168959892', '168753944', '168837096', '94611842', '9082080', '168962543', '169165441', '168591516', '168962549', '168727797', '168537586', '168537587', '168828583', '168750360', '169018250', '168704727', '168770611', '168639166', '168730898', '168740482', '168883464', '168585856', '169105994', '168701554', '168763078', '168760056', '168845946', '168661948', '22959116', '168907279', '168532032', '169022416', '168532034', '168630373', '168532036', '168982429', '168861823', '168781314', '168864856', '168544763', '168781311', '168761461', '168871640', '168807752', '168882775', '169042443', '168626244', '168946556', '168990228', '168863087', '168994273', '168792671', '169036756', '169012129', '168546548', '168853293', '168602927', '168535987', '168923929', '169113948', '168808067', '168793101', '169032613', '168878233', '168867889', '168619526', '168850083', '168651338', '169040957', '168544499', '168600735', '168957025', '168538785', '169026779', '168850461', '168538782', '168003465', '168618782', '168660541', '168685918', '168628927', '168929387', '168751547', '168589201', '168780675', '168772968', '168599297', '168599294', '168971288', '168795743', '168889128', '168774757', '169002113', '168538524', '168915922', '168797829', '137669660', '168716653', '168672318', '168540005', '168897103', '168800936', '168916692', '168765219', '168654598', '168908861', '168593862', '168654591', '168536869', '168638436', '168937140', '168804224', '168908868', '168827195', '168617494', '167839361', '168972415', '168891331', '168979272', '168895605', '168906615', '168608469', '168924655', '169217499', '168971467', '168795466', '168974102', '168555063', '168964279', '169008848', '168856816', '169007898', '168903376', '168964271', '168610335', '168733724', '168856369', '168925515', '121679590', '168612788', '168769029', '168983112', '168870772', '168969014', '168982641', '168531108', '168315767', '168816224', '168982648', '34355438', '168575603', '168729181', '168962301', '168779055', '168535110', '168658592', '168613781', '168613780', '168743792', '169017580', '168831269', '168615375', '168613788', '168779769', '168961571', '169036191', '168742221', '169025023', '168696159', '169041126', '168888654', '168696155', '168942662', '169014728', '169001411', '168959434', '169015982', '168982394', '168261962', '168982392', '168936284', '168907926', '168834033', '168534425', '45391651', '168907924', '168975458', '168903590', '168903597', '168679435', '168560889', '168632260', '168679433', '168677672', '168780681', '169005024', '168928295', '168551942', '169005023', '168960198', '168864688', '168662440', '169041382', '168547717', '169039066', '168707254', '168595170', '168739600', '168739602', '168896793', '168664472', '168418847', '168906296', '168932613', '168985014', '168985017', '168839654', '131562151', '168632125', '168881380', '168861345', '168970907', '168895529', '168584638', '85746935', '168646277', '168966103', '168684092', '168798100', '168979257', '169007753', '168825195', '168546397', '168825192', '169007751', '168873103', '168792087', '168896959', '168667787', '111103618', '169027740', '169003401', '168959391', '168765481', '169004776', '168741940', '168714431', '169015185', '169040386', '168844373', '168744046', '168660377', '168900063', '168766333', '168963885', '168953948', '168953949', '168963880', '168792883', '168725950', '168593299', '169011357', '169028526', '168893206', '168699272', '169004511', '168969006', '169009072', '168847171', '168907304', '168538064', '168959923', '168760658', '168665439', '168769944', '168546973', '168534915', '168797342', '168589346', '168778867', '168819020', '168778865', '168984050', '168765023', '168962682', '168851639', '168959970', '168877755', '168576560', '168874218', '168640646', '168980534', '168980289', '168988665', '169030374', '169030375', '168869419', '169140121', '168934617', '168905991', '168678016', '168961019', '168737943', '168578187', '168712978', '169037366', '168987629', '169016377', '160051393', '168694116', '168849757', '169034865', '168903307', '168757526', '168823873', '168743543', '169128534', '168822429', '168697149', '168949119', '168989668', '168929173', '168678018', '168988399', '168879329', '168845206', '168723555', '70304172', '168682058', '168813538', '168989383', '169255768', '168680315', '168960421', '168864330', '168834865', '168643971', '168979465', '168620539', '168737298', '168867974', '168544533', '168952223', '168858245', '168892336', '168674711', '168541019', '168971615', '168582695', '168903296', '168903293', '168975755', '168533796', '168975975', '168577118', '168730242', '168785484', '168931674', '168614331', '169037816', '168957664', '168864056', '168813651', '168690834', '168822614', '168640058', '168871368', '168608502', '168871363', '168861836', '168953823', '168958942', '168787887', '168612930', '168533861', '168742940', '168964429', '168579832', '168628157', '168948244', '168886470', '168593857', '168957822', '168971529', '168747602', '169021027', '168633057', '33080763', '168743328', '168950816', '168689609', '168831928', '168887360', '169012450', '168919204', '168755479', '169014449', '168914837', '169014443', '168914529', '168662831', '168928629', '168635900', '168676713', '168898691', '168718018', '168542707', '168917331', '168885632', '169028884', '168833949', '169015866', '168885143', '168691688', '15285791', '168743743', '168942035', '168767853', '168985955', '168763533', '168535095', '168667666', '168536214', '168896893', '168945771', '168816053', '168869257', '168663784', '168659603', '168847782', '168531423', '169030906', '168534145', '168834190', '168627339', '168620109', '168932939', '168811194', '168985483', '168926027', '168644755', '169027353', '168964847', '168751520', '168559163', '131602674', '168877109', '169015249', '168531697', '168755834', '168889105', '168947223', '168913431', '168749033', '138805170', '12688928', '168825055', '168915016', '168542286', '168911779', '168837749', '168552623', '168719915', '168883462', '168664313', '168741554', '168669237', '168708144', '168708148', '168781480', '168740978', '168944422', '168546702', '168910205', '168740976', '168966567', '168647313', '168535549', '168631378', '168943809', '168535236', '168535541', '168535542', '168859923', '168675922', '168675920', '168695980', '168859386', '168808268', '168532013', '168781660', '168640837', '168918780', '168599909', '168606729', '168629750', '168861808', '168589706', '168858520', '168997223', '168744457', '168690000', '168871996', '168690002', '168930322', '168626671', '168954509', '169036995', '168838998', '168685609', '168994297', '168923301', '168720461', '168685606', '168745749', '168735629', '168870223', '168808007', '168932609', '168923900', '168808002', '168991510', '168923905', '168576974', '168827101', '168837996', '168872712', '168981835', '168611082', '168700627', '168867568', '168801170', '169003015', '168921234', '168737663', '168582992', '169026752', '168844521', '169019189', '168844523', '168844522', '168630131', '168588004', '168899312', '168899313', '168854384', '168593083', '168549733', '168917925', '168924486', '168692984', '52897903', '168832591', '168912202', '169030294', '168666255', '168689880', '168912208', '168634788', '168703134', '169002176', '168971265', '168538509', '168739895', '168793832', '168752954', '168538504', '163693838', '168882416', '168748313', '168912737', '168610689', '168797473', '168994926', '168994925', '168743153', '168797803', '168908779', '168536847', '168710455', '168711456', '134062644', '168678164', '168978478', '168602903', '168769599', '168598230', '168766652', '168979252', '168599013', '168733274', '168879293', '168857128', '168806517', '168974166', '169038732', '168790160', '168646864', '168748318', '168502407', '169042996', '168634423', '168996298', '168677877', '168860038', '168533302', '168969562', '168988700', '168938337', '169029767', '168988707', '168574826', '168622192', '168865747', '168636794', '168630730', '168659197', '168648035', '168731455', '20481284', '168763883', '155284241', '168877923', '168877296', '168773544', '168752375', '168531655', '168693859', '168624131', '168531652', '168758656', '168697771', '168615310', '168598647', '168612858', '168536110', '168712170', '168928104', '168712173', '168899868', '168771932', '168942681', '168717983', '168696175', '168546644', '168669597', '168839511', '168988961', '168749204', '168773721', '168831023', '168738689', '168874470', '168926591', '168807133', '168587768', '168802450', '168537385', '168802326', '168583471', '168903044', '169031659', '168975562', '168717184', '168830998', '168547084', '168884733', '168967740', '168967743', '168636994', '168676838', '168530304', '168547770', '168904837', '168803587', '168530878', '168530653', '168530652', '168793572', '168993368', '168767448', '168952677', '168583203', '168670950', '168608197', '168587105', '168789674', '168932631', '168654396', '168890061', '168824132', '168943794', '168829579', '168799406', '168991469', '168799408', '169027507', '168571635', '168960241', '168935040', '168617222', '168777310', '168687577', '168982912', '168960248', '168618105', '168981487', '168977973', '168824014', '169021837', '168532131', '168807178', '169021839', '168643092', '168965582', '169023692', '168829739', '168647787', '168647782', '168708777', '168972038', '168668085', '168809233', '168886415', '168804446', '168971836', '168974168', '168999901', '168683894', '168714184', '168885466', '169015656', '168813647', '168939451', '168889762', '168813270', '168944439', '168530026', '169010686', '168760419', '157313971', '168893708', '168660314', '168660310', '168776807', '168625616', '168776802', '168696095', '168751739', '168705559', '168843850', '168536026', '168788987', '168733313', '168536023', '168536020', '168532221', '168588902', '168866414', '168765090', '168663190', '168646525', '168862524', '168865207', '168868523', '168882066', '168647128', '168905083', '169031861', '169036380', '168641808', '168798114', '168584901', '168912967', '166736444', '168585439', '168984074', '168603489', '168933276', '168614529', '168786473', '168736452', '168736107', '169032448', '169032446', '168847990', '167957211', '168761092', '168723108', '168847996', '168653736', '168576507', '168955021', '168955020', '168955023', '168877731', '168828426', '168820842', '168989395', '168959864', '168823108', '168930078', '168681067', '168617810', '168564337', '168826776', '168493232', '169013954', '168755037', '168781291', '169037388', '168537772', '169006396', '168788736', '168698122', '168750022', '168702632', '168892137', '168910013', '168849772', '168770402', '169043108', '168823816', '168839030', '168693116', '168539355', '168899452', '168995159', '169025691', '169039466', '168661261', '168794670', '168956648', '168863658', '168793804', '168898854', '168597558', '168814234', '168864315', '168813518', '168999754', '168781122', '168697138', '168876069', '168774385', '169033714', '168774381', '168948251', '141270848', '168876060', '168652062', '168608349', '168765409', '168817529', '168855621', '168807834', '168601115', '168765403', '168931022', '168975954', '168738059', '127615981', '168708766', '168991239', '168659074', '168935544', '169113752', '168931389', '168954949', '168744380', '168915686', '168937766', '168946688', '169026254', '169019796', '168681794', '168870024', '168742929', '169041085', '168824636', '168754812', '168898502', '168838347', '168898504', '168651601', '168530792', '168752743', '168623126', '168623127', '168790576', '168633072', '168941435', '168941434', '168689627', '169042766', '168958779', '168949792', '169042762', '169019420', '168662813', '169013302', '168662765', '168888379', '168902097', '168971980', '168854976', '168678971', '168756713', '168796208', '168894160', '168745521', '168706601', '145321913', '168658656', '169001069', '168534304', '168865786', '168865780', '168531220', '169001060', '168998589', '168940072', '168533513', '168998582', '168609120', '168961434', '168733227', '168733226', '168908254', '168933860', '168739548', '168739549', '168586425', '168905373', '168580812', '168999983', '168580810', '168734021', '168804877', '168967177', '169028093', '168822786', '168644587', '168712176', '168707154', '168836909', '168986003', '168695930', '168966801', '168854709', '168798948', '169030435', '169035405', '169019440', '168650801', '168874800', '169031920', '168716102', '168826943', '168723194', '168620470', '168723195', '168759659', '169169509', '168727387', '168959764', '168926565', '168773427', '168552577', '168772495', '169015222', '168945443', '168792308', '168770925', '169018174', '168763805', '168918370', '168757049', '168701372', '168637388', '169035515', '168776657', '168701375', '168589995', '169000884', '169019883', '168741578', '168885874', '168708161', '168695619', '168904535', '168623646', '168537547', '168901012', '168650115', '168849903', '168993496', '168761408', '168850905', '168643135', '168740992', '168740995', '168866376', '168546768', '168582527', '168871817', '168843244', '50217045', '169013317', '168604995', '110152362', '168853903', '168948436', '169000088', '168793492', '168859413', '168545848', '168919818', '168864817', '168834053', '168616740', '168699010', '169041270', '168918077', '168655605', '168655977', '168546584', '168690026', '60621692', '168919425', '169127468', '168748764', '169019226', '168781018', '168881243', '168821249', '168821712', '168886990', '168886994', '168656775', '168994263', '168782091', '168917326', '168827166', '168750901', '168750900', '168921255', '168737641', '168775101', '168876380', '168715026', '169004127', '168740222', '168896655', '168766388', '168534896', '168929695', '168896137', '168797794', '168534898', '168751503', '168705329', '168705328', '168911574', '168917905', '168600009', '168994329', '168545585', '168848360', '169003285', '168661902', '168994328', '168945154', '168809199', '169177020', '168756081', '168703442', '169002624', '168971795', '168538296', '168752976', '168538560', '168592042', '168887117', '169017816', '168980983', '168973864', '168896681', '168536799', '168833198', '168973862', '168769200', '168536827', '168908828', '168998614', '168833190', '168637240', '168878769', '168870555', '168859678', '168863991', '168638470', '168978412', '168962491', '168808021', '168685291', '168719477', '168719470', '168795420', '168996547', '169038712', '169015879', '168862880', '168930244', '168974989', '168634404', '168930719', '168879017', '168534818', '168907369', '169034382', '168998770', '168851605', '168934007', '168998802', '168860010', '168791895', '168998809', '168791890', '168833999', '168878498', '168942519', '60786265', '168891483', '168691960', '168968724', '168784720', '168612707', '168922780', '168788098', '168798775', '168530656', '168805218', '169225500', '168964095', '168975093', '168742264', '168814558', '169025067', '168535856', '168535854', '168637016', '168921248', '168650298', '168659975', '168810386', '168669869', '168689810', '168831595', '168913681', '168945111', '168540400', '168909062', '168587296', '169007660', '168543664', '168815017', '168933423', '168997142', '168601326', '168965080', '169014893', '169031675', '168765106', '168769634', '168861271', '168954322', '168861275', '168708935', '168873555', '169006014', '168992517', '168815442', '168957985', '168939007', '168816266', '169006018', '168904859', '168993390', '168868291', '168643309', '168985055', '168643307', '13866907', '168860905', '168966498', '168860906', '168628679', '168928781', '169023323', '168935191', '169041693', '168866840', '168742487', '94884612', '168960269', '168799424', '168692705', '168568211', '169027839', '168986339', '168621401', '168813371', '168799429', '169037985', '168729490', '168687225', '168725991', '168569060', '168859364', '168921809', '168684056', '168991826', '168820927', '168825157', '169020439', '168732628', '168590833', '168882274', '168735120', '168748572', '168590837', '168717709', '168829718', '147122220', '168873140', '169014320', '169026961', '168986747', '168945636', '168632108', '168557170', '168847353', '169040921', '168713392', '168654273', '168685739', '168812392', '169005428', '168760921', '169036314', '168841212', '168578256', '168882180', '168882183', '168536002', '168945986', '168894962', '168945980', '168750187', '168588963', '168532240', '168532241', '168719373', '168613591', '168954228', '168993021', '168863102', '168534157', '168735784', '169038287', '168973305', '168946744', '168868819', '168866558', '169111079', '169040509', '168819061', '168602201', '136128660', '168605926', '168799251', '169022147', '168859086', '169023746', '168840299', '168664297', '168653717', '168981114', '168684949', '168954222', '168750228', '168990446', '168650254', '168789888', '168767976', '126122864', '168685014', '168981274', '169022003', '168964570', '100596698', '138540657', '168650742', '169022008', '168947176', '168708331', '168761340', '168935999', '168902102', '168541236', '168669008', '169043163', '168714986', '169002812', '168910567', '168940205', '168750041', '168679192', '169010400', '168813359', '168855197', '168881987', '168833521', '168559390', '168724961', '168957845', '168845241', '168574697', '168899438', '168833529', '168659273', '168853136', '162294782', '168769577', '168970651', '168864377', '168918591', '168857730', '168857731', '168569666', '168548099', '168909830', '168867930', '168735501', '168611760', '168737786', '168655010', '169033732', '168871018', '168953890', '169026490', '168980573', '168791934', '158464153', '168817054', '169031467', '168818080', '168822128', '168669476', '168956445', '168878023', '168924565', '168935526', '168682246', '168857593', '168682536', '168537360', '168932988', '168548895', '168782948', '168941638', '169115361', '168606789', '8223831', '168989324', '168937740', '168882865', '168989118', '168943850', '168969622', '168754830', '168686540', '168755412', '168980272', '168764841', '169016806', '168774500', '169009631', '168875663', '168703306', '168636535', '168674826', '168887631', '168868107', '168887326', '168754965', '168964399', '168763317', '168996610', '168763647', '148124348', '17424737', '168775455', '168952922', '169007266', '168778172', '168536586', '169006476', '168739789', '169018164', '169013369', '168869471', '168894187', '168809417', '168531203', '168658637', '168782050', '168531756', '168531208', '168683113', '168810704', '168940589', '168738967', '168738966', '168612952', '168533533', '168934211', '168707975', '168967155', '168775770', '168704906', '168593314', '168651730', '168629244', '168605143', '168591664', '8304133', '168593316', '168952875', '168729809', '168993255', '168879815', '168870389', '168874539', '168874538', '169020331', '8764223', '168534188', '168712709', '168927140', '168826920', '168712702', '168928669', '168712706', '168914873', '168686324', '168959746', '168723357', '168959740', '169111682', '168713705', '168856472', '168773083', '168597337', '168918351', '168918353', '168776662', '168920698', '168895973', '169005634', '169040904', '168776101', '168861381', '168766146', '168766147', '168589978', '168619483', '168745639', '168890189', '168537568', '168598274', '168814739', '168885897', '168904510', '168847656', '168847655', '168867119', '169001950', '168603423', '168859583', '168592865', '168937105', '168647358', '168743490', '168543518', '169023151', '168871833', '168535585', '168971153', '168535276', '168535274', '168832168', '168815280', '168731926', '168872284', '168861841', '168700369', '168872281', '168645845', '168988691', '168935853', '168781622', '168774885', '169034461', '168606201', '168774882', '168626227', '168744146', '168744147', '168825364', '168876677', '168577807', '168850919', '168577803', '168830435', '168748747', '168843950', '168843952', '168914121', '168688236', '168923347', '168968016', '168878852', '168878850', '168700334', '168821269', '169003774', '168912804', '168740300', '168827140', '168769612', '168711562', '168471621', '168822468', '168538767', '169038887', '168751362', '169038882', '168844078', '168765982', '168871484', '168953796', '168919745', '168900344', '168655481', '168638678', '168798094', '168810148', '168612027', '168624616', '168766764', '168657012', '168581012', '168798099', '168607234', '168907962', '169011124', '168804792', '168699775', '168848386', '168777764', '168588732', '168893765', '168907968', '168991885', '168542072', '168695997', '168703463', '168548422', '168774268', '168897609', '168591067', '168670311', '168887132', '169030252', '168800958', '168868668', '168590254', '168990420', '168590256', '168912632', '168800952', '101481979', '168909107', '159246154', '168603476', '168677834', '168821846', '168635172', '168549461', '168755173', '168656020', '169037463', '168808599', '168807951', '168613850', '168989561', '168965453', '168871225', '168541603', '168842305', '168855393', '168609861', '168774579', '168769084', '168723438', '168543379', '168630287', '168539499', '168942533', '168772906', '168477666', '168772904', '168857690', '168658287', '168540798', '168944265', '168743263', '168716094', '168540794', '168949615', '168887790', '168657628', '168702224', '168630228', '169039939', '168539636', '168539634', '168888141', '168535613', '21492015', '168848205', '168847516', '168917584', '168768130', '168544308', '168979749', '168599058', '169006381', '168979742', '168764455', '168764452', '168599051', '169006388', '168979213', '168865803', '168913806', '168763104', '168913803', '168540426', '168971532', '168540422', '168758662', '163783101', '168975214', '169053396', '168708424', '168818942', '168991766', '168931175', '168546780', '169031615', '168873574', '168762851', '168762852', '168846353', '168659738', '168530611', '168530341', '168868171', '168605792', '168836116', '168609058', '168968706', '168768359', '168965633', '168811730', '168728293', '169034684', '168787476', '168582395', '168728297', '168647126', '168620081', '168560406', '28689613', '168654305', '168758403', '168824175', '168799447', '168568237', '168799441', '168927088', '168894648', '168788022', '168864594', '168864595', '168848812', '168915365', '168925823', '168848816', '168549933', '168725712', '168982482', '168714941', '169024352', '169001383', '168830848', '168830338', '168804606', '166742420', '168728741', '168928503', '168776590', '168556397', '168556394', '168957714', '169041544', '168667721', '169041540', '169014342', '168998006', '168636289', '168784879', '168741299', '168866189', '168937424', '168846652', '168713447', '168866182', '168885425', '168635779', '60183', '169235559', '168870334', '168671698', '168901934', '168531562', '169001563', '168904729', '169029124', '168776377', '168535643', '168815636', '168699569', '168843540', '168860670', '168816856', '168969459', '168939418', '168869520', '162547188', '168962724', '168866450', '168586303', '168595965', '168591851', '168562372', '168646294', '168837368', '57771549', '165163723', '168740747', '168784323', '168819045', '169027103', '168797678', '168961395', '168819734', '168598485', '168816819', '168783110', '168837316', '168885932', '168736411', '168986231', '160369262', '168745952', '169034073', '168949888', '168595998', '168684969', '168921488', '168820675', '168770253', '533817', '168925903', '168876818', '169011592', '169013991', '168708319', '168898619', '168995377', '168859865', '168995379', '168947117', '168761361', '168963162', '168956224', '168566270', '168654194', '168585015', '169018406', '168585012', '168750065', '169016648', '168944353', '168647227', '168757297', '168949234', '168911722', '168700679', '168539820', '168640064', '168772749', '168431417', '168823107', '168801122', '168864357', '168814270', '168813804', '168923911', '168603131', '168756886', '168875236', '168872706', '168744601', '168789395', '168930070', '168597599', '169023484', '169023485', '169023486', '168829331', '168963931', '168969422', '168969935', '168817074', '168969426', '168987796', '168818710', '168935457', '168659037', '168957906', '168960707', '168960700', '168859648', '168827464', '168530429', '168900408', '168752527', '168941964', '168900401', '168941619', '168700588', '168916518', '168754782', '169017990', '168833013', '168836064', '168899140', '168899143', '168969646', '169005942', '168622871', '168942706', '168612920', '168692579', '168832942', '167636772', '169017996', '168725543', '169033395', '168698834', '168626482', '168957558', '168858807', '168718648', '168752782', '169101358', '168716404', '168865406', '168743387', '168759279', '169101352', '168919264', '168733040', '168540303', '168672678', '168609303', '168975911', '168807870', '168997842', '168917397', '168648970', '168719091', '168891149', '168816655', '168764716', '169001719', '168602536', '168786289', '169028861', '169032935', '168865743', '168958655', '168779113', '168869189', '168836689', '168667379', '168683176', '168584732', '168757497', '168757498', '168584739', '168901712', '168788116', '168738900', '168612975', '168870070', '168705332', '168888556', '168739506', '168968118', '168734065', '168605169', '169028747', '168687926', '169028713', '168847387', '169021626', '168687923', '168936525', '60952896', '166947379', '168952899', '168983596', '168531481', '169041614', '168627358', '168920504', '168869714', '168724639', '168543145', '168903988', '168839430', '168717570', '168717577', '168712279', '169041226', '169041227', '169014421', '168945831', '168880556', '168745568', '163776222', '168947930', '168787488', '168837819', '168988624', '97007816', '168704979', '168796119', '168767749', '168818937', '168906934', '168906472', '168807338', '168890438', '168895919', '169005654', '168787398', '168624968', '168753656', '168645408', '168902638', '168600101', '168972545', '168640433', '169027487', '168861157', '168861404', '3228119', '168669251', '168936224', '16974492', '70914631', '168779801', '168534706', '168839464', '168946889', '168985249', '168850941', '168965405', '168807207', '168985240', '168802253', '168932443', '169023171', '168601470', '168802700', '168601476', '169112202', '168535251', '168625054', '168621218', '166982839', '168621216', '168959017', '168384578', '169035805', '168889256', '168760570', '168969182', '168760574', '168626976', '168760578', '168871935', '169000579', '168724858', '168718006', '168963726', '168919466', '168829106', '168754201', '168540946', '168540947', '168951042', '168931598', '168843973', '168586287', '168945861', '169124914', '168753276', '169003713', '168881445', '169010851', '168795275', '168224133', '168534851', '168881446', '168534854', '168991183', '168943132', '168946178', '168607214', '168881443', '168786519', '168696486', '168554398', '168854321', '168675320', '168675451', '168705494', '168588287', '168859454', '168995156', '168795804', '168877697', '169002665', '168806315', '168591047', '168806311', '168538839', '168971756', '168910629', '168812832', '168795208', '169017855', '169019697', '169020916', '168685197', '139348639', '168765293', '168757804', '168998656', '168910345', '168635197', '168870518', '168854498', '168668639', '168981898', '168656006', '168955210', '168872004', '168823978', '169016537', '168930757', '168899080', '168833482', '168833951', '168879051', '168860055', '168886978', '168998731', '168785093', '168723416', '169025247', '168818381', '168886794', '169034254', '169022968', '168947706', '168845638', '168531822', '168711522', '169016459', '168662049', '168666947', '168979580', '168812189', '168710443', '160243520', '168693211', '168896530', '168697240', '168975052', '168677366', '168975050', '168627162', '79146239', '168672249', '168723395', '168637055', '168708464', '168853303', '168870215', '168682161', '168891623', '168711746', '168965188', '168867498', '168606629', '168867959', '169106809', '168850379', '4700743', '168606625', '168975589', '168903516', '60346722', '169039003', '168758641', '168964580', '168533941', '168964586', '168997185', '168975586', '168733675', '168556556', '168604173', '168579930', '168606149', '169029872', '168799611', '168904893', '168898286', '168864606', '168967726', '168530365', '168530364', '168734909', '168890111', '168875581', '168979222', '168651587', '168659758', '168721721', '168946078', '168657199', '168575683', '168932169', '168673722', '168752316', '168811689', '159501690', '168725488', '168647710', '168990135', '168726828', '168938290', '168937801', '169033989', '168628634', '168628637', '168916974', '168717292', '168896458', '168853772', '168948547', '168614246', '168898022', '168898756', '168645096', '168638447', '168954762', '168713605', '168922617', '169024377', '168880300', '169125996', '169030826', '168913828', '168941397', '168887511', '168534285', '168887840', '168982655', '168767176', '168693172', '168620357', '989071', '24306361', '169000364', '169204011', '168718928', '168830688', '168843705', '168717034', '168937915', '168542178', '168759591', '154244208', '169035949', '168991662', '169009566', '168731743', '169040969', '168731747', '168968859', '169040963', '168864295', '168646765', '169021658', '168534064', '168993354', '168531015', '168993359', '168724282', '168993609', '168634803', '168874981', '168862769', '168682980', '169005463', '168792775', '168995568', '168908087', '168607910', '168860610', '168964966', '168939409', '168866478', '168723255', '163707177', '168759778', '168700877', '168848484', '168939404', '168687487', '168877062', '168613553', '168641268', '168613556', '168955774', '168613554', '168576659', '169035635', '168869280', '168533433', '169035323', '168740728', '168505211', '54855165', '168747716', '168681881', '168613089', '168959207', '168731355', '169037679', '168962608', '168644288', '169037671', '168822833', '168757949', '168845089', '168678245', '168543941', '168639060', '168701471', '168639068', '168684908', '168812520', '168557868', '168821125', '168695351', '168705776', '168959874', '168675846', '168777046', '168781988', '168876101', '168985545', '168929431', '168749727', '168947139', '168834618', '168817010', '168837073', '102005151', '169021987', '168653837', '168837072', '168742752', '168980776', '168813547', '168632567', '168632564', '42123885', '169245024', '169042506', '168729073', '168882883', '168647140', '168664390', '168802140', '168882151', '168801452', '168853170', '168931926', '168827265', '168814297', '168827267', '168997625', '168805347', '168746991', '168651214', '168789373', '168871055', '168789218', '168876000', '168655053', '168654039', '168925294', '168929244', '168695087', '168829312', '168925292', '168711999', '168659584', '168913144', '168991299', '168951870', '168548852', '168822695', '168822694', '168768580', '168895773', '168666555', '168937781', '168915373', '168873998', '168608582', '168591186', '168660731', '168660737', '168989155', '37025504', '168800855', '168963574', '168896703', '168896701', '168899167', '168896704', '168638003', '168851760', '168896708', '168943899', '168772007', '168832740', '168755457', '168772066', '168772060', '169016849', '168832749', '168857084', '168755459', '168618268', '168666774', '168806105', '168776142', '168974516', '168618265', '168618264', '168941493', '81749754', '169019481', '169019480', '168540328', '168716171', '168956831', '168702696', '168997861', '168810295', '168934780', '168533710', '168769766', '168765466', '168659783', '168785405', '169007228', '168796264', '168972267', '168731519', '168884153', '168869437', '168729596', '168731516', '168542789', '168656648', '168683158', '168872836', '168683153', '169001777', '169001772', '168930417', '168619409', '168649536', '168964133', '168533571', '168788137', '168615259', '138973160', '168938583', '168983781', '168987268', '168785669', '168780299', '166957814', '169041024', '168931095', '168824693', '169029463', '168745360', '42236906', '168729375', '168687902', '168866283', '168895163', '168941233', '168561960', '168680572', '169009618', '72719816', '168874579', '169018997', '168950941', '168636550', '169025404', '168920526', '168609348', '168677552', '168737598', '168543169', '168679798', '168604583', '168847596', '168883506', '168884631', '168884630', '168762959', '168696903', '168660654', '168696451', '168865584', '168834614', '168555832', '169001193', '168799459', '168880538', '168864521', '168781379', '168906265', '168919657', '168568753', '168890417', '168890410', '168732404', '168730606', '168890419', '168987914', '168630804', '168933803', '168933800', '168718423', '168775386', '168586445', '169016074', '168912092', '168935127', '168734734', '169001994', '168645883', '168534725', '168534724', '169035793', '168625186', '168993164', '64984677', '168604978', '168807221', '168632775', '168758367', '168994742', '168637324', '169031324', '168863820', '35094149', '168931958', '168756951', '168617097', '168840219', '168621769', '168753313', '168917836', '168602018', '168881660', '168586105', '116146656', '168715885', '168844256', '169012929', '168532825', '58318252', '169012922', '168748707', '168748700', '168882002', '168830473', '168688272', '168590604', '169008343', '168729138', '168908146', '168596291', '168945807', '168737820', '169248374', '168546686', '168998584', '168532896', '168591952', '168591957', '168770015', '168880957', '168538725', '168858929', '168868441', '168631041', '168534875', '168534873', '168973734', '168833297', '168631515', '168973080', '168678305', '169011476', '168545522', '168545256', '168542974', '168593008', '168916364', '168638639', '168959695', '168808886', '168774444', '168656242', '168995836', '168977435', '168814594', '168814596', '168814590', '168532098', '168618451', '168980928', '168980929', '168996038', '168641575', '168812855', '168721933', '168998678', '168721937', '168536739', '168769510', '168658654', '168812133', '168840698', '168872896', '168450800', '169037183', '168606137', '168774048', '168922031', '168698289', '168877540', '168619580', '168746852', '168555236', '168801646', '169201808', '169042662', '169042666', '168650084', '168920093', '168916146', '33807512', '168916143', '168958341', '168764399', '168807856', '168723477', '168657546', '169025515', '168654792', '168851283', '168622113', '168622111', '168898919', '168970788', '168992502', '168864251', '168711506', '169002649', '168666960', '168849078', '168910821', '168834960', '168858302', '168709111', '168984550', '168849073', '168911119', '168553991', '169247356', '168693237', '168539182', '168677300', '168836232', '168911116', '168598945', '168685671', '168785875', '168539670', '168535834', '168934688', '168637070', '168599098', '168850359', '168857438', '168580265', '168682149', '168964407', '168857435', '168985933', '168606603', '168858168', '168979703', '168732079', '168961085', '168858164', '168565798', '168732074', '169033543', '168903026', '168733656', '168876839', '168733658', '168533969', '168817732', '168876833', '168587279', '168677960', '168604116', '168780334', '168924268', '168923810', '168923540', '168954347', '168954346', '168924265', '168875564', '168756178', '168587844', '169021457', '169021451', '168724937', '167321843', '168922950', '169146220', '168830112', '168927510', '168690501', '168649951', '168673129', '168854071', '168565479', '168742176', '145891609', '168696020', '168894606', '168982995', '168582919', '169022677', '168636306', '168942396', '168918893', '6744211', '168763148', '168534264', '169022088', '168534269', '168856745', '52842313', '168830807', '168914390', '168340719', '168846063', '168843765', '168939799', '168926512', '169009505', '168851979', '168979564', '169009501', '169004820', '169030848', '169040986', '168986430', '168706459', '168706456', '169001522', '168646707', '168836958', '168981516', '168665873', '168993377', '168650963', '168531524', '168721342', '168531520', '168644963', '168870245', '168612169', '168792284', '168586638', '168878919', '168833396', '168810828', '168586631', '168866491', '168720232', '168866494', '168532959', '168889493', '168613572', '168653044', '168878915', '168926649', '168865280', '168922555', '168865285', '168812088', '168987140', '168913514', '169035300', '168849943', '168715504', '168920777', '168949162', '168820457', '168721163', '168820458', '168895895', '168826441', '168951433', '168980646', '169003697', '168912634', '168803260', '168953495', '169037650', '168847916', '168847918', '144822618', '168671075', '168881589', '168684299', '168811193', '168684297', '168787562', '168671079', '168881586', '168932766', '168671824', '168844933', '168535608', '168701105', '168757590', '168994352', '168701454', '168535606', '168535357', '168792757', '168921819', '168699830', '43550941', '168636934', '72337218', '168808527', '168597005', '168627766', '168814108', '168664059', '168608269', '169138449', '168909543', '168910096', '168867726', '169135163', '168825795', '168910098', '168279392', '168876794', '168878938', '168845172', '169036877', '169036874', '168792136', '168792131', '168685746', '16746370', '168962887', '168656479', '168924728', '168977666', '169002402', '168619445', '168935686', '168960951', '168827242', '168965350', '168582633', '168937276', '168722633', '168665182', '168907487', '168959768', '169026436', '168871079', '168929265', '168835978', '168822388', '168688730', '168777486', '168838494', '168827428', '168763026', '169023423', '168756366', '151291756', '168915603', '60973552', '168790288', '168626118', '165856266', '168915352', '168626111', '168896728', '168882802', '34251947', '168973942', '168668581', '168751376', '168916554', '168598467', '168916551', '167016089', '168678518', '168851745', '168596711', '168545754', '10302856', '168599177', '168727869', '168764283', '168780593', '168914677', '167295495', '169036577', '168719309', '168812647', '168865444', '168823097', '168860398', '168628527', '168823091', '168964335', '168775966', '168533770', '168586805', '168920170', '169034071', '168866939', '168785468', '168803489', '168931306', '168936902', '168785460', '168605432', '169028530', '168939160', '168936652', '168605437', '168783459', '168986886', '168849316', '168605348', '169038566', '169032971', '168697699', '168877827', '168823238', '169001753', '168751801', '168753557', '168683603', '168911852', '168787820', '168539248', '168533599', '168750998', '168908381', '168917542', '168539241', '168595390', '168685233', '168903861', '169002410', '169041003', '169029488', '169013659', '168920226', '168648646', '168889646', '168745691', '168834178', '169041911', '168848631', '168945179', '169028759', '168879872', '168903946', '168949028', '168903496', '168610069', '168890472', '168928390', '168677532', '168836405', '168627391', '168719551', '168884610', '168601083', '168972938', '169041913', '169006158', '169006408', '168537290', '168916016', '168902018', '168739891', '168972936', '168854953', '168531194', '168856005', '58410602', '169235675', '168609701', '168782277', '168839512', '168556766', '168989887', '168593164', '168853632', '168529838', '168824019', '168637306', '168853638', '168948195', '168846186', '168535039', '168707996', '168603006', '168530023', '168864471', '168725858', '168960306', '168935108', '168999908', '168580899', '34604667', '169020538', '168966221', '168531992', '168531991', '168744340', '168603484', '168985282', '168998320', '168665753', '168538468', '168927702', '168604916', '168535294', '168730720', '168881570', '168625016', '168819962', '168844989', '169027627', '169027622', '169015732', '168714044', '168634205', '168760534', '168900142', '168900143', '168550264', '168921709', '168590629', '168857998', '168735398', '168919932', '168540902', '168814305', '168951087', '168908127', '34037422', '168893129', '168612046', '168978801', '168978806', '162988279', '154367564', '89692904', '168532567', '169008494', '168717037', '168857995', '168585911', '168540200', '168847630', '168918447', '168766306', '168660584', '168550195', '168984629', '168896740', '168536012', '169014561', '168644406', '168961945', '168607251', '168631028', '168765132', '168580749', '169014563', '168990550', '168963144', '169022665', '168859366', '168532745', '168988860', '168656267', '168806955', '168613321', '168671172', '168656260', '168978006', '1062806', '168613328', '168868395', '168901315', '168879279', '169038015', '168953483', '168925622', '168735974', '168950666', '168536716', '168893257', '168845186', '168566353', '168566352', '168947075', '169010765', '168574816', '168653562', '168606162', '168877565', '168645894', '168952576', '168918184', '168750987', '168746871', '168827652', '168881645', '168849891', '168910404', '168709284', '168553226', '168817091', '168980017', '168693034', '168754607', '168605206', '168710784', '168845364', '168926826', '62986334', '169003310', '168923099', '168708527', '168708528', '168857637', '168569985', '168979546', '168711561', '168770291', '168774972', '168795719', '168694787', '168774792', '169095882', '168774978', '168698409', '168698408', '168533381', '169039770', '168702711', '168896570', '168534334', '168643973', '168604752', '168592575', '168595701', '168604284', '168853571', '169035370', '169200449', '168600441', '168852262', '168669570', '168991310', '168746251', '168746253', '168768156', '168857184', '168544364', '168746259', '168681862', '168875407', '168979722', '168608427', '168608422', '169038791', '168809803', '168655532', '168989052', '168655536', '169038799', '168618653', '168577357', '168758976', '168878689', '168876812', '168873206', '169029831', '168878688', '168987545', '169029836', '169029834', '168659793', '168835162', '169006096', '168960156', '168999021', '168813043', '168969301', '168813041', '168613763', '168875545', '168722327', '168875541', '168996093', '150738046', '168790495', '168974496', '80067187', '168811627', '168887735', '168716034', '168716789', '168935831', '168529683', '169012241', '169012244', '168983592', '168359338', '168625247', '168606952', '168742407', '168742158', '168792145', '168829960', '168898065', '168796540', '168950436', '168898793', '168593627', '168939970', '168972895', '168605080', '168848877', '168848876', '168715399', '169004944', '168534245', '169007419', '168644188', '168587219', '169010788', '168540488', '168766664', '168762563', '168635791', '168676582', '168902978', '168530906', '169009521', '168848917', '168796761', '168538711', '31407570', '168986141', '168591704', '168634849', '168867278', '168691782', '168584544', '168634842', '168691788', '168650947', '168937842', '168649277', '168728236', '168860987', '168928703', '168787031', '67432803', '168815834', '168984367', '168786946', '168770049', '169029643', '168992407', '168612100', '168629540', '168653708', '168922536', '168691256', '168982375', '168881072', '168724424', '168729961', '168776534', '168830396', '168636066', '168714253', '168741320', '168885956', '168754245', '168922283', '168761035', '168922280', '168713671', '168664210', '168750510', '168870104', '168760688', '22553457', '34166008', '168817766', '168603541', '168649852', '168872878', '168639025', '168660914', '168544284', '168631237', '169031023', '168686366', '168976730', '169031686', '168894833', '169003413', '168814120', '168664071', '168781235', '169016620', '168918668', '168587846', '168878355', '168927939', '168643742', '168855117', '168789252', '168996292', '169030515', '168757430', '168867748', '168945218', '168934594', '168829682', '168951142', '169027162', '168720230', '168614422', '168619460', '168924876', '168746408', '168924703', '168656458', '168920407', '168683662', '168727010', '168643602', '168921573', '168582657', '168715120', '168737701', '168989334', '168941847', '168953367', '168941842', '169026149', '168989338', '168638771', '168685095', '168685090', '168683199', '168638779', '168893822', '168598390', '165101261', '168711956', '168756345', '168666517', '168983614', '168713118', '168760074', '168748053', '168983298', '168919137', '168540105', '168826498', '169039984', '168936889', '168681591', '168894581', '168644215', '168860217', '168574961', '168743068', '169011757', '168710315', '168549495', '168830915', '168804123', '168822705', '168549498', '168991126', '168764517', '112288352', '168541677', '168774585', '66862109', '168933904', '168858644', '168674647', '168764518', '169022036', '168974004', '168577703', '168930189', '168683996', '168631824', '168752634', '168795133', '168958458', '168950434', '168925476', '168934745', '168775984', '168950432', '168654320', '168870321', '168661795', '168867549', '168573465', '169025144', '168785441', '168818000', '168936926', '168969339', '168622092', '169017576', '168705819', '169038589', '168613684', '169032959', '168949220', '168949226', '168767894', '168836373', '168836377', '168560832', '168888069', '168592497', '168686019', '168543290', '168881810', '168895058', '169013671', '168845424', '168938091', '168712030', '168983292', '168947536', '168832255', '168833262'])"
      ]
     },
     "execution_count": 26,
     "metadata": {},
     "output_type": "execute_result"
    }
   ],
   "source": [
    "loyal_users1"
   ]
  },
  {
   "cell_type": "code",
   "execution_count": 27,
   "metadata": {},
   "outputs": [
    {
     "data": {
      "text/plain": [
       "28844"
      ]
     },
     "execution_count": 27,
     "metadata": {},
     "output_type": "execute_result"
    }
   ],
   "source": [
    "# set method: s.difference(t) returns a new set with elements in s but not in t\n",
    "churn1 = active_before1.difference(active_after1)\n",
    "len(churn1)"
   ]
  },
  {
   "cell_type": "code",
   "execution_count": 28,
   "metadata": {},
   "outputs": [
    {
     "data": {
      "text/plain": [
       "14112"
      ]
     },
     "execution_count": 28,
     "metadata": {},
     "output_type": "execute_result"
    }
   ],
   "source": [
    "new_users1 = active_after1.difference(active_before1)\n",
    "len(new_users1)"
   ]
  },
  {
   "cell_type": "code",
   "execution_count": null,
   "metadata": {
    "collapsed": true
   },
   "outputs": [],
   "source": []
  }
 ],
 "metadata": {
  "kernelspec": {
   "display_name": "python27",
   "language": "python",
   "name": "python27"
  },
  "language_info": {
   "codemirror_mode": {
    "name": "ipython",
    "version": 2
   },
   "file_extension": ".py",
   "mimetype": "text/x-python",
   "name": "python",
   "nbconvert_exporter": "python",
   "pygments_lexer": "ipython2",
   "version": "2.7.14"
  }
 },
 "nbformat": 4,
 "nbformat_minor": 2
}
